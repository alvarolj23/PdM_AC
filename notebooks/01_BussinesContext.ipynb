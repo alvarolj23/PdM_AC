{
 "cells": [
  {
   "cell_type": "markdown",
   "metadata": {
    "colab_type": "text",
    "id": "view-in-github"
   },
   "source": [
    "<a href=\"https://colab.research.google.com/github/alvarolj23/brujulaDataScientist/blob/main/01_BussinesContext.ipynb\" target=\"_parent\"><img src=\"https://colab.research.google.com/assets/colab-badge.svg\" alt=\"Open In Colab\"/></a>"
   ]
  },
  {
   "cell_type": "markdown",
   "metadata": {
    "id": "Q5YyTCBmGLMI"
   },
   "source": [
    "# **Business Context**\n"
   ]
  },
  {
   "cell_type": "markdown",
   "metadata": {
    "id": "Vb2wsgvzsceX"
   },
   "source": [
    "Europe based air compressor manufacturers face harder competition from emerging countries based companies. \n",
    "To counter these competitors, they seek to improve predictability of failure and need for maintenance of the machinery they produce and sell.\n",
    "\n",
    "Their key business objectives by evolving towards a predictive maintenance capability are:\n",
    "*   To augment their maintenance service profitability, by right-sizing their technical intervention workforce *(field service engineers, coordination & planning officers)* and stocks *(capacity & locations)*;\n",
    "*   To optimize their maintenance service contracts' profitability level, by adapting their maintenance cycles based on clients' actual field context, use frequency and conditions, real-time wear input;\n",
    "*   To increase clients' trust in their quality products by increasing the products reliability, predicting and timely intervene before machinery breakage occurs, preventing avoidable operations impact on their clients' business.\n",
    "\n",
    "**Roadmap and key milestones**\n",
    "As they already have a whole set of sensors built-in in many of their products,achieving a **Predictive Mmaintenance Capability is** identified as the **1st keymilestone** on their roadmap.\n",
    "\n",
    "In a parallel track, they conduct actions for the **optimization of their workforce and stocks**. There are so many factors involved in it, that the road to true optimization is hard and complex. Key factors identified as key are:\n",
    "*   Travel conditions: traffic on roads, client site accessibility, distances *(their base locations <=> client locations <=> stock locations)*, weather, ...\n",
    "*   Constraints of their field service technicians: availability, performance, motivation, knowledge, experience, ...\n",
    "*   Information provision & accessibility *(equipment: asset & configuration information, historical data; knowledge libraries access; ...)*\n",
    "*   and more...\n",
    "\n",
    "These 2 key milestones are the biggest basis for enabling the optimization of the maintenance service contracts. However, data on the business agreements are another set of key elements such as:\n",
    "*   Contract service data: service period, coverage type, service cycles, next renewal, penalties, rebates, ...\n",
    "*   Financial data: standard and actual service pricing, TCO against service contracts, profitability calculations, ...\n",
    "\n",
    "**Conclusion**: the data inputs required to achieve the business goals, are tremendous in variety, size and potential risk of accuracy & completeness."
   ]
  },
  {
   "cell_type": "markdown",
   "metadata": {
    "id": "UGjijrFFPgjT"
   },
   "source": [
    "## Scope and objectives\n",
    "\n"
   ]
  },
  {
   "cell_type": "markdown",
   "metadata": {
    "id": "dq8bkN54snqX"
   },
   "source": [
    "The extent of the achieving the Predictive Maintenance Capability would require more time, efforts, investments and data input than available today.\n",
    "Therefore, the present project's **scope is limited** to the generation of a theoretical basis for the predictive maintenance on a subset of factors for an air compressor.\n",
    "\n",
    "As this project is conducted without support from manufacturers, the **biggest  constraints** faced are the **absence of actual full data on compressors'** sensing capabilities, and the **unavailability of historical field data**.\n",
    "To enable this project, a specific aire compressor type of Atlas Copco has been selected and is considered in scope of the project.\n",
    "\n",
    "As per all of the above, this **project will be fed mostly with dummy data** based on accessible data sources scattered throughout the internet.\n",
    "To enhance representitiveness of the dummy data, advanced engineers in mechincal engineering will review the data against their field experiences.\n",
    "The final outcome is to identify the procedure to set up predictive maintenance for such air compressor, from a data perspective.\n",
    "\n",
    "**The focus will be set on \"Oil-lubricated screw compressor G (VSD) & GX.  --->  G7-22\"**    \n",
    "\n",
    "\n",
    "| Technical specification|  |\n",
    "| --- | --- |\n",
    "| Capacity FAD l/s | 4 l/s - 60,2 l/s  |\n",
    "| Working pressure | 7,4 bar(e) - 13 bar(e) |\n",
    "| Installed motor power | 2,2 kW - 22 kW |\n",
    "| Capacity FAD | 14,4 m³/h - 119,3 m³/h |\n",
    "\n",
    "**Objectives of the present project** are: \n",
    "\n",
    "1. Study how predictive maintenance works for the compressor type\n",
    "2. Identify the variables to consider and track\n",
    "3. Generate an algorithm to predict need for maintenance and prevent failure\n",
    "4. Predict compressor’s remaining further operating capacity"
   ]
  },
  {
   "cell_type": "markdown",
   "metadata": {
    "id": "uxdn3sYMdrx3"
   },
   "source": [
    "\n",
    "### Purposes of data science for the compressors \n",
    "As mentioned in the business context chapter the following criteria are subject to data science\n",
    "- Performance vs wear (aging related)\n",
    "  - Predict highest probability of (next) breakdown\n",
    "  - Predict right time for preventive maintenance\n",
    "- Interventions\n",
    "  - Avoid unnecessary interventions\n",
    "  - Optimize technicians interventions (in scheduling & at optimized cost)\n",
    "- Stocks optimization\n",
    "  - Reduce average stock cost, by preventing unnecessary spare stock (c.q. \"spares offer\") surplus through needs forecasting capability (c.q. \"spares demand\")\n",
    "  - Right-sizing stock locations (in capacity) \n",
    "- Maintenance contract profitability optimization\n",
    "  - Avoid potential penalties & high costs related to incident resolution actions, by reducing risk breakdown through timely detection and prediction\n",
    "  - Reduce average cost of intervention within contract through optimized maintenance interventions (people, stock, travel, ...)\n",
    "\n"
   ]
  },
  {
   "cell_type": "markdown",
   "metadata": {
    "id": "bn__Cp11w97O"
   },
   "source": [
    "<p align=\"center\">\n",
    "  <img width=\"460\" height=\"500\" src=\"https://miro.medium.com/max/1400/1*hpvbGnXYvhZp1RPJfoZD2A.png\">\n",
    "</p>\n",
    "\n"
   ]
  },
  {
   "cell_type": "markdown",
   "metadata": {
    "id": "jIOj9mtZxd0H"
   },
   "source": [
    "## **Solutions to Predictive Maintenance problem**\n",
    "\n",
    "1. Historical data is available\n",
    "  1. Obtain Remaining Useful Life (Regression)\n",
    "  2. Predict if compressor will fail in the next X hours\n",
    "  3. Time-series\n",
    "2. No-historical data available\n",
    "  1. Anomaly detection"
   ]
  },
  {
   "cell_type": "markdown",
   "metadata": {
    "id": "4Jg5JsGnc1cp"
   },
   "source": [
    "### Historical data is available"
   ]
  },
  {
   "cell_type": "markdown",
   "metadata": {
    "id": "lK3MFWGoV_yF"
   },
   "source": [
    "#### Obtain Remaining Useful Life"
   ]
  },
  {
   "cell_type": "markdown",
   "metadata": {
    "id": "VrBCtkvHxd0J"
   },
   "source": [
    "\n",
    "\n",
    "Remaining useful life (RUL) is the length of time a machine is likely to operate before it requires repair or replacement. By taking RUL into account, engineers can schedule maintenance, optimize operating efficiency, and avoid unplanned downtime. For this reason, estimating RUL is a top priority in predictive maintenance programs.\n",
    "    \n",
    "The method used to calculate RUL depends on the kind of data available:\n",
    "\n",
    "1. Lifetime data indicating how long it took for similar machines to reach failure\n",
    "2. Run-to-failure histories of machines similar to the one you want to diagnose\n",
    "3. A known threshold value of a condition indicator that detects failure\n",
    "\n",
    "<p align=\"center\">\n",
    "  <img width=\"460\" height=\"230\" src=\"https://www.mathworks.com/company/newsletters/articles/three-ways-to-estimate-remaining-useful-life-for-predictive-maintenance/_jcr_content/mainParsys/image_0_copy_copy_co_1127560020.adapt.480.medium.jpg/1566909947025.jpg\">\n",
    "</p>\n",
    "\n",
    "\n",
    "\n",
    "\n",
    "\n"
   ]
  },
  {
   "cell_type": "markdown",
   "metadata": {
    "id": "wRrm4IP5ctDm"
   },
   "source": [
    "**It would be needed a dataset with:**\n",
    "\n",
    "For each cycle:\n",
    "- Data collected from sensors.\n",
    "- Operating settings.\n",
    "\n",
    "It is needed to have some historical data of the number of cycles which the machine lived and the value of the variables mentioned before for each cycle.\n",
    "\n",
    "Then RUL is calculated as (Total number of cycles - current cycle)"
   ]
  },
  {
   "cell_type": "markdown",
   "metadata": {
    "id": "ZMtf1856WUX1"
   },
   "source": [
    "\n",
    "***Solution: Feature importance***\n",
    "\n",
    "Implement Regressor and see how much the different variables (meassured by sensors) affect the RUL.\n",
    "\n",
    "\n",
    "\n",
    "*   RandomForest regressor\n",
    "*   Elastic Net GLM\n",
    "*   Support Vector Machines\n",
    "*   Gradient Boosting\n",
    "\n",
    "Ref: https://www.kaggle.com/billstuart/predictive-maintenance-ml-iiot\n"
   ]
  },
  {
   "cell_type": "markdown",
   "metadata": {
    "id": "JHDvI-rcdpE3"
   },
   "source": [
    "![](https://drive.google.com/uc?export=view&id=1LH0okRD1iO904o-647VtFW680U3F0jBG)  "
   ]
  },
  {
   "cell_type": "markdown",
   "metadata": {
    "id": "gaOqyMKmu5ae"
   },
   "source": [
    "#### Predict if compressor will fail in the next X hours"
   ]
  },
  {
   "cell_type": "markdown",
   "metadata": {
    "id": "BPlJwx9svfvK"
   },
   "source": [
    "It's defined a period X, with number of hours that is dessired to detect a failure in advance. Then the different datapoints are classified in:\n",
    "\n",
    "MLP (binary approach):\n",
    "\n",
    "- 0 means: there will be no failure (machine status \"NORMAL\")\n",
    "- 1 means: there will be a compressor failure within the period X defined (machine status \"BROKEN\"/\"RECOVERING\").\n",
    "\n",
    "**It would be needed a dataset with:**\n",
    "\n",
    "- State of the machine\n",
    "- Failure History: The failure history of a machine or component within the machine.\n",
    "- Maintenance History: The repair history of a machine, for example, error codes, previous maintenance activities, or component replacement.\n",
    "- Conditions and use of machines: The operating conditions of a machine, for example, data collected from sensors.\n",
    "- Machine characteristics: The characteristics of a machine, for example, engine size, make and model, age.\n",
    "\n",
    "\n",
    "\n",
    "With the state of the machines we can obtain:\n",
    "\n",
    "- Duration of the Recovering (maintenance) phase\n",
    "- Classify in compressor state (NORMAL, BROKEN, RECOVERING...)\n",
    "\n",
    "\n",
    "\n",
    "***Solution: Classification algorithms***\n",
    "\n",
    "- XBOOST: https://www.kaggle.com/josegzz/predictive-maintenance-connect-siscti/data?select=PdM_failures.csv\n",
    "- CNN: https://towardsdatascience.com/predictive-maintenance-detect-faults-from-sensors-with-cnn-6c6172613371\n",
    "\n",
    "\n",
    "Ref: https://www.kaggle.com/juebrauer/predicting-pump-failure-with-a-mlp"
   ]
  },
  {
   "cell_type": "markdown",
   "metadata": {
    "id": "xjXdNYOIdy4c"
   },
   "source": [
    "![](https://drive.google.com/uc?export=view&id=1jfkbJ2vlRFfPw6XyisB82unMC406itk3)"
   ]
  },
  {
   "cell_type": "markdown",
   "metadata": {
    "id": "JTUKCb9Cb6fJ"
   },
   "source": [
    "#### Time-series"
   ]
  },
  {
   "cell_type": "markdown",
   "metadata": {
    "id": "v2CsHvVrcMXD"
   },
   "source": [
    "The predictive maintenance problem can be resolved using a time-series approach. Compressor behaviour at future stages can be assumed related to the previous states. Lagged data can be created for this purpose. \n",
    "\n",
    "**It would be needed a dataset with:**\n",
    "\n",
    "- Data collected from sensors.\n",
    "- State of the machine\n",
    "\n",
    "State of the machine could be: shutdown, normal operation, recovering, etc."
   ]
  },
  {
   "cell_type": "markdown",
   "metadata": {
    "id": "R1QUBIxZfaEj"
   },
   "source": [
    "***Solution: Time-series algorithms***"
   ]
  },
  {
   "cell_type": "markdown",
   "metadata": {
    "id": "iqmIkeQxfgcg"
   },
   "source": [
    "- ARIMA\n",
    "- RNN (LSTM) "
   ]
  },
  {
   "cell_type": "markdown",
   "metadata": {
    "id": "EVyDODtGc1cq"
   },
   "source": [
    "### No-historical data available"
   ]
  },
  {
   "cell_type": "markdown",
   "metadata": {
    "id": "nb-wE03Wxd0L"
   },
   "source": [
    "#### Unsupervised: Anomaly detection"
   ]
  },
  {
   "cell_type": "markdown",
   "metadata": {
    "id": "Kt2TEPOHxd0L"
   },
   "source": [
    "When we work with sensors (as in the case of compressors) the number of \"normal\" data (without anomaly / failure) that we have is usually very high, so if we raised the problem as a supervised problem, we would have very unbalanced classes (bad idea, almost certainly doomed to failure). For this reason, it is usually posed as an unsupervised problem, in which the algorithm learns the \"normal\" class, and everything else is treated as something \"abnormal\" (anomaly, failure, stop, etc.)"
   ]
  },
  {
   "cell_type": "markdown",
   "metadata": {
    "id": "-almXMWdxd0L"
   },
   "source": [
    "For the algorithms we can use any unsupervised algorithm that allows to detect clusters: \n",
    "\n",
    "- From a simple PCA\n",
    "- Gaussian mixture model\n",
    "- More sophisticated models such as a Deep Autoencoder. \n",
    "\n",
    "With recurring networks we can do the same, using the sequence-to-sequence architecture (which is still an encoder-decoder architecture)."
   ]
  },
  {
   "cell_type": "markdown",
   "metadata": {
    "id": "L8fwT7Zpxd0L"
   },
   "source": [
    "The idea is therefore to train the model with the normal data only. To do this, we have to work hand in hand with someone who knows the compressor very well, and tells you which periods to filter. Then we train the model to learn the normal behavior of the compressor, and detect as non-normal anything that comes out of there. It is critical, therefore, that everything that can be considered an anomaly (a programmed shutdown, a failure, or other things) is filtered very well.\n",
    "\n",
    "Ref: https://aws.amazon.com/es/lookout-for-equipment/"
   ]
  },
  {
   "cell_type": "markdown",
   "metadata": {
    "id": "VVv3rwVcqS2y"
   },
   "source": [
    "# Information from AC\n",
    "\n",
    "\n",
    "\n"
   ]
  },
  {
   "cell_type": "markdown",
   "metadata": {
    "id": "ZoxlB75NuVqM"
   },
   "source": [
    "To understand how real compressor data looks like, one client has provided sample real data for few of their compressors. \n",
    "\n",
    "This data will be compared with the dummy data scattered in the internet."
   ]
  },
  {
   "cell_type": "markdown",
   "metadata": {
    "id": "9YE_ezFSVe7S"
   },
   "source": [
    "### Compressor type: Eletronikon (MK5)"
   ]
  },
  {
   "cell_type": "markdown",
   "metadata": {
    "id": "F9pRpap-sumw"
   },
   "source": [
    "Type of data collected by the Eletronikon (MK5). All pressure measurements are done with pressure transducer and temperature measurements with PT1000 and sometimes PT100 for motor windings and bearings. Below are the data collected by the Eletronikon to monitor the compressor :\n",
    "\n",
    "\n",
    "*   outlet pressure\n",
    "*   oil pressure\n",
    "*   inter & aftercooler pressure\n",
    "*   outlet compressor temperature\n",
    "*   outlet elements (HP & LP) tempertature\n",
    "*   temperature of cooling water (inlet & outlet)\n",
    "*   oil temperature\n",
    "*   motor windings and bearings temperature\n",
    "*   inter & aftercooler level switch => I think these are magnetic level switches\n"
   ]
  },
  {
   "cell_type": "markdown",
   "metadata": {
    "id": "grHy5wW02QOT"
   },
   "source": [
    "**Service plan**\n",
    "\n",
    "[AC Service Plan](https://drive.google.com/file/d/144yBKaCwSmGaHffXKABeDkQUFTb8G_Wc/view?usp=sharing)\n"
   ]
  },
  {
   "cell_type": "markdown",
   "metadata": {
    "id": "xILB367IsNoN"
   },
   "source": [
    "### Data used for their predictive maintenance plans\n"
   ]
  },
  {
   "cell_type": "markdown",
   "metadata": {
    "id": "c-6gB_tgyIJH"
   },
   "source": [
    "\n",
    "- MK5 records the remaining Real Time Hours until the next service \n",
    "- The service plan can be directly show on the MK5 and is different based on the machine type (oil injected / oil free). Examples of predictive maintenance plans : safety valve test, regreassing, drain test \n",
    "- Regular service operation below"
   ]
  },
  {
   "cell_type": "markdown",
   "metadata": {
    "id": "LgiJdJZUeMep"
   },
   "source": [
    "![](https://drive.google.com/uc?export=view&id=1Q9ENNNnQquajdbnpCML3LzD1Jjr3o8WI)"
   ]
  },
  {
   "cell_type": "markdown",
   "metadata": {
    "id": "08puACjqv6X9"
   },
   "source": [
    "There are also servicing procedures to \n",
    "- Put a new air inlet filter\n",
    "- Change oil filter (oil level can be checked directly on the machine)\n",
    "- Check settings of the safety valves : this can be done only on a separate compressed air line. Customer can then test if safety valves open at 3.7barg (as example for low pressure) and 11 barg (as example for high pressure)"
   ]
  },
  {
   "cell_type": "markdown",
   "metadata": {
    "id": "gq5JytimwHT_"
   },
   "source": [
    "### Problem solving table\n"
   ]
  },
  {
   "cell_type": "markdown",
   "metadata": {
    "id": "PUjOilFbeT5M"
   },
   "source": [
    "![](https://drive.google.com/uc?export=view&id=1kMK_ThLHvk7KAGgf_agbVhhyOHtUz8x9)"
   ]
  },
  {
   "cell_type": "markdown",
   "metadata": {
    "id": "8yZfoqmwxxrH"
   },
   "source": [
    "- AC can also monitor remotely their compressors at customer's site with the Smartlink option\n",
    "- All instructions for the maintenance are provided at then end of the project in the Instructions Book\n",
    "- CTS service is dedicated to resolve issues on customer's site\n",
    "- they offer also a service plan (see OneDrive) with different levels of services."
   ]
  },
  {
   "cell_type": "markdown",
   "metadata": {
    "id": "9vD0C2S3yYky"
   },
   "source": [
    "### Sensors in ZE/ZA machines\n"
   ]
  },
  {
   "cell_type": "markdown",
   "metadata": {
    "id": "Z406bUnwiQne"
   },
   "source": [
    "1) Temperature sensors (Ambient °, T ° in element, Exhaust temperature, Oil temperature,)\n",
    "\n",
    "2) Pressure sensors (exhaust, air filter (to measure the condition of the air filter), oil pressure)\n",
    "\n",
    "3) Oil level indicator\n",
    "\n",
    "4) Counters -> number of cycles until parts are replaced (oil filter, oil itself, bearings, ...)\n",
    "\n",
    "5) Speed sensors for motor\n",
    "\n",
    "6) SPMs for vibration in motor / bearings\n",
    "\n",
    "7) temperature in bearings\n",
    "\n",
    " \n",
    "\n",
    "For maintenance I only know about the counters that count the number of cycles until something needs to be replaced and the pressure sensor for the inlet filter"
   ]
  },
  {
   "cell_type": "markdown",
   "metadata": {
    "id": "8iY085bPz3vZ"
   },
   "source": [
    "| Variable to be tracked|  Sensor | Magnitudes |\n",
    "| --- | --- |  --- |\n",
    "| Ambient temperature| ---|---| \n",
    "| Interior compressor temperature|---|---| \n",
    "| Oil temperature|---|---|\n",
    "| Exhaust temperature|---|---|\n",
    "| Outlet elements High Pressure temperature|---|---|\n",
    "| Outlet elements Low Pressure temperature|---|---|\n",
    "| Inlet cooling water temperature|---|---|\n",
    "| Outlet cooling water temperature|---|---|\n",
    "| Motor Bearings temperature | --- |  --- |\n",
    "| Motor Windings temperature | --- |  --- |\n",
    "| Oil pressure | --- |  --- |\n",
    "| Air inlet filter pressure | --- |  Condition of the air filter |\n",
    "| Air outlet filter pressure | --- |  Condition of the air filter |\n",
    "| Exhaust pressure | --- |  --- |\n",
    "| Intercooler pressure | --- |  --- |\n",
    "| Aftercooler pressure | --- |  --- |\n",
    "| Oil level indicator | --- |  --- |\n",
    "| Intercooler level switch | --- |  --- |\n",
    "| Aftercooler level switch | --- |  --- |\n",
    "| Oil counter  | --- |  --- |\n",
    "| Oil filter counter  | --- |  --- |\n",
    "| Bearings counter  | --- |  --- |\n",
    "| Motor speed  | --- |  --- |\n",
    "| SPMs vibration motor | --- |  --- |\n",
    "| SPMs vibration bearings | --- |  --- |\n",
    "\n",
    "\n"
   ]
  },
  {
   "cell_type": "markdown",
   "metadata": {
    "id": "gZtHz2TqgVvE"
   },
   "source": [
    "### Data from AC"
   ]
  },
  {
   "cell_type": "markdown",
   "metadata": {
    "id": "lQIw-cvfgnOb"
   },
   "source": [
    "Sample data has been shared by AC. From their Smartlink platform they can access to both historical and real data for the compressors with connectivity to this platform. It allows to obtain data from all compressors worldwide that are connected to a network. \n",
    "\n",
    "Depending on the unit itself, a number of data points can be read, in this case 49. The frequency of data points depends on the service contract that the customer has with AC, in the best case this is a High Data service, then more often data outputted. Due to costs, this is not done for all units, this would cost 7 million extra per year according to contact person.\n",
    "\n",
    "The sample data will be plotted so we can understand how it looks like."
   ]
  },
  {
   "cell_type": "markdown",
   "metadata": {
    "id": "WgqrxiZpl7VM"
   },
   "source": [
    "![](https://drive.google.com/uc?export=view&id=1Gyfi-umyRKlvF7Gmvkexi0ceF-BqRXuN)    \n",
    "\n"
   ]
  },
  {
   "cell_type": "markdown",
   "metadata": {
    "id": "zzs-NzLUrJRD"
   },
   "source": [
    "![](https://drive.google.com/uc?export=view&id=1Gyfi-umyRKlvF7Gmvkexi0ceF-BqRXuN) "
   ]
  },
  {
   "cell_type": "markdown",
   "metadata": {
    "id": "W5JmlAjzrTaL"
   },
   "source": [
    "\n",
    "![](https://drive.google.com/uc?export=view&id=1aUgpC9L0Nt8ZsgEmDfFXK7FuBcaJfhew) "
   ]
  },
  {
   "cell_type": "code",
   "execution_count": 8,
   "metadata": {
    "id": "DvpfopXNwI5P"
   },
   "outputs": [],
   "source": [
    "import pandas as pd\n",
    "from matplotlib import pyplot as plt"
   ]
  },
  {
   "cell_type": "code",
   "execution_count": 2,
   "metadata": {
    "id": "b2PCox3lpg6Y"
   },
   "outputs": [],
   "source": [
    "pd.set_option('display.max_columns', None)\n",
    "pd.set_option('display.max_rows', None)"
   ]
  },
  {
   "cell_type": "code",
   "execution_count": 4,
   "metadata": {
    "id": "s_DmphuwilfM"
   },
   "outputs": [],
   "source": [
    "smartlink_df = pd.read_csv('data/Measurement_points_for_SAUDI ARAMCO_2021-04-07-09-25-22.csv')"
   ]
  },
  {
   "cell_type": "code",
   "execution_count": 5,
   "metadata": {
    "colab": {
     "base_uri": "https://localhost:8080/"
    },
    "id": "rxddIFOTgVvF",
    "outputId": "0e0f4150-c997-4162-c77c-68109176ef22"
   },
   "outputs": [
    {
     "data": {
      "text/plain": [
       "Index(['Measurement Point', 'Machine Time', 'Value', 'Unit'], dtype='object')"
      ]
     },
     "execution_count": 5,
     "metadata": {},
     "output_type": "execute_result"
    }
   ],
   "source": [
    "smartlink_df.columns"
   ]
  },
  {
   "cell_type": "code",
   "execution_count": 6,
   "metadata": {
    "colab": {
     "base_uri": "https://localhost:8080/"
    },
    "id": "dfdt-d5igVvF",
    "outputId": "f338c793-5769-40dd-97b9-baf516c0a6f5"
   },
   "outputs": [
    {
     "data": {
      "text/html": [
       "<div>\n",
       "<style scoped>\n",
       "    .dataframe tbody tr th:only-of-type {\n",
       "        vertical-align: middle;\n",
       "    }\n",
       "\n",
       "    .dataframe tbody tr th {\n",
       "        vertical-align: top;\n",
       "    }\n",
       "\n",
       "    .dataframe thead tr th {\n",
       "        text-align: left;\n",
       "    }\n",
       "\n",
       "    .dataframe thead tr:last-of-type th {\n",
       "        text-align: right;\n",
       "    }\n",
       "</style>\n",
       "<table border=\"1\" class=\"dataframe\">\n",
       "  <thead>\n",
       "    <tr>\n",
       "      <th></th>\n",
       "      <th colspan=\"8\" halign=\"left\">Value</th>\n",
       "    </tr>\n",
       "    <tr>\n",
       "      <th></th>\n",
       "      <th>count</th>\n",
       "      <th>mean</th>\n",
       "      <th>std</th>\n",
       "      <th>min</th>\n",
       "      <th>25%</th>\n",
       "      <th>50%</th>\n",
       "      <th>75%</th>\n",
       "      <th>max</th>\n",
       "    </tr>\n",
       "    <tr>\n",
       "      <th>Measurement Point</th>\n",
       "      <th></th>\n",
       "      <th></th>\n",
       "      <th></th>\n",
       "      <th></th>\n",
       "      <th></th>\n",
       "      <th></th>\n",
       "      <th></th>\n",
       "      <th></th>\n",
       "    </tr>\n",
       "  </thead>\n",
       "  <tbody>\n",
       "    <tr>\n",
       "      <th>Cooling water out temp</th>\n",
       "      <td>89.0</td>\n",
       "      <td>18.796629</td>\n",
       "      <td>3.282130</td>\n",
       "      <td>7.90</td>\n",
       "      <td>18.10</td>\n",
       "      <td>18.50</td>\n",
       "      <td>19.50</td>\n",
       "      <td>33.10</td>\n",
       "    </tr>\n",
       "    <tr>\n",
       "      <th>Element 1 outlet temp</th>\n",
       "      <td>89.0</td>\n",
       "      <td>64.752809</td>\n",
       "      <td>7.369009</td>\n",
       "      <td>40.60</td>\n",
       "      <td>62.20</td>\n",
       "      <td>63.00</td>\n",
       "      <td>65.30</td>\n",
       "      <td>120.20</td>\n",
       "    </tr>\n",
       "    <tr>\n",
       "      <th>Machine Service State</th>\n",
       "      <td>0.0</td>\n",
       "      <td>NaN</td>\n",
       "      <td>NaN</td>\n",
       "      <td>NaN</td>\n",
       "      <td>NaN</td>\n",
       "      <td>NaN</td>\n",
       "      <td>NaN</td>\n",
       "      <td>NaN</td>\n",
       "    </tr>\n",
       "    <tr>\n",
       "      <th>Outlet Pressure</th>\n",
       "      <td>89.0</td>\n",
       "      <td>488.902809</td>\n",
       "      <td>4551.870946</td>\n",
       "      <td>5.99</td>\n",
       "      <td>6.17</td>\n",
       "      <td>6.38</td>\n",
       "      <td>6.58</td>\n",
       "      <td>42948.67</td>\n",
       "    </tr>\n",
       "    <tr>\n",
       "      <th>Outlet Temperature</th>\n",
       "      <td>89.0</td>\n",
       "      <td>30.439326</td>\n",
       "      <td>3.160071</td>\n",
       "      <td>18.80</td>\n",
       "      <td>28.80</td>\n",
       "      <td>30.80</td>\n",
       "      <td>32.60</td>\n",
       "      <td>35.30</td>\n",
       "    </tr>\n",
       "    <tr>\n",
       "      <th>Running hours</th>\n",
       "      <td>95.0</td>\n",
       "      <td>22119.600000</td>\n",
       "      <td>201.321718</td>\n",
       "      <td>21798.00</td>\n",
       "      <td>21930.50</td>\n",
       "      <td>22116.00</td>\n",
       "      <td>22297.00</td>\n",
       "      <td>22454.00</td>\n",
       "    </tr>\n",
       "    <tr>\n",
       "      <th>Time to next service</th>\n",
       "      <td>94.0</td>\n",
       "      <td>0.000000</td>\n",
       "      <td>0.000000</td>\n",
       "      <td>0.00</td>\n",
       "      <td>0.00</td>\n",
       "      <td>0.00</td>\n",
       "      <td>0.00</td>\n",
       "      <td>0.00</td>\n",
       "    </tr>\n",
       "  </tbody>\n",
       "</table>\n",
       "</div>"
      ],
      "text/plain": [
       "                       Value                                                 \\\n",
       "                       count          mean          std       min       25%   \n",
       "Measurement Point                                                             \n",
       "Cooling water out temp  89.0     18.796629     3.282130      7.90     18.10   \n",
       "Element 1 outlet temp   89.0     64.752809     7.369009     40.60     62.20   \n",
       "Machine Service State    0.0           NaN          NaN       NaN       NaN   \n",
       "Outlet Pressure         89.0    488.902809  4551.870946      5.99      6.17   \n",
       "Outlet Temperature      89.0     30.439326     3.160071     18.80     28.80   \n",
       "Running hours           95.0  22119.600000   201.321718  21798.00  21930.50   \n",
       "Time to next service    94.0      0.000000     0.000000      0.00      0.00   \n",
       "\n",
       "                                                      \n",
       "                             50%       75%       max  \n",
       "Measurement Point                                     \n",
       "Cooling water out temp     18.50     19.50     33.10  \n",
       "Element 1 outlet temp      63.00     65.30    120.20  \n",
       "Machine Service State        NaN       NaN       NaN  \n",
       "Outlet Pressure             6.38      6.58  42948.67  \n",
       "Outlet Temperature         30.80     32.60     35.30  \n",
       "Running hours           22116.00  22297.00  22454.00  \n",
       "Time to next service        0.00      0.00      0.00  "
      ]
     },
     "execution_count": 6,
     "metadata": {},
     "output_type": "execute_result"
    }
   ],
   "source": [
    "smartlink_df.groupby('Measurement Point').describe()"
   ]
  },
  {
   "cell_type": "code",
   "execution_count": 9,
   "metadata": {
    "colab": {
     "base_uri": "https://localhost:8080/",
     "height": 810
    },
    "id": "dXCy67PqgVvF",
    "outputId": "9816edf8-08d2-4feb-a2b4-63d509a3d099"
   },
   "outputs": [
    {
     "data": {
      "image/png": "[encoded data removed]",
      "text/plain": [
       "<Figure size 1800x1440 with 5 Axes>"
      ]
     },
     "metadata": {
      "needs_background": "light"
     },
     "output_type": "display_data"
    }
   ],
   "source": [
    "figure, axes = plt.subplots(5,1,figsize=(25,20))\n",
    "axes[0].plot(smartlink_df[smartlink_df['Measurement Point'] == 'Running hours'].Value)\n",
    "axes[1].plot(smartlink_df[smartlink_df['Measurement Point'] == 'Cooling water out temp'].Value)\n",
    "axes[2].plot(smartlink_df[smartlink_df['Measurement Point'] == 'Element 1 outlet temp'].Value)\n",
    "axes[3].plot(smartlink_df[smartlink_df['Measurement Point'] == 'Outlet Pressure'].Value)\n",
    "axes[4].plot(smartlink_df[smartlink_df['Measurement Point'] == 'Outlet Temperature'].Value)\n",
    "\n",
    "axes[0].title.set_text('Running hours')\n",
    "axes[1].title.set_text('Cooling water out temp')\n",
    "axes[2].title.set_text('Element 1 outlet temp')\n",
    "axes[3].title.set_text('Outlet Pressure')\n",
    "axes[4].title.set_text('Outlet Temperature')"
   ]
  },
  {
   "cell_type": "code",
   "execution_count": 10,
   "metadata": {
    "colab": {
     "base_uri": "https://localhost:8080/"
    },
    "id": "9V9NskFygVvG",
    "outputId": "6af511c6-496f-4bcd-a9f3-6e8861fc2953"
   },
   "outputs": [
    {
     "data": {
      "text/plain": [
       "count       89.000000\n",
       "mean       488.902809\n",
       "std       4551.870946\n",
       "min          5.990000\n",
       "25%          6.170000\n",
       "50%          6.380000\n",
       "75%          6.580000\n",
       "max      42948.670000\n",
       "Name: Value, dtype: float64"
      ]
     },
     "execution_count": 10,
     "metadata": {},
     "output_type": "execute_result"
    }
   ],
   "source": [
    "smartlink_df[smartlink_df['Measurement Point'] == 'Outlet Pressure'].Value.describe()"
   ]
  },
  {
   "cell_type": "code",
   "execution_count": null,
   "metadata": {},
   "outputs": [],
   "source": []
  }
 ],
 "metadata": {
  "colab": {
   "authorship_tag": "ABX9TyOv1E1sBnjNhisPM1malsG0",
   "collapsed_sections": [],
   "include_colab_link": true,
   "name": "01_BussinesContext.ipynb",
   "provenance": []
  },
  "kernelspec": {
   "display_name": "Python 3 (ipykernel)",
   "language": "python",
   "name": "python3"
  },
  "language_info": {
   "codemirror_mode": {
    "name": "ipython",
    "version": 3
   },
   "file_extension": ".py",
   "mimetype": "text/x-python",
   "name": "python",
   "nbconvert_exporter": "python",
   "pygments_lexer": "ipython3",
   "version": "3.9.6"
  }
 },
 "nbformat": 4,
 "nbformat_minor": 1
}
