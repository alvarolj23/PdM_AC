{
 "cells": [
  {
   "cell_type": "markdown",
   "metadata": {
    "id": "Xyj5qLqAgGzb"
   },
   "source": [
    "# System preparation"
   ]
  },
  {
   "cell_type": "markdown",
   "metadata": {
    "id": "eJ9DrjWjlefp"
   },
   "source": [
    "## Import libraries"
   ]
  },
  {
   "cell_type": "code",
   "execution_count": 1,
   "metadata": {
    "colab": {
     "background_save": true
    },
    "id": "VDejO8dRlfFg"
   },
   "outputs": [],
   "source": [
    "# Graphics\n",
    "import matplotlib.pyplot as plt\n",
    "import seaborn as sns\n",
    "import scikitplot as skplt\n",
    "# Data \n",
    "import numpy as np\n",
    "import pandas as pd\n",
    "\n",
    "#Regular expressions\n",
    "import re as re\n",
    "\n",
    "# Utilities\n",
    "from time import time\n",
    "\n",
    "from sklearn import preprocessing\n",
    "from sklearn.preprocessing import MinMaxScaler\n",
    "from sklearn.preprocessing import OneHotEncoder\n",
    "from sklearn.preprocessing import scale\n",
    "\n",
    "\n",
    "from sklearn import model_selection\n",
    "from sklearn.model_selection import train_test_split\n",
    "\n",
    "from sklearn.model_selection import cross_validate\n",
    "from sklearn.model_selection import GridSearchCV, RandomizedSearchCV, StratifiedKFold\n",
    "from sklearn.model_selection import RepeatedKFold\n",
    "from sklearn.pipeline import Pipeline\n",
    "\n",
    "# Metrics\n",
    "from sklearn import metrics\n",
    "from sklearn.metrics import mean_squared_error, mean_absolute_error, r2_score\n",
    "# Classification\n",
    "from sklearn.metrics import confusion_matrix, recall_score, accuracy_score, precision_score, f1_score , roc_auc_score\n",
    "\n",
    "from sklearn.metrics import classification_report\n",
    "from sklearn.metrics import make_scorer\n",
    "from sklearn.metrics import precision_recall_curve\n",
    "from sklearn.metrics import roc_curve\n",
    "from sklearn.metrics import average_precision_score\n",
    "\n",
    "# Classification algorithms\n",
    "import lightgbm as lgb\n",
    "from lightgbm import LGBMClassifier\n",
    "\n",
    "\n",
    "# Others\n",
    "import warnings\n",
    "from functools import reduce\n",
    "from pathlib import Path\n",
    "import os\n"
   ]
  },
  {
   "cell_type": "code",
   "execution_count": 2,
   "metadata": {
    "colab": {
     "background_save": true
    },
    "id": "DylJGrfnWaDh"
   },
   "outputs": [],
   "source": [
    "# Configurations.\n",
    "%matplotlib inline\n",
    "sns.set_style(\"darkgrid\")\n",
    "warnings.filterwarnings(\"ignore\")\n",
    "plt.rc(\"font\", family=\"serif\", size=15)"
   ]
  },
  {
   "cell_type": "markdown",
   "metadata": {
    "id": "oHM1WYHvSEja"
   },
   "source": [
    "# Data preparation"
   ]
  },
  {
   "cell_type": "markdown",
   "metadata": {
    "id": "E_9BxqhXH6Gi"
   },
   "source": [
    "### Load data\n",
    "\n"
   ]
  },
  {
   "cell_type": "markdown",
   "metadata": {
    "id": "30og02vqLBh7"
   },
   "source": [
    "Read the csv with the feature engineering applied before to the raw data."
   ]
  },
  {
   "cell_type": "code",
   "execution_count": 3,
   "metadata": {
    "colab": {
     "background_save": true
    },
    "id": "wcIY03vsceWY"
   },
   "outputs": [],
   "source": [
    "compressors_all_data = pd.read_csv(\"data/compressors_all_data_best_features_2days.csv\", error_bad_lines=False, index_col=0)"
   ]
  },
  {
   "cell_type": "code",
   "execution_count": 4,
   "metadata": {
    "colab": {
     "background_save": true
    },
    "id": "VWD00mdKceWY"
   },
   "outputs": [],
   "source": [
    "#Make sure the datetime format is correct\n",
    "compressors_all_data[\"datetime\"] = pd.to_datetime(compressors_all_data[\"datetime\"], format=\"%Y-%m-%d %H:%M:%S\")"
   ]
  },
  {
   "cell_type": "code",
   "execution_count": 5,
   "metadata": {
    "colab": {
     "background_save": true
    },
    "id": "rOROTU89EsFo"
   },
   "outputs": [
    {
     "data": {
      "text/html": [
       "<div>\n",
       "<style scoped>\n",
       "    .dataframe tbody tr th:only-of-type {\n",
       "        vertical-align: middle;\n",
       "    }\n",
       "\n",
       "    .dataframe tbody tr th {\n",
       "        vertical-align: top;\n",
       "    }\n",
       "\n",
       "    .dataframe thead th {\n",
       "        text-align: right;\n",
       "    }\n",
       "</style>\n",
       "<table border=\"1\" class=\"dataframe\">\n",
       "  <thead>\n",
       "    <tr style=\"text-align: right;\">\n",
       "      <th></th>\n",
       "      <th>compressorID</th>\n",
       "      <th>datetime</th>\n",
       "      <th>cycle</th>\n",
       "      <th>current_mean_3h</th>\n",
       "      <th>rpm_mean_3h</th>\n",
       "      <th>pressure_mean_3h</th>\n",
       "      <th>vibration_mean_3h</th>\n",
       "      <th>current_mean_lag_24h</th>\n",
       "      <th>rpm_mean_lag_24h</th>\n",
       "      <th>pressure_mean_lag_24h</th>\n",
       "      <th>...</th>\n",
       "      <th>s-8760</th>\n",
       "      <th>c-8760</th>\n",
       "      <th>comp1_fail</th>\n",
       "      <th>comp2_fail</th>\n",
       "      <th>comp3_fail</th>\n",
       "      <th>comp4_fail</th>\n",
       "      <th>rul_comp1</th>\n",
       "      <th>rul_comp2</th>\n",
       "      <th>rul_comp3</th>\n",
       "      <th>rul_comp4</th>\n",
       "    </tr>\n",
       "  </thead>\n",
       "  <tbody>\n",
       "    <tr>\n",
       "      <th>0</th>\n",
       "      <td>1</td>\n",
       "      <td>2015-01-01 09:00:00</td>\n",
       "      <td>1</td>\n",
       "      <td>170.028993</td>\n",
       "      <td>449.533798</td>\n",
       "      <td>94.592122</td>\n",
       "      <td>40.893502</td>\n",
       "      <td>NaN</td>\n",
       "      <td>NaN</td>\n",
       "      <td>NaN</td>\n",
       "      <td>...</td>\n",
       "      <td>0.000000</td>\n",
       "      <td>1.000000</td>\n",
       "      <td>0.0</td>\n",
       "      <td>0.0</td>\n",
       "      <td>0.0</td>\n",
       "      <td>0.0</td>\n",
       "      <td>63.875</td>\n",
       "      <td>108.875</td>\n",
       "      <td>NaN</td>\n",
       "      <td>3.875</td>\n",
       "    </tr>\n",
       "    <tr>\n",
       "      <th>1</th>\n",
       "      <td>1</td>\n",
       "      <td>2015-01-01 12:00:00</td>\n",
       "      <td>2</td>\n",
       "      <td>164.192565</td>\n",
       "      <td>403.949857</td>\n",
       "      <td>105.687417</td>\n",
       "      <td>34.255891</td>\n",
       "      <td>NaN</td>\n",
       "      <td>NaN</td>\n",
       "      <td>NaN</td>\n",
       "      <td>...</td>\n",
       "      <td>0.002152</td>\n",
       "      <td>0.999998</td>\n",
       "      <td>0.0</td>\n",
       "      <td>0.0</td>\n",
       "      <td>0.0</td>\n",
       "      <td>0.0</td>\n",
       "      <td>63.750</td>\n",
       "      <td>108.750</td>\n",
       "      <td>NaN</td>\n",
       "      <td>3.750</td>\n",
       "    </tr>\n",
       "    <tr>\n",
       "      <th>2</th>\n",
       "      <td>1</td>\n",
       "      <td>2015-01-01 15:00:00</td>\n",
       "      <td>3</td>\n",
       "      <td>168.134445</td>\n",
       "      <td>435.781707</td>\n",
       "      <td>107.793709</td>\n",
       "      <td>41.239405</td>\n",
       "      <td>NaN</td>\n",
       "      <td>NaN</td>\n",
       "      <td>NaN</td>\n",
       "      <td>...</td>\n",
       "      <td>0.004304</td>\n",
       "      <td>0.999991</td>\n",
       "      <td>0.0</td>\n",
       "      <td>0.0</td>\n",
       "      <td>0.0</td>\n",
       "      <td>0.0</td>\n",
       "      <td>63.625</td>\n",
       "      <td>108.625</td>\n",
       "      <td>NaN</td>\n",
       "      <td>3.625</td>\n",
       "    </tr>\n",
       "    <tr>\n",
       "      <th>3</th>\n",
       "      <td>1</td>\n",
       "      <td>2015-01-01 18:00:00</td>\n",
       "      <td>4</td>\n",
       "      <td>165.514453</td>\n",
       "      <td>430.472823</td>\n",
       "      <td>101.703289</td>\n",
       "      <td>40.373739</td>\n",
       "      <td>NaN</td>\n",
       "      <td>NaN</td>\n",
       "      <td>NaN</td>\n",
       "      <td>...</td>\n",
       "      <td>0.006455</td>\n",
       "      <td>0.999979</td>\n",
       "      <td>0.0</td>\n",
       "      <td>0.0</td>\n",
       "      <td>0.0</td>\n",
       "      <td>0.0</td>\n",
       "      <td>63.500</td>\n",
       "      <td>108.500</td>\n",
       "      <td>NaN</td>\n",
       "      <td>3.500</td>\n",
       "    </tr>\n",
       "    <tr>\n",
       "      <th>4</th>\n",
       "      <td>1</td>\n",
       "      <td>2015-01-01 21:00:00</td>\n",
       "      <td>5</td>\n",
       "      <td>168.809347</td>\n",
       "      <td>437.111120</td>\n",
       "      <td>90.911060</td>\n",
       "      <td>41.738542</td>\n",
       "      <td>NaN</td>\n",
       "      <td>NaN</td>\n",
       "      <td>NaN</td>\n",
       "      <td>...</td>\n",
       "      <td>0.008607</td>\n",
       "      <td>0.999963</td>\n",
       "      <td>0.0</td>\n",
       "      <td>0.0</td>\n",
       "      <td>0.0</td>\n",
       "      <td>0.0</td>\n",
       "      <td>63.375</td>\n",
       "      <td>108.375</td>\n",
       "      <td>NaN</td>\n",
       "      <td>3.375</td>\n",
       "    </tr>\n",
       "  </tbody>\n",
       "</table>\n",
       "<p>5 rows × 51 columns</p>\n",
       "</div>"
      ],
      "text/plain": [
       "   compressorID            datetime  cycle  current_mean_3h  rpm_mean_3h  \\\n",
       "0             1 2015-01-01 09:00:00      1       170.028993   449.533798   \n",
       "1             1 2015-01-01 12:00:00      2       164.192565   403.949857   \n",
       "2             1 2015-01-01 15:00:00      3       168.134445   435.781707   \n",
       "3             1 2015-01-01 18:00:00      4       165.514453   430.472823   \n",
       "4             1 2015-01-01 21:00:00      5       168.809347   437.111120   \n",
       "\n",
       "   pressure_mean_3h  vibration_mean_3h  current_mean_lag_24h  \\\n",
       "0         94.592122          40.893502                   NaN   \n",
       "1        105.687417          34.255891                   NaN   \n",
       "2        107.793709          41.239405                   NaN   \n",
       "3        101.703289          40.373739                   NaN   \n",
       "4         90.911060          41.738542                   NaN   \n",
       "\n",
       "   rpm_mean_lag_24h  pressure_mean_lag_24h  ...    s-8760    c-8760  \\\n",
       "0               NaN                    NaN  ...  0.000000  1.000000   \n",
       "1               NaN                    NaN  ...  0.002152  0.999998   \n",
       "2               NaN                    NaN  ...  0.004304  0.999991   \n",
       "3               NaN                    NaN  ...  0.006455  0.999979   \n",
       "4               NaN                    NaN  ...  0.008607  0.999963   \n",
       "\n",
       "   comp1_fail  comp2_fail  comp3_fail  comp4_fail  rul_comp1  rul_comp2  \\\n",
       "0         0.0         0.0         0.0         0.0     63.875    108.875   \n",
       "1         0.0         0.0         0.0         0.0     63.750    108.750   \n",
       "2         0.0         0.0         0.0         0.0     63.625    108.625   \n",
       "3         0.0         0.0         0.0         0.0     63.500    108.500   \n",
       "4         0.0         0.0         0.0         0.0     63.375    108.375   \n",
       "\n",
       "   rul_comp3  rul_comp4  \n",
       "0        NaN      3.875  \n",
       "1        NaN      3.750  \n",
       "2        NaN      3.625  \n",
       "3        NaN      3.500  \n",
       "4        NaN      3.375  \n",
       "\n",
       "[5 rows x 51 columns]"
      ]
     },
     "execution_count": 5,
     "metadata": {},
     "output_type": "execute_result"
    }
   ],
   "source": [
    "compressors_all_data.head()"
   ]
  },
  {
   "cell_type": "markdown",
   "metadata": {
    "id": "vthcecCXD8Wy"
   },
   "source": [
    "Create lists with the names of the columns for different data:\n",
    "- Sensors: telemetry information\n",
    "- Errors: compressor errors and counts\n",
    "- Maintenance: time since last maintenance\n",
    "- Model\n",
    "- Compressor information: Age\n",
    "- Failures: failures in the different components"
   ]
  },
  {
   "cell_type": "markdown",
   "metadata": {
    "id": "zYPbVxncuSl_"
   },
   "source": [
    "## Feature selection"
   ]
  },
  {
   "cell_type": "markdown",
   "metadata": {
    "id": "UKQQZYjTGWhY"
   },
   "source": [
    "Feature selection is the process of reducing the number of input variables when developing a predictive model. It is desirable to reduce the number of input variables to both reduce the computational cost of modeling and, in some cases, to improve the performance of the model."
   ]
  },
  {
   "cell_type": "code",
   "execution_count": 6,
   "metadata": {
    "colab": {
     "background_save": true
    },
    "id": "C0VgTRRvv-wz"
   },
   "outputs": [],
   "source": [
    "cols_failures_dum = [col for col in compressors_all_data.columns if 'fail' in col]\n",
    "cols_rul = [col for col in compressors_all_data.columns if 'rul' in col]"
   ]
  },
  {
   "cell_type": "code",
   "execution_count": 7,
   "metadata": {
    "colab": {
     "background_save": true
    },
    "id": "zLXJWux47cfN"
   },
   "outputs": [],
   "source": [
    "predictors = list(compressors_all_data.columns)\n",
    "predictors = [ele for ele in predictors if ele not in (cols_rul + cols_failures_dum + ['datetime']) ]"
   ]
  },
  {
   "cell_type": "code",
   "execution_count": 8,
   "metadata": {
    "colab": {
     "background_save": true
    },
    "id": "sudDabzDAlvE"
   },
   "outputs": [],
   "source": [
    "target = cols_failures_dum "
   ]
  },
  {
   "cell_type": "code",
   "execution_count": 9,
   "metadata": {
    "colab": {
     "background_save": true
    },
    "id": "_dgQI8QgBElZ"
   },
   "outputs": [],
   "source": [
    "X = compressors_all_data[(predictors+target)+ ['datetime']].dropna()\n",
    "y = compressors_all_data[(predictors+target)+ ['datetime']].dropna()"
   ]
  },
  {
   "cell_type": "code",
   "execution_count": 10,
   "metadata": {
    "colab": {
     "background_save": true
    },
    "id": "jxBCb9pV7aQv"
   },
   "outputs": [],
   "source": [
    "X = X[predictors+ ['datetime']]\n",
    "y= y[target+ ['datetime']]"
   ]
  },
  {
   "cell_type": "markdown",
   "metadata": {
    "id": "DkFwpEB6-9vB"
   },
   "source": [
    "## Model split: Training, Validation and Testing"
   ]
  },
  {
   "cell_type": "markdown",
   "metadata": {
    "id": "n6pEZHJn_O_8"
   },
   "source": [
    "When working with time series as in this thesis, partitioning in training, validation, and testing must be done carefully to avoid overestimating the performance of the models. \n",
    "\n",
    "Predictive models do not have advanced knowledge of future time trends - in practice, such trends are likely to exist and have an adverse impact on model performance. To get an accurate assessment of the performance of a predictive model, it is recommended to perform training on older records and validation / testing using the newer records.\n",
    "\n",
    "For both reasons, a time-dependent splitting strategy is an excellent choice for predictive maintenance models. The division is done by choosing a point in time according to the desired size of the training and test sets: all the records before the time point are used to train the model, and all the remaining records are used for testing."
   ]
  },
  {
   "cell_type": "code",
   "execution_count": 11,
   "metadata": {
    "colab": {
     "background_save": true
    },
    "id": "FR3oMp23-uVl"
   },
   "outputs": [],
   "source": [
    "# We establish the times corresponding to the records that will be used for training and tests.\n",
    "threshold_dates = [\n",
    "    pd.to_datetime(\"2015-09-30 01:00:00\"), pd.to_datetime(\"2015-10-01 01:00:00\")\n",
    "]"
   ]
  },
  {
   "cell_type": "code",
   "execution_count": 12,
   "metadata": {
    "colab": {
     "background_save": true
    },
    "id": "XtXpEomq_yLI"
   },
   "outputs": [],
   "source": [
    "# We make the partition of separate dates.\n",
    "last_train_date = threshold_dates[0]\n",
    "first_test_date = threshold_dates[1]"
   ]
  },
  {
   "cell_type": "code",
   "execution_count": 13,
   "metadata": {
    "colab": {
     "background_save": true
    },
    "id": "hUnBkLf8AiXV"
   },
   "outputs": [
    {
     "name": "stdout",
     "output_type": "stream",
     "text": [
      "216700 registers for trainning\n",
      "73900 registers for testing\n",
      "34.1% of the total data is used for testing\n"
     ]
    }
   ],
   "source": [
    "# Typically 20-30% of the data is used.\n",
    "X_train = X.loc[X[\"datetime\"] < last_train_date]\n",
    "y_train = y.loc[y[\"datetime\"] < last_train_date]\n",
    "\n",
    "X_test = X.loc[X[\"datetime\"] > first_test_date]\n",
    "y_test = y.loc[y[\"datetime\"] > first_test_date]\n",
    "\n",
    "print(f\"{X_train.shape[0]} registers for trainning\")\n",
    "print(f\"{X_test.shape[0]} registers for testing\")\n",
    "print(f\"{X_test.shape[0] / X_train.shape[0] * 100:0.1f}% of the total data is used for testing\")"
   ]
  },
  {
   "cell_type": "markdown",
   "metadata": {
    "id": "Abauc7ygA7DP"
   },
   "source": [
    "Check how many failures we have in the train and test"
   ]
  },
  {
   "cell_type": "code",
   "execution_count": 14,
   "metadata": {
    "colab": {
     "background_save": true
    },
    "id": "t-EBgWM-Ayr7"
   },
   "outputs": [
    {
     "name": "stdout",
     "output_type": "stream",
     "text": [
      "1.1% of the total cases are failures in the train dataset\n",
      "0.9% of the total cases are failures in the test dataset\n"
     ]
    }
   ],
   "source": [
    "fails_train = y_train[y_train[\"comp1_fail\"] != 0].shape[0]\n",
    "no_fails_train = y_train[y_train[\"comp1_fail\"] == 0].shape[0]\n",
    "fails_test = y_test[y_test[\"comp1_fail\"] != 0].shape[0]\n",
    "no_fails_test = y_test[y_test[\"comp1_fail\"] == 0].shape[0]\n",
    "\n",
    "print(f\"{fails_train / no_fails_train * 100:0.1f}% of the total cases are failures in the train dataset\")\n",
    "print(f\"{fails_test / no_fails_test * 100:0.1f}% of the total cases are failures in the test dataset\")"
   ]
  },
  {
   "cell_type": "markdown",
   "metadata": {
    "id": "sfTuqsN3BSAe"
   },
   "source": [
    "We see it's crearly an unbalanced problem. For class unbalance problems Get more data. Minor sample of the majority class. SMOTE (Synthetic Minority Over-sampling Technique). Assign weights to minority class."
   ]
  },
  {
   "cell_type": "markdown",
   "metadata": {
    "id": "7bsOcVzrx494"
   },
   "source": [
    "## Drop Datetime"
   ]
  },
  {
   "cell_type": "code",
   "execution_count": 15,
   "metadata": {
    "colab": {
     "background_save": true
    },
    "id": "yA0V0R1Wx8pw"
   },
   "outputs": [],
   "source": [
    "X.drop('datetime', axis=1,inplace=True)\n",
    "y.drop('datetime', axis=1,inplace=True)\n",
    "\n",
    "X_train.drop('datetime',axis=1,inplace=True)\n",
    "y_train.drop('datetime',axis=1,inplace=True)\n",
    "\n",
    "X_test.drop('datetime',axis=1,inplace=True)\n",
    "y_test.drop('datetime',axis=1,inplace=True)"
   ]
  },
  {
   "cell_type": "markdown",
   "metadata": {
    "id": "rqsN5rVpdvEh"
   },
   "source": [
    "# LightGBM Hyperparameter Tuning"
   ]
  },
  {
   "cell_type": "markdown",
   "metadata": {
    "id": "gSMn0j8Sz3mF"
   },
   "source": [
    "From the comparison in the previous section, one of the models with best performance is the LightGBM. We will tune the hyperparameters of the model to boost its performance."
   ]
  },
  {
   "cell_type": "markdown",
   "metadata": {
    "id": "QfyUBNpOetw1"
   },
   "source": [
    "## MVP LightGBM"
   ]
  },
  {
   "cell_type": "code",
   "execution_count": 16,
   "metadata": {
    "id": "7QWV1P1Xe_iT"
   },
   "outputs": [],
   "source": [
    "# build the lightgbm model\n",
    "import lightgbm as lgb"
   ]
  },
  {
   "cell_type": "code",
   "execution_count": 17,
   "metadata": {
    "colab": {
     "base_uri": "https://localhost:8080/"
    },
    "executionInfo": {
     "elapsed": 20607,
     "status": "ok",
     "timestamp": 1642324484299,
     "user": {
      "displayName": "Alvaro Maria Diz",
      "photoUrl": "https://lh3.googleusercontent.com/a-/AOh14Giuutai_IbNVnvC4Beh-Byto_cZQYWl2mepxSIs-A8=s64",
      "userId": "17485357456412119731"
     },
     "user_tz": -60
    },
    "id": "PmKw8LwTe5f2",
    "outputId": "d20836df-1d0d-48ca-b06c-c45463f459da"
   },
   "outputs": [
    {
     "name": "stdout",
     "output_type": "stream",
     "text": [
      "For comp1_fail\n",
      "LightGBM Model accuracy score: 0.9937\n",
      "For comp2_fail\n",
      "LightGBM Model accuracy score: 0.9940\n",
      "For comp3_fail\n",
      "LightGBM Model accuracy score: 0.9973\n",
      "For comp4_fail\n",
      "LightGBM Model accuracy score: 0.9969\n"
     ]
    }
   ],
   "source": [
    "clf = lgb.LGBMClassifier()\n",
    "for comp in y:\n",
    "  clf.fit(X_train, y_train[comp])\n",
    "  # predict the results\n",
    "  y_pred=clf.predict(X_test)\n",
    "  # view accuracy\n",
    "  from sklearn.metrics import accuracy_score\n",
    "  accuracy=accuracy_score(y_pred, y_test[comp])\n",
    "  print(f'For {comp}')\n",
    "  print('LightGBM Model accuracy score: {0:0.4f}'.format(accuracy_score(y_test[comp], y_pred)))"
   ]
  },
  {
   "cell_type": "code",
   "execution_count": 18,
   "metadata": {
    "id": "9cQ-uWQGbrui"
   },
   "outputs": [],
   "source": [
    "import lightgbm \n",
    "from lightgbm import *"
   ]
  },
  {
   "cell_type": "code",
   "execution_count": 19,
   "metadata": {
    "id": "fAtO1QinbVey"
   },
   "outputs": [],
   "source": [
    "lgb = LGBMClassifier()"
   ]
  },
  {
   "cell_type": "code",
   "execution_count": 20,
   "metadata": {
    "colab": {
     "base_uri": "https://localhost:8080/"
    },
    "executionInfo": {
     "elapsed": 22043,
     "status": "ok",
     "timestamp": 1642328966000,
     "user": {
      "displayName": "Alvaro Maria Diz",
      "photoUrl": "https://lh3.googleusercontent.com/a-/AOh14Giuutai_IbNVnvC4Beh-Byto_cZQYWl2mepxSIs-A8=s64",
      "userId": "17485357456412119731"
     },
     "user_tz": -60
    },
    "id": "f1U21BGHbTQX",
    "outputId": "fba6f76b-701e-419f-ad2e-3666d355d6b8"
   },
   "outputs": [
    {
     "name": "stdout",
     "output_type": "stream",
     "text": [
      "Evaluation of comp1_fail\n",
      "Confusion matrix\n",
      "\n",
      " [[73077   128]\n",
      " [  337   358]]\n",
      "\n",
      "True Positives(TP) =  73077\n",
      "\n",
      "True Negatives(TN) =  358\n",
      "\n",
      "False Positives(FP) =  128\n",
      "\n",
      "False Negatives(FN) =  337\n",
      "\n",
      "AUC = 0.7566796996116651\n",
      "\n",
      "Evaluation of comp2_fail\n",
      "Confusion matrix\n",
      "\n",
      " [[72494   247]\n",
      " [  193   966]]\n",
      "\n",
      "True Positives(TP) =  72494\n",
      "\n",
      "True Negatives(TN) =  966\n",
      "\n",
      "False Positives(FP) =  247\n",
      "\n",
      "False Negatives(FN) =  193\n",
      "\n",
      "AUC = 0.9150407631914094\n",
      "\n",
      "Evaluation of comp3_fail\n",
      "Confusion matrix\n",
      "\n",
      " [[73293   136]\n",
      " [   66   405]]\n",
      "\n",
      "True Positives(TP) =  73293\n",
      "\n",
      "True Negatives(TN) =  405\n",
      "\n",
      "False Positives(FP) =  136\n",
      "\n",
      "False Negatives(FN) =  66\n",
      "\n",
      "AUC = 0.9290102410986201\n",
      "\n",
      "Evaluation of comp4_fail\n",
      "Confusion matrix\n",
      "\n",
      " [[73074   157]\n",
      " [   74   595]]\n",
      "\n",
      "True Positives(TP) =  73074\n",
      "\n",
      "True Negatives(TN) =  595\n",
      "\n",
      "False Positives(FP) =  157\n",
      "\n",
      "False Negatives(FN) =  74\n",
      "\n",
      "AUC = 0.9436216220927455\n",
      "\n"
     ]
    }
   ],
   "source": [
    "# Loop for the different components\n",
    "\n",
    "for comp in y_train.columns:\n",
    "  lgb.fit(X_train, y_train[comp])\n",
    "  y_pred = lgb.predict(X_test)\n",
    "  y_pred_prob = lgb.predict_proba(X_test)\n",
    "  \n",
    "  # view confusion-matrix\n",
    "  # Print the Confusion Matrix and slice it into four pieces\n",
    "\n",
    "  from sklearn.metrics import confusion_matrix\n",
    "  cm = confusion_matrix(y_test[comp], y_pred)\n",
    "  print(f'Evaluation of {comp}')\n",
    "  print('Confusion matrix\\n\\n', cm)\n",
    "  print('\\nTrue Positives(TP) = ', cm[0,0])\n",
    "  print('\\nTrue Negatives(TN) = ', cm[1,1])\n",
    "  print('\\nFalse Positives(FP) = ', cm[0,1])\n",
    "  print('\\nFalse Negatives(FN) = ', cm[1,0])\n",
    "  print()\n",
    "  auc = roc_auc_score(y_test[comp], y_pred)\n",
    "  print(f'AUC = {auc}')\n",
    "  print()\n"
   ]
  },
  {
   "cell_type": "markdown",
   "metadata": {
    "id": "7aToQufn1SeM"
   },
   "source": [
    "## Randomized search"
   ]
  },
  {
   "cell_type": "markdown",
   "metadata": {
    "id": "uVrYzPMKe2eO"
   },
   "source": [
    "Let’s try to optimise our predictive model using these three core parameters:\n",
    "\n",
    "- Objective: Binary classification in this case.\n",
    "- num_boost_round: Number of boosting iterations, typically 100 and above.\n",
    "- learning_rate: The impact of each tree on the final outcome. The learning parameter controls the magnitude of this change in the estimates.\n",
    "- num_leaves: number of leaves in the entire tree, the LightGBM default: 31."
   ]
  },
  {
   "cell_type": "code",
   "execution_count": 27,
   "metadata": {
    "id": "3pBVQckObyGb"
   },
   "outputs": [],
   "source": [
    "params={\n",
    "         'learning_rate': np.arange(0.01, 0.15, 0.03),\n",
    "         'num_leaves': np.arange(10, 100, 30),\n",
    "         'max_depth': np.arange(3, 10, 2),\n",
    "         'scale_pos_weight': [1, 20, 50, 100, 500]}"
   ]
  },
  {
   "cell_type": "code",
   "execution_count": 28,
   "metadata": {
    "id": "kcnsJ2naK9xs"
   },
   "outputs": [],
   "source": [
    "lgbmc_classifier = LGBMClassifier(objective = 'binary',n_jobs=-1)"
   ]
  },
  {
   "cell_type": "code",
   "execution_count": 29,
   "metadata": {
    "id": "bDkFIkOrgOz_"
   },
   "outputs": [],
   "source": [
    "stf_kf=StratifiedKFold(n_splits=5)"
   ]
  },
  {
   "cell_type": "code",
   "execution_count": 30,
   "metadata": {
    "id": "wyOb6PGYgVfn"
   },
   "outputs": [],
   "source": [
    "rs_cv_classifier=RandomizedSearchCV(lgbmc_classifier,\n",
    "                                    param_distributions=params,\n",
    "                                    cv=stf_kf,\n",
    "                                    scoring='roc_auc',\n",
    "                                    n_jobs=-1)"
   ]
  },
  {
   "cell_type": "code",
   "execution_count": 31,
   "metadata": {
    "colab": {
     "base_uri": "https://localhost:8080/"
    },
    "executionInfo": {
     "elapsed": 479991,
     "status": "ok",
     "timestamp": 1642718653417,
     "user": {
      "displayName": "Alvaro Maria Diz",
      "photoUrl": "https://lh3.googleusercontent.com/a-/AOh14Giuutai_IbNVnvC4Beh-Byto_cZQYWl2mepxSIs-A8=s64",
      "userId": "17485357456412119731"
     },
     "user_tz": -60
    },
    "id": "b6yHx5vZog1O",
    "outputId": "0a8f8ce4-98be-4cea-db58-9ef495152690"
   },
   "outputs": [
    {
     "name": "stdout",
     "output_type": "stream",
     "text": [
      "Best Parameter for comp1_fail: \n",
      " {'scale_pos_weight': 100, 'num_leaves': 70, 'max_depth': 5, 'learning_rate': 0.04}\n",
      "Total time 46.37879991531372\n",
      "Confusion matrix\n",
      "\n",
      " [[72412   793]\n",
      " [   91   604]]\n",
      "\n",
      "True Positives(TP) =  72412\n",
      "\n",
      "True Negatives(TN) =  604\n",
      "\n",
      "False Positives(FP) =  793\n",
      "\n",
      "False Negatives(FN) =  91\n",
      "\n",
      "AUC = 0.9291160773996745\n",
      "\n",
      "Best Parameter for comp2_fail: \n",
      " {'scale_pos_weight': 50, 'num_leaves': 10, 'max_depth': 5, 'learning_rate': 0.04}\n",
      "Total time 46.25231313705444\n",
      "Confusion matrix\n",
      "\n",
      " [[72042   699]\n",
      " [   24  1135]]\n",
      "\n",
      "True Positives(TP) =  72042\n",
      "\n",
      "True Negatives(TN) =  1135\n",
      "\n",
      "False Positives(FP) =  699\n",
      "\n",
      "False Negatives(FN) =  24\n",
      "\n",
      "AUC = 0.9848415286549953\n",
      "\n",
      "Best Parameter for comp3_fail: \n",
      " {'scale_pos_weight': 500, 'num_leaves': 10, 'max_depth': 7, 'learning_rate': 0.06999999999999999}\n",
      "Total time 41.40207290649414\n",
      "Confusion matrix\n",
      "\n",
      " [[73314   115]\n",
      " [   53   418]]\n",
      "\n",
      "True Positives(TP) =  73314\n",
      "\n",
      "True Negatives(TN) =  418\n",
      "\n",
      "False Positives(FP) =  115\n",
      "\n",
      "False Negatives(FN) =  53\n",
      "\n",
      "AUC = 0.9429536610014169\n",
      "\n",
      "Best Parameter for comp4_fail: \n",
      " {'scale_pos_weight': 1, 'num_leaves': 70, 'max_depth': 5, 'learning_rate': 0.06999999999999999}\n",
      "Total time 47.03325700759888\n",
      "Confusion matrix\n",
      "\n",
      " [[73099   132]\n",
      " [   60   609]]\n",
      "\n",
      "True Positives(TP) =  73099\n",
      "\n",
      "True Negatives(TN) =  609\n",
      "\n",
      "False Positives(FP) =  132\n",
      "\n",
      "False Negatives(FN) =  60\n",
      "\n",
      "AUC = 0.9542556930085417\n",
      "\n",
      "[LightGBM] [Warning] Unknown parameter: num_boost_rounds\n",
      "[LightGBM] [Warning] Unknown parameter: num_boost_rounds\n",
      "[LightGBM] [Warning] Unknown parameter: num_boost_rounds\n",
      "[LightGBM] [Warning] Unknown parameter: num_boost_rounds\n",
      "[LightGBM] [Warning] Unknown parameter: num_boost_rounds\n",
      "[LightGBM] [Warning] Unknown parameter: num_boost_rounds\n",
      "[LightGBM] [Warning] Unknown parameter: num_boost_rounds\n",
      "[LightGBM] [Warning] Unknown parameter: num_boost_rounds\n",
      "[LightGBM] [Warning] Unknown parameter: num_boost_rounds\n",
      "[LightGBM] [Warning] Unknown parameter: num_boost_rounds\n",
      "[LightGBM] [Warning] Unknown parameter: num_boost_rounds\n",
      "[LightGBM] [Warning] Unknown parameter: num_boost_rounds\n",
      "[LightGBM] [Warning] Unknown parameter: num_boost_rounds\n",
      "[LightGBM] [Warning] Unknown parameter: num_boost_rounds\n",
      "[LightGBM] [Warning] Unknown parameter: num_boost_rounds\n",
      "[LightGBM] [Warning] Unknown parameter: num_boost_rounds\n",
      "[LightGBM] [Warning] Unknown parameter: num_boost_rounds\n",
      "[LightGBM] [Warning] Unknown parameter: num_boost_rounds\n",
      "[LightGBM] [Warning] Unknown parameter: num_boost_rounds\n",
      "[LightGBM] [Warning] Unknown parameter: num_boost_rounds\n",
      "[LightGBM] [Warning] Unknown parameter: num_boost_rounds\n",
      "[LightGBM] [Warning] Unknown parameter: num_boost_rounds\n",
      "[LightGBM] [Warning] Unknown parameter: num_boost_rounds\n",
      "[LightGBM] [Warning] Unknown parameter: num_boost_rounds\n",
      "[LightGBM] [Warning] Unknown parameter: num_boost_rounds\n",
      "[LightGBM] [Warning] Unknown parameter: num_boost_rounds\n",
      "[LightGBM] [Warning] Unknown parameter: num_boost_rounds\n",
      "[LightGBM] [Warning] Unknown parameter: num_boost_rounds\n",
      "[LightGBM] [Warning] Unknown parameter: num_boost_rounds\n",
      "[LightGBM] [Warning] Unknown parameter: num_boost_rounds\n",
      "[LightGBM] [Warning] Unknown parameter: num_boost_rounds\n",
      "[LightGBM] [Warning] Unknown parameter: num_boost_rounds\n",
      "[LightGBM] [Warning] Unknown parameter: num_boost_rounds\n",
      "[LightGBM] [Warning] Unknown parameter: num_boost_rounds\n",
      "[LightGBM] [Warning] Unknown parameter: num_boost_rounds\n",
      "[LightGBM] [Warning] Unknown parameter: num_boost_rounds\n",
      "[LightGBM] [Warning] Unknown parameter: num_boost_rounds\n",
      "[LightGBM] [Warning] Unknown parameter: num_boost_rounds\n",
      "[LightGBM] [Warning] Unknown parameter: num_boost_rounds\n",
      "[LightGBM] [Warning] Unknown parameter: num_boost_rounds\n",
      "[LightGBM] [Warning] Unknown parameter: num_boost_rounds\n",
      "[LightGBM] [Warning] Unknown parameter: num_boost_rounds\n",
      "[LightGBM] [Warning] Unknown parameter: num_boost_rounds\n",
      "[LightGBM] [Warning] Unknown parameter: num_boost_rounds\n",
      "[LightGBM] [Warning] Unknown parameter: num_boost_rounds\n",
      "[LightGBM] [Warning] Unknown parameter: num_boost_rounds\n",
      "[LightGBM] [Warning] Unknown parameter: num_boost_rounds\n",
      "[LightGBM] [Warning] Unknown parameter: num_boost_rounds\n",
      "[LightGBM] [Warning] Unknown parameter: num_boost_rounds\n",
      "[LightGBM] [Warning] Unknown parameter: num_boost_rounds\n",
      "[LightGBM] [Warning] Unknown parameter: num_boost_rounds\n",
      "[LightGBM] [Warning] Unknown parameter: num_boost_rounds\n",
      "[LightGBM] [Warning] Unknown parameter: num_boost_rounds\n",
      "[LightGBM] [Warning] Unknown parameter: num_boost_rounds\n",
      "[LightGBM] [Warning] Unknown parameter: num_boost_rounds\n",
      "[LightGBM] [Warning] Unknown parameter: num_boost_rounds\n",
      "[LightGBM] [Warning] Unknown parameter: num_boost_rounds\n",
      "[LightGBM] [Warning] Unknown parameter: num_boost_rounds\n",
      "[LightGBM] [Warning] Unknown parameter: num_boost_rounds\n",
      "[LightGBM] [Warning] Unknown parameter: num_boost_rounds\n",
      "[LightGBM] [Warning] Unknown parameter: num_boost_rounds\n",
      "[LightGBM] [Warning] Unknown parameter: num_boost_rounds\n",
      "[LightGBM] [Warning] Unknown parameter: num_boost_rounds\n",
      "[LightGBM] [Warning] Unknown parameter: num_boost_rounds\n",
      "[LightGBM] [Warning] Unknown parameter: num_boost_rounds\n",
      "[LightGBM] [Warning] Unknown parameter: num_boost_rounds\n",
      "[LightGBM] [Warning] Unknown parameter: num_boost_rounds\n",
      "[LightGBM] [Warning] Unknown parameter: num_boost_rounds\n",
      "[LightGBM] [Warning] Unknown parameter: num_boost_rounds\n",
      "[LightGBM] [Warning] Unknown parameter: num_boost_rounds\n",
      "[LightGBM] [Warning] Unknown parameter: num_boost_rounds\n",
      "[LightGBM] [Warning] Unknown parameter: num_boost_rounds\n",
      "[LightGBM] [Warning] Unknown parameter: num_boost_rounds\n",
      "[LightGBM] [Warning] Unknown parameter: num_boost_rounds\n",
      "[LightGBM] [Warning] Unknown parameter: num_boost_rounds\n",
      "[LightGBM] [Warning] Unknown parameter: num_boost_rounds\n",
      "[LightGBM] [Warning] Unknown parameter: num_boost_rounds\n",
      "[LightGBM] [Warning] Unknown parameter: num_boost_rounds\n",
      "[LightGBM] [Warning] Unknown parameter: num_boost_rounds\n",
      "[LightGBM] [Warning] Unknown parameter: num_boost_rounds\n",
      "[LightGBM] [Warning] Unknown parameter: num_boost_rounds\n",
      "[LightGBM] [Warning] Unknown parameter: num_boost_rounds\n",
      "[LightGBM] [Warning] Unknown parameter: num_boost_rounds\n",
      "[LightGBM] [Warning] Unknown parameter: num_boost_rounds\n",
      "[LightGBM] [Warning] Unknown parameter: num_boost_rounds\n",
      "[LightGBM] [Warning] Unknown parameter: num_boost_rounds\n",
      "[LightGBM] [Warning] Unknown parameter: num_boost_rounds\n",
      "[LightGBM] [Warning] Unknown parameter: num_boost_rounds\n",
      "[LightGBM] [Warning] Unknown parameter: num_boost_rounds\n",
      "[LightGBM] [Warning] Unknown parameter: num_boost_rounds\n",
      "[LightGBM] [Warning] Unknown parameter: num_boost_rounds\n",
      "[LightGBM] [Warning] Unknown parameter: num_boost_rounds\n",
      "[LightGBM] [Warning] Unknown parameter: num_boost_rounds\n",
      "[LightGBM] [Warning] Unknown parameter: num_boost_rounds\n",
      "[LightGBM] [Warning] Unknown parameter: num_boost_rounds\n",
      "[LightGBM] [Warning] Unknown parameter: num_boost_rounds\n",
      "[LightGBM] [Warning] Unknown parameter: num_boost_rounds\n",
      "[LightGBM] [Warning] Unknown parameter: num_boost_rounds\n",
      "[LightGBM] [Warning] Unknown parameter: num_boost_rounds\n",
      "[LightGBM] [Warning] Unknown parameter: num_boost_rounds\n",
      "[LightGBM] [Warning] Unknown parameter: num_boost_rounds\n",
      "[LightGBM] [Warning] Unknown parameter: num_boost_rounds\n",
      "[LightGBM] [Warning] Unknown parameter: num_boost_rounds\n",
      "[LightGBM] [Warning] Unknown parameter: num_boost_rounds\n",
      "[LightGBM] [Warning] Unknown parameter: num_boost_rounds\n",
      "[LightGBM] [Warning] Unknown parameter: num_boost_rounds\n",
      "[LightGBM] [Warning] Unknown parameter: num_boost_rounds\n",
      "[LightGBM] [Warning] Unknown parameter: num_boost_rounds\n",
      "[LightGBM] [Warning] Unknown parameter: num_boost_rounds\n",
      "[LightGBM] [Warning] Unknown parameter: num_boost_rounds\n",
      "[LightGBM] [Warning] Unknown parameter: num_boost_rounds\n",
      "[LightGBM] [Warning] Unknown parameter: num_boost_rounds\n",
      "[LightGBM] [Warning] Unknown parameter: num_boost_rounds\n",
      "[LightGBM] [Warning] Unknown parameter: num_boost_rounds\n",
      "[LightGBM] [Warning] Unknown parameter: num_boost_rounds\n",
      "[LightGBM] [Warning] Unknown parameter: num_boost_rounds\n",
      "[LightGBM] [Warning] Unknown parameter: num_boost_rounds\n",
      "[LightGBM] [Warning] Unknown parameter: num_boost_rounds\n",
      "[LightGBM] [Warning] Unknown parameter: num_boost_rounds\n",
      "[LightGBM] [Warning] Unknown parameter: num_boost_rounds\n",
      "[LightGBM] [Warning] Unknown parameter: num_boost_rounds\n",
      "[LightGBM] [Warning] Unknown parameter: num_boost_rounds\n",
      "[LightGBM] [Warning] Unknown parameter: num_boost_rounds\n",
      "[LightGBM] [Warning] Unknown parameter: num_boost_rounds\n",
      "[LightGBM] [Warning] Unknown parameter: num_boost_rounds\n"
     ]
    },
    {
     "name": "stdout",
     "output_type": "stream",
     "text": [
      "[LightGBM] [Warning] Unknown parameter: num_boost_rounds\n",
      "[LightGBM] [Warning] Unknown parameter: num_boost_rounds\n",
      "[LightGBM] [Warning] Unknown parameter: num_boost_rounds\n",
      "[LightGBM] [Warning] Unknown parameter: num_boost_rounds\n",
      "[LightGBM] [Warning] Unknown parameter: num_boost_rounds\n",
      "[LightGBM] [Warning] Unknown parameter: num_boost_rounds\n",
      "[LightGBM] [Warning] Unknown parameter: num_boost_rounds\n",
      "[LightGBM] [Warning] Unknown parameter: num_boost_rounds\n",
      "[LightGBM] [Warning] Unknown parameter: num_boost_rounds\n",
      "[LightGBM] [Warning] Unknown parameter: num_boost_rounds\n",
      "[LightGBM] [Warning] Unknown parameter: num_boost_rounds\n",
      "[LightGBM] [Warning] Unknown parameter: num_boost_rounds\n",
      "[LightGBM] [Warning] Unknown parameter: num_boost_rounds\n",
      "[LightGBM] [Warning] Unknown parameter: num_boost_rounds\n",
      "[LightGBM] [Warning] Unknown parameter: num_boost_rounds\n",
      "[LightGBM] [Warning] Unknown parameter: num_boost_rounds\n",
      "[LightGBM] [Warning] Unknown parameter: num_boost_rounds\n",
      "[LightGBM] [Warning] Unknown parameter: num_boost_rounds\n",
      "[LightGBM] [Warning] Unknown parameter: num_boost_rounds\n",
      "[LightGBM] [Warning] Unknown parameter: num_boost_rounds\n",
      "[LightGBM] [Warning] Unknown parameter: num_boost_rounds\n",
      "[LightGBM] [Warning] Unknown parameter: num_boost_rounds\n",
      "[LightGBM] [Warning] Unknown parameter: num_boost_rounds\n",
      "[LightGBM] [Warning] Unknown parameter: num_boost_rounds\n",
      "[LightGBM] [Warning] Unknown parameter: num_boost_rounds\n",
      "[LightGBM] [Warning] Unknown parameter: num_boost_rounds\n",
      "[LightGBM] [Warning] Unknown parameter: num_boost_rounds\n",
      "[LightGBM] [Warning] Unknown parameter: num_boost_rounds\n",
      "[LightGBM] [Warning] Unknown parameter: num_boost_rounds\n",
      "[LightGBM] [Warning] Unknown parameter: num_boost_rounds\n",
      "[LightGBM] [Warning] Unknown parameter: num_boost_rounds\n",
      "[LightGBM] [Warning] Unknown parameter: num_boost_rounds\n",
      "[LightGBM] [Warning] Unknown parameter: num_boost_rounds\n",
      "[LightGBM] [Warning] Unknown parameter: num_boost_rounds\n",
      "[LightGBM] [Warning] Unknown parameter: num_boost_rounds\n",
      "[LightGBM] [Warning] Unknown parameter: num_boost_rounds\n",
      "[LightGBM] [Warning] Unknown parameter: num_boost_rounds\n",
      "[LightGBM] [Warning] Unknown parameter: num_boost_rounds\n",
      "[LightGBM] [Warning] Unknown parameter: num_boost_rounds\n",
      "[LightGBM] [Warning] Unknown parameter: num_boost_rounds\n",
      "[LightGBM] [Warning] Unknown parameter: num_boost_rounds\n",
      "[LightGBM] [Warning] Unknown parameter: num_boost_rounds\n",
      "[LightGBM] [Warning] Unknown parameter: num_boost_rounds\n",
      "[LightGBM] [Warning] Unknown parameter: num_boost_rounds\n",
      "[LightGBM] [Warning] Unknown parameter: num_boost_rounds\n",
      "[LightGBM] [Warning] Unknown parameter: num_boost_rounds\n",
      "[LightGBM] [Warning] Unknown parameter: num_boost_rounds\n",
      "[LightGBM] [Warning] Unknown parameter: num_boost_rounds\n",
      "[LightGBM] [Warning] Unknown parameter: num_boost_rounds\n",
      "[LightGBM] [Warning] Unknown parameter: num_boost_rounds\n",
      "[LightGBM] [Warning] Unknown parameter: num_boost_rounds\n",
      "[LightGBM] [Warning] Unknown parameter: num_boost_rounds\n",
      "[LightGBM] [Warning] Unknown parameter: num_boost_rounds\n",
      "[LightGBM] [Warning] Unknown parameter: num_boost_rounds\n",
      "[LightGBM] [Warning] Unknown parameter: num_boost_rounds\n",
      "[LightGBM] [Warning] Unknown parameter: num_boost_rounds\n",
      "[LightGBM] [Warning] Unknown parameter: num_boost_rounds\n",
      "[LightGBM] [Warning] Unknown parameter: num_boost_rounds\n",
      "[LightGBM] [Warning] Unknown parameter: num_boost_rounds\n",
      "[LightGBM] [Warning] Unknown parameter: num_boost_rounds\n",
      "[LightGBM] [Warning] Unknown parameter: num_boost_rounds\n",
      "[LightGBM] [Warning] Unknown parameter: num_boost_rounds\n",
      "[LightGBM] [Warning] Unknown parameter: num_boost_rounds\n",
      "[LightGBM] [Warning] Unknown parameter: num_boost_rounds\n",
      "[LightGBM] [Warning] Unknown parameter: num_boost_rounds\n",
      "[LightGBM] [Warning] Unknown parameter: num_boost_rounds\n",
      "[LightGBM] [Warning] Unknown parameter: num_boost_rounds\n",
      "[LightGBM] [Warning] Unknown parameter: num_boost_rounds\n",
      "[LightGBM] [Warning] Unknown parameter: num_boost_rounds\n",
      "[LightGBM] [Warning] Unknown parameter: num_boost_rounds\n",
      "[LightGBM] [Warning] Unknown parameter: num_boost_rounds\n",
      "[LightGBM] [Warning] Unknown parameter: num_boost_rounds\n",
      "[LightGBM] [Warning] Unknown parameter: num_boost_rounds\n",
      "[LightGBM] [Warning] Unknown parameter: num_boost_rounds\n",
      "[LightGBM] [Warning] Unknown parameter: num_boost_rounds\n"
     ]
    }
   ],
   "source": [
    "for comp in y_train:\n",
    "  # execute search\n",
    "  start_time = time()\n",
    "\n",
    "  rs_cv_classifier.fit(X_train,y_train[comp])\n",
    "\n",
    "  rs_cv_time = time() - start_time\n",
    "\n",
    "  y_pred=rs_cv_classifier.predict(X_test)\n",
    "\n",
    "\n",
    "  print(f\"Best Parameter for {comp}: \\n\",rs_cv_classifier.best_params_)\n",
    "  print(f\"Total time {rs_cv_time}\")\n",
    "\n",
    "  cm = confusion_matrix(y_test[comp], y_pred)\n",
    "  print('Confusion matrix\\n\\n', cm)\n",
    "  print('\\nTrue Positives(TP) = ', cm[0,0])\n",
    "  print('\\nTrue Negatives(TN) = ', cm[1,1])\n",
    "  print('\\nFalse Positives(FP) = ', cm[0,1])\n",
    "  print('\\nFalse Negatives(FN) = ', cm[1,0])\n",
    "  print()\n",
    "  auc = roc_auc_score(y_test[comp], y_pred)\n",
    "  print(f'AUC = {auc}')\n",
    "  print()"
   ]
  },
  {
   "cell_type": "markdown",
   "metadata": {
    "id": "2c0dAcKUHaEh"
   },
   "source": [
    "## Best hyperparameters"
   ]
  },
  {
   "cell_type": "markdown",
   "metadata": {
    "id": "NXK5HYtRNdkj"
   },
   "source": [
    "We collect in a table the outputs from the Random Search in the previous step"
   ]
  },
  {
   "cell_type": "markdown",
   "metadata": {
    "id": "Ih0-TNlLEh7X"
   },
   "source": [
    "HyperParameter | Component 1 | Component 2 | Component 3 | Component 4  \n",
    "--- | --- | --- | --- | ---\n",
    "learning_rate | 0.04 | 0.04 | 0.0699999 | 0.069999\n",
    "num_leaves | 70 | 10 | 10 | 70\n",
    "max_depth | 5 | 5 | 7 | 5\n",
    "scale_pos_weight | 100 | 50 | 500 | 1\n"
   ]
  },
  {
   "cell_type": "code",
   "execution_count": 38,
   "metadata": {
    "id": "2D_TBlg9aGt-"
   },
   "outputs": [],
   "source": [
    "lgb_comp1_fail = LGBMClassifier(learning_rate=0.04,\n",
    "                                num_leaves=70,\n",
    "                                max_depth = 5,\n",
    "                                scale_pos_weight = 100)"
   ]
  },
  {
   "cell_type": "code",
   "execution_count": 39,
   "metadata": {
    "id": "Vd4_tCJWagIO"
   },
   "outputs": [],
   "source": [
    "lgb_comp2_fail = LGBMClassifier(learning_rate=0.04,\n",
    "                                num_leaves=10,\n",
    "                                max_depth = 5,\n",
    "                                scale_pos_weight = 50)"
   ]
  },
  {
   "cell_type": "code",
   "execution_count": 40,
   "metadata": {
    "id": "wE_b1Hy5aiPx"
   },
   "outputs": [],
   "source": [
    "lgb_comp3_fail = LGBMClassifier(learning_rate=0.069999999,\n",
    "                                num_leaves=10,\n",
    "                                max_depth = 7,\n",
    "                                scale_pos_weight = 500)"
   ]
  },
  {
   "cell_type": "code",
   "execution_count": 41,
   "metadata": {
    "id": "jETu-GCOaihM"
   },
   "outputs": [],
   "source": [
    "lgb_comp4_fail = LGBMClassifier(learning_rate=0.0699999,\n",
    "                                num_leaves=70,\n",
    "                                max_depth = 5,\n",
    "                                scale_pos_weight = 1)"
   ]
  },
  {
   "cell_type": "markdown",
   "metadata": {
    "id": "WlM00rncOCBU"
   },
   "source": [
    "#### Report"
   ]
  },
  {
   "cell_type": "markdown",
   "metadata": {
    "id": "RvFov4tbrKTn"
   },
   "source": [
    "We create a report with the classification metrics for the models built in the previous step.\n",
    "\n",
    "- ROC Curves summarize the trade-off between the true positive rate and false positive rate for a predictive model using different probability thresholds.\n",
    "\n",
    "- Precision-Recall curves summarize the trade-off between the true positive rate and the positive predictive value for a predictive model using different probability thresholds.\n",
    "\n",
    "- ROC curves are appropriate when the observations are balanced between each class, whereas precision-recall curves are appropriate for imbalanced datasets."
   ]
  },
  {
   "cell_type": "code",
   "execution_count": 42,
   "metadata": {
    "colab": {
     "base_uri": "https://localhost:8080/",
     "height": 1000
    },
    "executionInfo": {
     "elapsed": 26168,
     "status": "ok",
     "timestamp": 1642718987879,
     "user": {
      "displayName": "Alvaro Maria Diz",
      "photoUrl": "https://lh3.googleusercontent.com/a-/AOh14Giuutai_IbNVnvC4Beh-Byto_cZQYWl2mepxSIs-A8=s64",
      "userId": "17485357456412119731"
     },
     "user_tz": -60
    },
    "id": "b22sf2NVayJH",
    "outputId": "2cdcfc01-f1e9-4dfb-c2dc-7e11c369c44b"
   },
   "outputs": [
    {
     "name": "stdout",
     "output_type": "stream",
     "text": [
      "Evaluation of comp1_fail\n",
      "Confusion matrix\n",
      "\n",
      " [[72412   793]\n",
      " [   91   604]]\n",
      "\n",
      "True Positives(TP) =  72412\n",
      "\n",
      "True Negatives(TN) =  604\n",
      "\n",
      "False Positives(FP) =  793\n",
      "\n",
      "False Negatives(FN) =  91\n",
      "\n",
      "AUC = 0.9291160773996745\n",
      "\n",
      "              precision    recall  f1-score   support\n",
      "\n",
      "         0.0       1.00      0.99      0.99     73205\n",
      "         1.0       0.43      0.87      0.58       695\n",
      "\n",
      "    accuracy                           0.99     73900\n",
      "   macro avg       0.72      0.93      0.79     73900\n",
      "weighted avg       0.99      0.99      0.99     73900\n",
      "\n"
     ]
    },
    {
     "data": {
      "image/png": "[encoded data removed]",
      "text/plain": [
       "<Figure size 432x288 with 1 Axes>"
      ]
     },
     "metadata": {},
     "output_type": "display_data"
    },
    {
     "data": {
      "image/png": "[encoded data removed]",
      "text/plain": [
       "<Figure size 432x288 with 1 Axes>"
      ]
     },
     "metadata": {},
     "output_type": "display_data"
    },
    {
     "name": "stdout",
     "output_type": "stream",
     "text": [
      "\n",
      "Evaluation of comp2_fail\n",
      "Confusion matrix\n",
      "\n",
      " [[72042   699]\n",
      " [   24  1135]]\n",
      "\n",
      "True Positives(TP) =  72042\n",
      "\n",
      "True Negatives(TN) =  1135\n",
      "\n",
      "False Positives(FP) =  699\n",
      "\n",
      "False Negatives(FN) =  24\n",
      "\n",
      "AUC = 0.9848415286549953\n",
      "\n",
      "              precision    recall  f1-score   support\n",
      "\n",
      "         0.0       1.00      0.99      1.00     72741\n",
      "         1.0       0.62      0.98      0.76      1159\n",
      "\n",
      "    accuracy                           0.99     73900\n",
      "   macro avg       0.81      0.98      0.88     73900\n",
      "weighted avg       0.99      0.99      0.99     73900\n",
      "\n"
     ]
    },
    {
     "data": {
      "image/png": "[encoded data removed]",
      "text/plain": [
       "<Figure size 432x288 with 1 Axes>"
      ]
     },
     "metadata": {},
     "output_type": "display_data"
    },
    {
     "data": {
      "image/png": "[encoded data removed]",
      "text/plain": [
       "<Figure size 432x288 with 1 Axes>"
      ]
     },
     "metadata": {},
     "output_type": "display_data"
    },
    {
     "name": "stdout",
     "output_type": "stream",
     "text": [
      "\n",
      "Evaluation of comp3_fail\n",
      "Confusion matrix\n",
      "\n",
      " [[73314   115]\n",
      " [   53   418]]\n",
      "\n",
      "True Positives(TP) =  73314\n",
      "\n",
      "True Negatives(TN) =  418\n",
      "\n",
      "False Positives(FP) =  115\n",
      "\n",
      "False Negatives(FN) =  53\n",
      "\n",
      "AUC = 0.9429536610014169\n",
      "\n",
      "              precision    recall  f1-score   support\n",
      "\n",
      "         0.0       1.00      1.00      1.00     73429\n",
      "         1.0       0.78      0.89      0.83       471\n",
      "\n",
      "    accuracy                           1.00     73900\n",
      "   macro avg       0.89      0.94      0.92     73900\n",
      "weighted avg       1.00      1.00      1.00     73900\n",
      "\n"
     ]
    },
    {
     "data": {
      "image/png": "[encoded data removed]",
      "text/plain": [
       "<Figure size 432x288 with 1 Axes>"
      ]
     },
     "metadata": {},
     "output_type": "display_data"
    },
    {
     "data": {
      "image/png": "[encoded data removed]",
      "text/plain": [
       "<Figure size 432x288 with 1 Axes>"
      ]
     },
     "metadata": {},
     "output_type": "display_data"
    },
    {
     "name": "stdout",
     "output_type": "stream",
     "text": [
      "\n",
      "Evaluation of comp4_fail\n",
      "Confusion matrix\n",
      "\n",
      " [[73099   132]\n",
      " [   60   609]]\n",
      "\n",
      "True Positives(TP) =  73099\n",
      "\n",
      "True Negatives(TN) =  609\n",
      "\n",
      "False Positives(FP) =  132\n",
      "\n",
      "False Negatives(FN) =  60\n",
      "\n",
      "AUC = 0.9542556930085417\n",
      "\n",
      "              precision    recall  f1-score   support\n",
      "\n",
      "         0.0       1.00      1.00      1.00     73231\n",
      "         1.0       0.82      0.91      0.86       669\n",
      "\n",
      "    accuracy                           1.00     73900\n",
      "   macro avg       0.91      0.95      0.93     73900\n",
      "weighted avg       1.00      1.00      1.00     73900\n",
      "\n"
     ]
    },
    {
     "data": {
      "image/png": "[encoded data removed]",
      "text/plain": [
       "<Figure size 432x288 with 1 Axes>"
      ]
     },
     "metadata": {},
     "output_type": "display_data"
    },
    {
     "data": {
      "image/png": "[encoded data removed]",
      "text/plain": [
       "<Figure size 432x288 with 1 Axes>"
      ]
     },
     "metadata": {},
     "output_type": "display_data"
    },
    {
     "name": "stdout",
     "output_type": "stream",
     "text": [
      "\n"
     ]
    }
   ],
   "source": [
    "# Loop for the different components\n",
    "\n",
    "for comp in y_train.columns:\n",
    "  exec('lgb_temp = lgb_{}'.format(comp))\n",
    "  lgb_temp.fit(X_train, y_train[comp])\n",
    "  y_pred = lgb_temp.predict(X_test)\n",
    "  y_pred_prob = lgb_temp.predict_proba(X_test)[:,1]\n",
    "  \n",
    "  \n",
    "  # view confusion-matrix\n",
    "  # Print the Confusion Matrix and slice it into four pieces\n",
    "\n",
    "  cm = confusion_matrix(y_test[comp], y_pred)\n",
    "  print(f'Evaluation of {comp}')\n",
    "  print('Confusion matrix\\n\\n', cm)\n",
    "  print('\\nTrue Positives(TP) = ', cm[0,0])\n",
    "  print('\\nTrue Negatives(TN) = ', cm[1,1])\n",
    "  print('\\nFalse Positives(FP) = ', cm[0,1])\n",
    "  print('\\nFalse Negatives(FN) = ', cm[1,0])\n",
    "  print()\n",
    "  auc = roc_auc_score(y_test[comp], y_pred)\n",
    "  print(f'AUC = {auc}')\n",
    "  print()\n",
    "\n",
    "\n",
    "  # Report\n",
    "  print(classification_report(y_test[comp], y_pred))\n",
    "\n",
    "  # Calculate area under the curve (logit_roc_auc)\n",
    "  logit_roc_auc = roc_auc_score(y_test[comp], y_pred) \n",
    "  # Plot ROC\n",
    "  fpr, tpr, thresholds = roc_curve(y_test[comp], y_pred_prob) \n",
    "  plt.figure()\n",
    "  plt.plot(fpr, tpr, label='Model (Area = %0.2f)' % logit_roc_auc) \n",
    "  plt.plot([0, 1], [0, 1],'r--')\n",
    "  plt.xlim([0.0, 1.0])\n",
    "  plt.ylim([0.0, 1.05])\n",
    "  plt.xlabel('False Positive Rate')\n",
    "  plt.ylabel('True Positive Rate')\n",
    "  plt.title('Receiver Operating Characteristic')\n",
    "  plt.legend(loc=\"lower right\")\n",
    "  plt.savefig(f'LightGBM_ROC_{comp}')\n",
    "  plt.show()\n",
    "\n",
    "  # Get average precision\n",
    "  average_precision = average_precision_score(y_test[comp], y_pred)\n",
    "  # Plot PR\n",
    "  precision, recall, _ = precision_recall_curve(y_test[comp], y_pred_prob)\n",
    "  plt.step(recall, precision, color='b', alpha=0.2, where='post')\n",
    "  plt.fill_between(recall, precision, step='post', alpha=0.2, color='b')\n",
    "  plt.xlabel('Recall')\n",
    "  plt.ylabel('Precision')\n",
    "  plt.ylim([0.0, 1.05])\n",
    "  plt.xlim([0.0, 1.0])\n",
    "  plt.title(f'2-class Precision-Recall curve: AP={average_precision:.2f}')\n",
    "  plt.savefig(f'LightGBM_PR_{comp}')\n",
    "  plt.show()\n",
    "\n",
    "  print()"
   ]
  },
  {
   "cell_type": "markdown",
   "metadata": {
    "id": "cjZxmmU_o2xK"
   },
   "source": [
    "# Save the best model"
   ]
  },
  {
   "cell_type": "markdown",
   "metadata": {
    "id": "3LcW7MQVo-G_"
   },
   "source": [
    "Let's define the hyperparameters of the model to be saved.\n",
    "The whole dataset will be used to fit the model and enrich both from the training and testing data.\n"
   ]
  },
  {
   "cell_type": "code",
   "execution_count": 43,
   "metadata": {
    "id": "Q5GPvCPWj0Es"
   },
   "outputs": [],
   "source": [
    "X = compressors_all_data[(predictors+target)].dropna()\n",
    "y = compressors_all_data[(predictors+target)].dropna()\n",
    "\n",
    "X = X[predictors]\n",
    "y= y[target]"
   ]
  },
  {
   "cell_type": "code",
   "execution_count": 44,
   "metadata": {
    "id": "_f_eo7ZmRRGm"
   },
   "outputs": [],
   "source": [
    "for comp in y_train.columns:\n",
    "  exec('lgb_temp = lgb_{}'.format(comp))\n",
    "  lgb_temp.fit(X, y[comp])\n",
    "  lgb_temp.booster_.save_model(f\"lgb_model_{comp}.model\")"
   ]
  }
 ],
 "metadata": {
  "colab": {
   "authorship_tag": "ABX9TyNZF+B1PJr2rIbUUGVO8ZEH",
   "collapsed_sections": [
    "GXrcaKpniQRx",
    "7bsOcVzrx494"
   ],
   "name": "06_Classification_Hyperparameter_Tuning_LightGBM.ipynb",
   "provenance": [
    {
     "file_id": "1UqxvzWzL6oe_b9wLw6vvXDslf-jR68bx",
     "timestamp": 1641235704805
    },
    {
     "file_id": "1dGkT65sUdJjL3Td-hNAfZPLJmtMIDa9y",
     "timestamp": 1640433149543
    }
   ],
   "toc_visible": true,
   "version": ""
  },
  "kernelspec": {
   "display_name": "Python 3 (ipykernel)",
   "language": "python",
   "name": "python3"
  },
  "language_info": {
   "codemirror_mode": {
    "name": "ipython",
    "version": 3
   },
   "file_extension": ".py",
   "mimetype": "text/x-python",
   "name": "python",
   "nbconvert_exporter": "python",
   "pygments_lexer": "ipython3",
   "version": "3.9.6"
  }
 },
 "nbformat": 4,
 "nbformat_minor": 1
}
