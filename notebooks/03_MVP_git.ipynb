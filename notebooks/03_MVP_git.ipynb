{
 "cells": [
  {
   "cell_type": "markdown",
   "metadata": {
    "colab_type": "text",
    "id": "view-in-github"
   },
   "source": [
    "<a href=\"https://colab.research.google.com/github/alvarolj23/brujulaDataScientist/blob/main/03_MVP_git.ipynb\" target=\"_parent\"><img src=\"https://colab.research.google.com/assets/colab-badge.svg\" alt=\"Open In Colab\"/></a>"
   ]
  },
  {
   "cell_type": "markdown",
   "metadata": {
    "id": "Xyj5qLqAgGzb"
   },
   "source": [
    "# System preparation"
   ]
  },
  {
   "cell_type": "markdown",
   "metadata": {
    "id": "eJ9DrjWjlefp"
   },
   "source": [
    "## Import libraries"
   ]
  },
  {
   "cell_type": "code",
   "execution_count": null,
   "metadata": {
    "colab": {
     "base_uri": "https://localhost:8080/"
    },
    "id": "Qty4wqqWVLIH",
    "outputId": "5cd4f018-9fcc-4816-b1c5-605deccb385c"
   },
   "outputs": [
    {
     "name": "stdout",
     "output_type": "stream",
     "text": [
      "Collecting scikit-plot\n",
      "  Downloading scikit_plot-0.3.7-py3-none-any.whl (33 kB)\n",
      "Requirement already satisfied: scikit-learn>=0.18 in /usr/local/lib/python3.7/dist-packages (from scikit-plot) (1.0.1)\n",
      "Requirement already satisfied: matplotlib>=1.4.0 in /usr/local/lib/python3.7/dist-packages (from scikit-plot) (3.2.2)\n",
      "Requirement already satisfied: scipy>=0.9 in /usr/local/lib/python3.7/dist-packages (from scikit-plot) (1.4.1)\n",
      "Requirement already satisfied: joblib>=0.10 in /usr/local/lib/python3.7/dist-packages (from scikit-plot) (1.1.0)\n",
      "Requirement already satisfied: cycler>=0.10 in /usr/local/lib/python3.7/dist-packages (from matplotlib>=1.4.0->scikit-plot) (0.11.0)\n",
      "Requirement already satisfied: pyparsing!=2.0.4,!=2.1.2,!=2.1.6,>=2.0.1 in /usr/local/lib/python3.7/dist-packages (from matplotlib>=1.4.0->scikit-plot) (3.0.6)\n",
      "Requirement already satisfied: python-dateutil>=2.1 in /usr/local/lib/python3.7/dist-packages (from matplotlib>=1.4.0->scikit-plot) (2.8.2)\n",
      "Requirement already satisfied: kiwisolver>=1.0.1 in /usr/local/lib/python3.7/dist-packages (from matplotlib>=1.4.0->scikit-plot) (1.3.2)\n",
      "Requirement already satisfied: numpy>=1.11 in /usr/local/lib/python3.7/dist-packages (from matplotlib>=1.4.0->scikit-plot) (1.19.5)\n",
      "Requirement already satisfied: six>=1.5 in /usr/local/lib/python3.7/dist-packages (from python-dateutil>=2.1->matplotlib>=1.4.0->scikit-plot) (1.15.0)\n",
      "Requirement already satisfied: threadpoolctl>=2.0.0 in /usr/local/lib/python3.7/dist-packages (from scikit-learn>=0.18->scikit-plot) (3.0.0)\n",
      "Installing collected packages: scikit-plot\n",
      "Successfully installed scikit-plot-0.3.7\n"
     ]
    }
   ],
   "source": [
    "#pip install scikit-plot"
   ]
  },
  {
   "cell_type": "code",
   "execution_count": 1,
   "metadata": {
    "id": "VDejO8dRlfFg"
   },
   "outputs": [],
   "source": [
    "# Graphics\n",
    "import matplotlib.pyplot as plt\n",
    "import seaborn as sns\n",
    "import scikitplot as skplt\n",
    "# Data \n",
    "import numpy as np\n",
    "import pandas as pd\n",
    "\n",
    "#Regular expressions\n",
    "import re as re\n",
    "\n",
    "# Utilities\n",
    "from time import time\n",
    "from sklearn import preprocessing\n",
    "from sklearn import model_selection\n",
    "from sklearn.model_selection import train_test_split\n",
    "\n",
    "\n",
    "# Metrics\n",
    "from sklearn import metrics\n",
    "from sklearn.metrics import mean_squared_error, mean_absolute_error, r2_score\n",
    "# Classification\n",
    "from sklearn.metrics import confusion_matrix, recall_score, accuracy_score, precision_score, f1_score , roc_auc_score\n",
    "\n",
    "\n",
    "# Classification algorithms\n",
    "from sklearn.linear_model import LogisticRegression\n",
    "\n",
    "# Others\n",
    "import warnings\n",
    "from functools import reduce\n",
    "from pathlib import Path\n",
    "import os\n",
    "\n"
   ]
  },
  {
   "cell_type": "code",
   "execution_count": 2,
   "metadata": {
    "id": "DylJGrfnWaDh"
   },
   "outputs": [],
   "source": [
    "# Configurations.\n",
    "%matplotlib inline\n",
    "sns.set_style(\"darkgrid\")\n",
    "warnings.filterwarnings(\"ignore\")\n",
    "plt.rc(\"font\", family=\"serif\", size=15)"
   ]
  },
  {
   "cell_type": "markdown",
   "metadata": {
    "id": "0LPPFuhgfZCa"
   },
   "source": [
    "# MVP ML"
   ]
  },
  {
   "cell_type": "markdown",
   "metadata": {
    "id": "591q-7JykBke"
   },
   "source": [
    "### Read data "
   ]
  },
  {
   "cell_type": "code",
   "execution_count": 4,
   "metadata": {
    "id": "2VBzrZTQkD4k"
   },
   "outputs": [],
   "source": [
    "compressors_all_data_hourly = pd.read_csv(\"data/compressors_all_data_hourly.csv\", error_bad_lines=False, index_col=0)"
   ]
  },
  {
   "cell_type": "code",
   "execution_count": 5,
   "metadata": {
    "colab": {
     "base_uri": "https://localhost:8080/",
     "height": 835
    },
    "id": "xiubJuZWcI2w",
    "outputId": "1ff531cb-9205-41ac-9087-b432fa74fe2e"
   },
   "outputs": [
    {
     "data": {
      "text/html": [
       "<div>\n",
       "<style scoped>\n",
       "    .dataframe tbody tr th:only-of-type {\n",
       "        vertical-align: middle;\n",
       "    }\n",
       "\n",
       "    .dataframe tbody tr th {\n",
       "        vertical-align: top;\n",
       "    }\n",
       "\n",
       "    .dataframe thead th {\n",
       "        text-align: right;\n",
       "    }\n",
       "</style>\n",
       "<table border=\"1\" class=\"dataframe\">\n",
       "  <thead>\n",
       "    <tr style=\"text-align: right;\">\n",
       "      <th></th>\n",
       "      <th>datetime</th>\n",
       "      <th>compressorID</th>\n",
       "      <th>comp1_maint</th>\n",
       "      <th>comp2_maint</th>\n",
       "      <th>comp3_maint</th>\n",
       "      <th>comp4_maint</th>\n",
       "      <th>current</th>\n",
       "      <th>rpm</th>\n",
       "      <th>pressure</th>\n",
       "      <th>vibration</th>\n",
       "      <th>...</th>\n",
       "      <th>error4</th>\n",
       "      <th>error5</th>\n",
       "      <th>comp1_fail</th>\n",
       "      <th>comp2_fail</th>\n",
       "      <th>comp3_fail</th>\n",
       "      <th>comp4_fail</th>\n",
       "      <th>age</th>\n",
       "      <th>model2</th>\n",
       "      <th>model3</th>\n",
       "      <th>model4</th>\n",
       "    </tr>\n",
       "  </thead>\n",
       "  <tbody>\n",
       "    <tr>\n",
       "      <th>0</th>\n",
       "      <td>2014-06-01 06:00:00</td>\n",
       "      <td>1</td>\n",
       "      <td>0.0</td>\n",
       "      <td>1.0</td>\n",
       "      <td>0.0</td>\n",
       "      <td>0.0</td>\n",
       "      <td>0.0</td>\n",
       "      <td>0.0</td>\n",
       "      <td>0.0</td>\n",
       "      <td>0.0</td>\n",
       "      <td>...</td>\n",
       "      <td>0.0</td>\n",
       "      <td>0.0</td>\n",
       "      <td>0.0</td>\n",
       "      <td>0.0</td>\n",
       "      <td>0.0</td>\n",
       "      <td>0.0</td>\n",
       "      <td>18</td>\n",
       "      <td>0</td>\n",
       "      <td>1</td>\n",
       "      <td>0</td>\n",
       "    </tr>\n",
       "    <tr>\n",
       "      <th>1</th>\n",
       "      <td>2014-06-01 07:00:00</td>\n",
       "      <td>1</td>\n",
       "      <td>0.0</td>\n",
       "      <td>0.0</td>\n",
       "      <td>0.0</td>\n",
       "      <td>0.0</td>\n",
       "      <td>0.0</td>\n",
       "      <td>0.0</td>\n",
       "      <td>0.0</td>\n",
       "      <td>0.0</td>\n",
       "      <td>...</td>\n",
       "      <td>0.0</td>\n",
       "      <td>0.0</td>\n",
       "      <td>0.0</td>\n",
       "      <td>0.0</td>\n",
       "      <td>0.0</td>\n",
       "      <td>0.0</td>\n",
       "      <td>18</td>\n",
       "      <td>0</td>\n",
       "      <td>1</td>\n",
       "      <td>0</td>\n",
       "    </tr>\n",
       "    <tr>\n",
       "      <th>2</th>\n",
       "      <td>2014-06-01 08:00:00</td>\n",
       "      <td>1</td>\n",
       "      <td>0.0</td>\n",
       "      <td>0.0</td>\n",
       "      <td>0.0</td>\n",
       "      <td>0.0</td>\n",
       "      <td>0.0</td>\n",
       "      <td>0.0</td>\n",
       "      <td>0.0</td>\n",
       "      <td>0.0</td>\n",
       "      <td>...</td>\n",
       "      <td>0.0</td>\n",
       "      <td>0.0</td>\n",
       "      <td>0.0</td>\n",
       "      <td>0.0</td>\n",
       "      <td>0.0</td>\n",
       "      <td>0.0</td>\n",
       "      <td>18</td>\n",
       "      <td>0</td>\n",
       "      <td>1</td>\n",
       "      <td>0</td>\n",
       "    </tr>\n",
       "    <tr>\n",
       "      <th>3</th>\n",
       "      <td>2014-06-01 09:00:00</td>\n",
       "      <td>1</td>\n",
       "      <td>0.0</td>\n",
       "      <td>0.0</td>\n",
       "      <td>0.0</td>\n",
       "      <td>0.0</td>\n",
       "      <td>0.0</td>\n",
       "      <td>0.0</td>\n",
       "      <td>0.0</td>\n",
       "      <td>0.0</td>\n",
       "      <td>...</td>\n",
       "      <td>0.0</td>\n",
       "      <td>0.0</td>\n",
       "      <td>0.0</td>\n",
       "      <td>0.0</td>\n",
       "      <td>0.0</td>\n",
       "      <td>0.0</td>\n",
       "      <td>18</td>\n",
       "      <td>0</td>\n",
       "      <td>1</td>\n",
       "      <td>0</td>\n",
       "    </tr>\n",
       "    <tr>\n",
       "      <th>4</th>\n",
       "      <td>2014-06-01 10:00:00</td>\n",
       "      <td>1</td>\n",
       "      <td>0.0</td>\n",
       "      <td>0.0</td>\n",
       "      <td>0.0</td>\n",
       "      <td>0.0</td>\n",
       "      <td>0.0</td>\n",
       "      <td>0.0</td>\n",
       "      <td>0.0</td>\n",
       "      <td>0.0</td>\n",
       "      <td>...</td>\n",
       "      <td>0.0</td>\n",
       "      <td>0.0</td>\n",
       "      <td>0.0</td>\n",
       "      <td>0.0</td>\n",
       "      <td>0.0</td>\n",
       "      <td>0.0</td>\n",
       "      <td>18</td>\n",
       "      <td>0</td>\n",
       "      <td>1</td>\n",
       "      <td>0</td>\n",
       "    </tr>\n",
       "  </tbody>\n",
       "</table>\n",
       "<p>5 rows × 23 columns</p>\n",
       "</div>"
      ],
      "text/plain": [
       "              datetime  compressorID  comp1_maint  comp2_maint  comp3_maint  \\\n",
       "0  2014-06-01 06:00:00             1          0.0          1.0          0.0   \n",
       "1  2014-06-01 07:00:00             1          0.0          0.0          0.0   \n",
       "2  2014-06-01 08:00:00             1          0.0          0.0          0.0   \n",
       "3  2014-06-01 09:00:00             1          0.0          0.0          0.0   \n",
       "4  2014-06-01 10:00:00             1          0.0          0.0          0.0   \n",
       "\n",
       "   comp4_maint  current  rpm  pressure  vibration  ...  error4  error5  \\\n",
       "0          0.0      0.0  0.0       0.0        0.0  ...     0.0     0.0   \n",
       "1          0.0      0.0  0.0       0.0        0.0  ...     0.0     0.0   \n",
       "2          0.0      0.0  0.0       0.0        0.0  ...     0.0     0.0   \n",
       "3          0.0      0.0  0.0       0.0        0.0  ...     0.0     0.0   \n",
       "4          0.0      0.0  0.0       0.0        0.0  ...     0.0     0.0   \n",
       "\n",
       "   comp1_fail  comp2_fail  comp3_fail  comp4_fail  age  model2  model3  model4  \n",
       "0         0.0         0.0         0.0         0.0   18       0       1       0  \n",
       "1         0.0         0.0         0.0         0.0   18       0       1       0  \n",
       "2         0.0         0.0         0.0         0.0   18       0       1       0  \n",
       "3         0.0         0.0         0.0         0.0   18       0       1       0  \n",
       "4         0.0         0.0         0.0         0.0   18       0       1       0  \n",
       "\n",
       "[5 rows x 23 columns]"
      ]
     },
     "execution_count": 5,
     "metadata": {},
     "output_type": "execute_result"
    }
   ],
   "source": [
    "compressors_all_data_hourly.head()"
   ]
  },
  {
   "cell_type": "markdown",
   "metadata": {
    "id": "MU52OI1AfZCj"
   },
   "source": [
    "### Create the cycle column"
   ]
  },
  {
   "cell_type": "markdown",
   "metadata": {
    "id": "SzckbNmyfZCj"
   },
   "source": [
    "We will build a column with the number of the cycle. When building the model we will drop the datetime column and the cycle will help the model understanding the data is following chronological order.\n",
    "\n",
    "Data is described in the dataset each hour. Hence, it's assumed each cycle is equivalent to 1 hours"
   ]
  },
  {
   "cell_type": "code",
   "execution_count": 6,
   "metadata": {
    "colab": {
     "base_uri": "https://localhost:8080/"
    },
    "id": "-n_DqaPwfZCj",
    "outputId": "1d336a69-61e6-4ddc-968b-5a9ff77e7c45"
   },
   "outputs": [
    {
     "data": {
      "text/plain": [
       "100"
      ]
     },
     "execution_count": 6,
     "metadata": {},
     "output_type": "execute_result"
    }
   ],
   "source": [
    "# Create a list for the cycles\n",
    "cycles=[]\n",
    "len(compressors_all_data_hourly.groupby('compressorID')['datetime'].count())"
   ]
  },
  {
   "cell_type": "code",
   "execution_count": 7,
   "metadata": {
    "id": "KuvnVV7bfZCj"
   },
   "outputs": [],
   "source": [
    "# Loop the whole dataframe by compressorID and fill for each compressorID with the cycle number\n",
    "for machine in range(1,len(compressors_all_data_hourly.groupby('compressorID')['datetime'].count())+1):\n",
    "  num_cycle= 0\n",
    "  for num_cycle in range (1, compressors_all_data_hourly.groupby('compressorID')['datetime'].count()[machine]+1 ):   \n",
    "    cycles.append(num_cycle)"
   ]
  },
  {
   "cell_type": "code",
   "execution_count": 8,
   "metadata": {
    "id": "hNSk5FX8fZCj"
   },
   "outputs": [],
   "source": [
    "# Insert column in third position\n",
    "compressors_all_data_hourly.insert(2, 'cycle', cycles)"
   ]
  },
  {
   "cell_type": "code",
   "execution_count": 9,
   "metadata": {
    "colab": {
     "base_uri": "https://localhost:8080/",
     "height": 444
    },
    "id": "g1h8m1VNfZCj",
    "outputId": "9a046518-da57-4055-9918-13f3172f7c75"
   },
   "outputs": [
    {
     "data": {
      "text/html": [
       "<div>\n",
       "<style scoped>\n",
       "    .dataframe tbody tr th:only-of-type {\n",
       "        vertical-align: middle;\n",
       "    }\n",
       "\n",
       "    .dataframe tbody tr th {\n",
       "        vertical-align: top;\n",
       "    }\n",
       "\n",
       "    .dataframe thead th {\n",
       "        text-align: right;\n",
       "    }\n",
       "</style>\n",
       "<table border=\"1\" class=\"dataframe\">\n",
       "  <thead>\n",
       "    <tr style=\"text-align: right;\">\n",
       "      <th></th>\n",
       "      <th>datetime</th>\n",
       "      <th>compressorID</th>\n",
       "      <th>cycle</th>\n",
       "      <th>comp1_maint</th>\n",
       "      <th>comp2_maint</th>\n",
       "      <th>comp3_maint</th>\n",
       "      <th>comp4_maint</th>\n",
       "      <th>current</th>\n",
       "      <th>rpm</th>\n",
       "      <th>pressure</th>\n",
       "      <th>...</th>\n",
       "      <th>error4</th>\n",
       "      <th>error5</th>\n",
       "      <th>comp1_fail</th>\n",
       "      <th>comp2_fail</th>\n",
       "      <th>comp3_fail</th>\n",
       "      <th>comp4_fail</th>\n",
       "      <th>age</th>\n",
       "      <th>model2</th>\n",
       "      <th>model3</th>\n",
       "      <th>model4</th>\n",
       "    </tr>\n",
       "  </thead>\n",
       "  <tbody>\n",
       "    <tr>\n",
       "      <th>0</th>\n",
       "      <td>2014-06-01 06:00:00</td>\n",
       "      <td>1</td>\n",
       "      <td>1</td>\n",
       "      <td>0.0</td>\n",
       "      <td>1.0</td>\n",
       "      <td>0.0</td>\n",
       "      <td>0.0</td>\n",
       "      <td>0.0</td>\n",
       "      <td>0.0</td>\n",
       "      <td>0.0</td>\n",
       "      <td>...</td>\n",
       "      <td>0.0</td>\n",
       "      <td>0.0</td>\n",
       "      <td>0.0</td>\n",
       "      <td>0.0</td>\n",
       "      <td>0.0</td>\n",
       "      <td>0.0</td>\n",
       "      <td>18</td>\n",
       "      <td>0</td>\n",
       "      <td>1</td>\n",
       "      <td>0</td>\n",
       "    </tr>\n",
       "    <tr>\n",
       "      <th>1</th>\n",
       "      <td>2014-06-01 07:00:00</td>\n",
       "      <td>1</td>\n",
       "      <td>2</td>\n",
       "      <td>0.0</td>\n",
       "      <td>0.0</td>\n",
       "      <td>0.0</td>\n",
       "      <td>0.0</td>\n",
       "      <td>0.0</td>\n",
       "      <td>0.0</td>\n",
       "      <td>0.0</td>\n",
       "      <td>...</td>\n",
       "      <td>0.0</td>\n",
       "      <td>0.0</td>\n",
       "      <td>0.0</td>\n",
       "      <td>0.0</td>\n",
       "      <td>0.0</td>\n",
       "      <td>0.0</td>\n",
       "      <td>18</td>\n",
       "      <td>0</td>\n",
       "      <td>1</td>\n",
       "      <td>0</td>\n",
       "    </tr>\n",
       "    <tr>\n",
       "      <th>2</th>\n",
       "      <td>2014-06-01 08:00:00</td>\n",
       "      <td>1</td>\n",
       "      <td>3</td>\n",
       "      <td>0.0</td>\n",
       "      <td>0.0</td>\n",
       "      <td>0.0</td>\n",
       "      <td>0.0</td>\n",
       "      <td>0.0</td>\n",
       "      <td>0.0</td>\n",
       "      <td>0.0</td>\n",
       "      <td>...</td>\n",
       "      <td>0.0</td>\n",
       "      <td>0.0</td>\n",
       "      <td>0.0</td>\n",
       "      <td>0.0</td>\n",
       "      <td>0.0</td>\n",
       "      <td>0.0</td>\n",
       "      <td>18</td>\n",
       "      <td>0</td>\n",
       "      <td>1</td>\n",
       "      <td>0</td>\n",
       "    </tr>\n",
       "    <tr>\n",
       "      <th>3</th>\n",
       "      <td>2014-06-01 09:00:00</td>\n",
       "      <td>1</td>\n",
       "      <td>4</td>\n",
       "      <td>0.0</td>\n",
       "      <td>0.0</td>\n",
       "      <td>0.0</td>\n",
       "      <td>0.0</td>\n",
       "      <td>0.0</td>\n",
       "      <td>0.0</td>\n",
       "      <td>0.0</td>\n",
       "      <td>...</td>\n",
       "      <td>0.0</td>\n",
       "      <td>0.0</td>\n",
       "      <td>0.0</td>\n",
       "      <td>0.0</td>\n",
       "      <td>0.0</td>\n",
       "      <td>0.0</td>\n",
       "      <td>18</td>\n",
       "      <td>0</td>\n",
       "      <td>1</td>\n",
       "      <td>0</td>\n",
       "    </tr>\n",
       "    <tr>\n",
       "      <th>4</th>\n",
       "      <td>2014-06-01 10:00:00</td>\n",
       "      <td>1</td>\n",
       "      <td>5</td>\n",
       "      <td>0.0</td>\n",
       "      <td>0.0</td>\n",
       "      <td>0.0</td>\n",
       "      <td>0.0</td>\n",
       "      <td>0.0</td>\n",
       "      <td>0.0</td>\n",
       "      <td>0.0</td>\n",
       "      <td>...</td>\n",
       "      <td>0.0</td>\n",
       "      <td>0.0</td>\n",
       "      <td>0.0</td>\n",
       "      <td>0.0</td>\n",
       "      <td>0.0</td>\n",
       "      <td>0.0</td>\n",
       "      <td>18</td>\n",
       "      <td>0</td>\n",
       "      <td>1</td>\n",
       "      <td>0</td>\n",
       "    </tr>\n",
       "  </tbody>\n",
       "</table>\n",
       "<p>5 rows × 24 columns</p>\n",
       "</div>"
      ],
      "text/plain": [
       "              datetime  compressorID  cycle  comp1_maint  comp2_maint  \\\n",
       "0  2014-06-01 06:00:00             1      1          0.0          1.0   \n",
       "1  2014-06-01 07:00:00             1      2          0.0          0.0   \n",
       "2  2014-06-01 08:00:00             1      3          0.0          0.0   \n",
       "3  2014-06-01 09:00:00             1      4          0.0          0.0   \n",
       "4  2014-06-01 10:00:00             1      5          0.0          0.0   \n",
       "\n",
       "   comp3_maint  comp4_maint  current  rpm  pressure  ...  error4  error5  \\\n",
       "0          0.0          0.0      0.0  0.0       0.0  ...     0.0     0.0   \n",
       "1          0.0          0.0      0.0  0.0       0.0  ...     0.0     0.0   \n",
       "2          0.0          0.0      0.0  0.0       0.0  ...     0.0     0.0   \n",
       "3          0.0          0.0      0.0  0.0       0.0  ...     0.0     0.0   \n",
       "4          0.0          0.0      0.0  0.0       0.0  ...     0.0     0.0   \n",
       "\n",
       "   comp1_fail  comp2_fail  comp3_fail  comp4_fail  age  model2  model3  model4  \n",
       "0         0.0         0.0         0.0         0.0   18       0       1       0  \n",
       "1         0.0         0.0         0.0         0.0   18       0       1       0  \n",
       "2         0.0         0.0         0.0         0.0   18       0       1       0  \n",
       "3         0.0         0.0         0.0         0.0   18       0       1       0  \n",
       "4         0.0         0.0         0.0         0.0   18       0       1       0  \n",
       "\n",
       "[5 rows x 24 columns]"
      ]
     },
     "execution_count": 9,
     "metadata": {},
     "output_type": "execute_result"
    }
   ],
   "source": [
    "compressors_all_data_hourly.head()"
   ]
  },
  {
   "cell_type": "markdown",
   "metadata": {
    "id": "YS0uetScfZCk"
   },
   "source": [
    "### Seasonal features"
   ]
  },
  {
   "cell_type": "markdown",
   "metadata": {
    "id": "X-L6vJHqfZCk"
   },
   "source": [
    "The seasonal features will help our model understanding if there is any seasonality pattern followed by the data"
   ]
  },
  {
   "cell_type": "code",
   "execution_count": 10,
   "metadata": {
    "id": "uOlmTcN_lXG0"
   },
   "outputs": [],
   "source": [
    "compressors_all_data_hourly['datetime'] = pd.to_datetime(compressors_all_data_hourly['datetime'].fillna(method=\"ffill\"))"
   ]
  },
  {
   "cell_type": "code",
   "execution_count": 11,
   "metadata": {
    "id": "v1bsSHBE4kHr"
   },
   "outputs": [],
   "source": [
    "compressors_all_data_hourly['hour'] = compressors_all_data_hourly['datetime'].dt.hour"
   ]
  },
  {
   "cell_type": "code",
   "execution_count": 12,
   "metadata": {
    "id": "4e71KemJ3jwQ"
   },
   "outputs": [],
   "source": [
    "compressors_all_data_hourly['day'] = compressors_all_data_hourly['datetime'].dt.day"
   ]
  },
  {
   "cell_type": "code",
   "execution_count": 13,
   "metadata": {
    "id": "SSiobDaR4QYw"
   },
   "outputs": [],
   "source": [
    "compressors_all_data_hourly['month'] = compressors_all_data_hourly['datetime'].dt.month"
   ]
  },
  {
   "cell_type": "markdown",
   "metadata": {
    "id": "4poRPbVY89p8"
   },
   "source": [
    "Create columns in the dataframe"
   ]
  },
  {
   "cell_type": "code",
   "execution_count": 14,
   "metadata": {
    "id": "myT5kl6lfZCk"
   },
   "outputs": [],
   "source": [
    "compressors_all_data_hourly['hour_sin'] = np.sin(compressors_all_data_hourly.hour*(2.*np.pi/24))\n",
    "compressors_all_data_hourly['hour_cos'] = np.cos(compressors_all_data_hourly.hour*(2.*np.pi/24))"
   ]
  },
  {
   "cell_type": "code",
   "execution_count": 15,
   "metadata": {
    "id": "l06z0BiC55up"
   },
   "outputs": [],
   "source": [
    "compressors_all_data_hourly['day_sin'] = np.sin((compressors_all_data_hourly.day)*(2.*np.pi/30))\n",
    "compressors_all_data_hourly['day_cos'] = np.cos((compressors_all_data_hourly.day)*(2.*np.pi/30))"
   ]
  },
  {
   "cell_type": "code",
   "execution_count": 16,
   "metadata": {
    "id": "_U8lwlGa4-cJ"
   },
   "outputs": [],
   "source": [
    "compressors_all_data_hourly['month_sin'] = np.sin((compressors_all_data_hourly.month)*(2.*np.pi/12))\n",
    "compressors_all_data_hourly['month_cos'] = np.cos((compressors_all_data_hourly.month)*(2.*np.pi/12))"
   ]
  },
  {
   "cell_type": "code",
   "execution_count": 17,
   "metadata": {
    "id": "kp6Ajqqk6Wsb"
   },
   "outputs": [],
   "source": [
    "compressors_all_data_hourly.drop(['hour','day','month'] , axis = 1, inplace= True)"
   ]
  },
  {
   "cell_type": "markdown",
   "metadata": {
    "id": "NX6oyNozfZCk"
   },
   "source": [
    "### Model split: Training, Validation"
   ]
  },
  {
   "cell_type": "markdown",
   "metadata": {
    "id": "tMp7gBZxfZCk"
   },
   "source": [
    "When working with time series as in this thesis, partitioning in training, validation, and testing must be done carefully to avoid overestimating the performance of the models. \n",
    "\n",
    "Predictive models do not have advanced knowledge of future time trends - in practice, such trends are likely to exist and have an adverse impact on model performance. To get an accurate assessment of the performance of a predictive model, it is recommended to perform training on older records and validation / testing using the newer records.\n",
    "\n",
    "For both reasons, a time-dependent splitting strategy is an excellent choice for predictive maintenance models. The division is done by choosing a point in time according to the desired size of the training and test sets: all the records before the time point are used to train the model, and all the remaining records are used for testing."
   ]
  },
  {
   "cell_type": "code",
   "execution_count": 18,
   "metadata": {
    "colab": {
     "base_uri": "https://localhost:8080/"
    },
    "id": "Bs8xVql5AMtE",
    "outputId": "94353fbb-fdfc-47a7-c6cf-2e995dc6bb16"
   },
   "outputs": [
    {
     "data": {
      "text/plain": [
       "Timestamp('2014-06-01 06:00:00')"
      ]
     },
     "execution_count": 18,
     "metadata": {},
     "output_type": "execute_result"
    }
   ],
   "source": [
    "compressors_all_data_hourly['datetime'].min()"
   ]
  },
  {
   "cell_type": "code",
   "execution_count": 19,
   "metadata": {
    "colab": {
     "base_uri": "https://localhost:8080/"
    },
    "id": "06Na69cVAdIu",
    "outputId": "45473c6c-8fba-4832-8320-8dd154b2b3d2"
   },
   "outputs": [
    {
     "data": {
      "text/plain": [
       "Timestamp('2016-01-02 05:00:00')"
      ]
     },
     "execution_count": 19,
     "metadata": {},
     "output_type": "execute_result"
    }
   ],
   "source": [
    "compressors_all_data_hourly['datetime'].max()"
   ]
  },
  {
   "cell_type": "code",
   "execution_count": 20,
   "metadata": {
    "id": "roIOyrXyfZCk"
   },
   "outputs": [],
   "source": [
    "# We establish the times corresponding to the records that will be used for training and tests.\n",
    "threshold_dates = [\n",
    "    pd.to_datetime(\"2015-09-30 01:00:00\"), pd.to_datetime(\"2015-10-01 01:00:00\")\n",
    "]"
   ]
  },
  {
   "cell_type": "code",
   "execution_count": 21,
   "metadata": {
    "id": "_o_tZ_etfZCk"
   },
   "outputs": [],
   "source": [
    "# Create empty lists\n",
    "test_results = []\n",
    "models = []\n",
    "total = len(threshold_dates)"
   ]
  },
  {
   "cell_type": "code",
   "execution_count": 22,
   "metadata": {
    "id": "YG45uhHFfZCk"
   },
   "outputs": [],
   "source": [
    "# We make the partition of separate dates.\n",
    "last_train_date = threshold_dates[0]\n",
    "first_test_date = threshold_dates[1]"
   ]
  },
  {
   "cell_type": "code",
   "execution_count": 23,
   "metadata": {
    "colab": {
     "base_uri": "https://localhost:8080/"
    },
    "id": "PKT0WkFAfZCl",
    "outputId": "ff6bd34f-2b40-4856-9300-8dccab9956fa"
   },
   "outputs": [
    {
     "name": "stdout",
     "output_type": "stream",
     "text": [
      "1165900 registers for trainning\n",
      "223600 registers for testing\n",
      "19.2% of the total data is used for testing\n"
     ]
    }
   ],
   "source": [
    "# Typically 20-30% of the data is used.\n",
    "ntraining = compressors_all_data_hourly.loc[compressors_all_data_hourly[\"datetime\"] < last_train_date]\n",
    "ntesting = compressors_all_data_hourly.loc[compressors_all_data_hourly[\"datetime\"] > first_test_date]\n",
    "print(f\"{ntraining.shape[0]} registers for trainning\")\n",
    "print(f\"{ntesting.shape[0]} registers for testing\")\n",
    "print(f\"{ntesting.shape[0] / ntraining.shape[0] * 100:0.1f}% of the total data is used for testing\")"
   ]
  },
  {
   "cell_type": "markdown",
   "metadata": {
    "id": "710IijtcfZCl"
   },
   "source": [
    "Check how many failures we have in the train and test"
   ]
  },
  {
   "cell_type": "code",
   "execution_count": 24,
   "metadata": {
    "colab": {
     "base_uri": "https://localhost:8080/",
     "height": 835
    },
    "id": "Q_Q4svh2oSC5",
    "outputId": "817b7e20-c25b-4d4e-cb95-e62f99cf0d63"
   },
   "outputs": [
    {
     "data": {
      "text/html": [
       "<div>\n",
       "<style scoped>\n",
       "    .dataframe tbody tr th:only-of-type {\n",
       "        vertical-align: middle;\n",
       "    }\n",
       "\n",
       "    .dataframe tbody tr th {\n",
       "        vertical-align: top;\n",
       "    }\n",
       "\n",
       "    .dataframe thead th {\n",
       "        text-align: right;\n",
       "    }\n",
       "</style>\n",
       "<table border=\"1\" class=\"dataframe\">\n",
       "  <thead>\n",
       "    <tr style=\"text-align: right;\">\n",
       "      <th></th>\n",
       "      <th>datetime</th>\n",
       "      <th>compressorID</th>\n",
       "      <th>cycle</th>\n",
       "      <th>comp1_maint</th>\n",
       "      <th>comp2_maint</th>\n",
       "      <th>comp3_maint</th>\n",
       "      <th>comp4_maint</th>\n",
       "      <th>current</th>\n",
       "      <th>rpm</th>\n",
       "      <th>pressure</th>\n",
       "      <th>...</th>\n",
       "      <th>age</th>\n",
       "      <th>model2</th>\n",
       "      <th>model3</th>\n",
       "      <th>model4</th>\n",
       "      <th>hour_sin</th>\n",
       "      <th>hour_cos</th>\n",
       "      <th>day_sin</th>\n",
       "      <th>day_cos</th>\n",
       "      <th>month_sin</th>\n",
       "      <th>month_cos</th>\n",
       "    </tr>\n",
       "  </thead>\n",
       "  <tbody>\n",
       "    <tr>\n",
       "      <th>6672</th>\n",
       "      <td>2015-03-06 06:00:00</td>\n",
       "      <td>1</td>\n",
       "      <td>6673</td>\n",
       "      <td>1.0</td>\n",
       "      <td>0.0</td>\n",
       "      <td>0.0</td>\n",
       "      <td>0.0</td>\n",
       "      <td>198.257975</td>\n",
       "      <td>456.862342</td>\n",
       "      <td>89.333995</td>\n",
       "      <td>...</td>\n",
       "      <td>18</td>\n",
       "      <td>0</td>\n",
       "      <td>1</td>\n",
       "      <td>0</td>\n",
       "      <td>1.0</td>\n",
       "      <td>6.123234e-17</td>\n",
       "      <td>9.510565e-01</td>\n",
       "      <td>0.309017</td>\n",
       "      <td>1.000000</td>\n",
       "      <td>6.123234e-17</td>\n",
       "    </tr>\n",
       "    <tr>\n",
       "      <th>20904</th>\n",
       "      <td>2015-03-19 06:00:00</td>\n",
       "      <td>2</td>\n",
       "      <td>6985</td>\n",
       "      <td>1.0</td>\n",
       "      <td>1.0</td>\n",
       "      <td>0.0</td>\n",
       "      <td>0.0</td>\n",
       "      <td>179.277874</td>\n",
       "      <td>322.388170</td>\n",
       "      <td>118.153934</td>\n",
       "      <td>...</td>\n",
       "      <td>7</td>\n",
       "      <td>0</td>\n",
       "      <td>0</td>\n",
       "      <td>1</td>\n",
       "      <td>1.0</td>\n",
       "      <td>6.123234e-17</td>\n",
       "      <td>-7.431448e-01</td>\n",
       "      <td>-0.669131</td>\n",
       "      <td>1.000000</td>\n",
       "      <td>6.123234e-17</td>\n",
       "    </tr>\n",
       "    <tr>\n",
       "      <th>33840</th>\n",
       "      <td>2015-02-06 06:00:00</td>\n",
       "      <td>3</td>\n",
       "      <td>6001</td>\n",
       "      <td>1.0</td>\n",
       "      <td>0.0</td>\n",
       "      <td>0.0</td>\n",
       "      <td>0.0</td>\n",
       "      <td>171.461890</td>\n",
       "      <td>431.490019</td>\n",
       "      <td>110.075130</td>\n",
       "      <td>...</td>\n",
       "      <td>8</td>\n",
       "      <td>0</td>\n",
       "      <td>1</td>\n",
       "      <td>0</td>\n",
       "      <td>1.0</td>\n",
       "      <td>6.123234e-17</td>\n",
       "      <td>9.510565e-01</td>\n",
       "      <td>0.309017</td>\n",
       "      <td>0.866025</td>\n",
       "      <td>5.000000e-01</td>\n",
       "    </tr>\n",
       "    <tr>\n",
       "      <th>48000</th>\n",
       "      <td>2015-02-16 06:00:00</td>\n",
       "      <td>4</td>\n",
       "      <td>6241</td>\n",
       "      <td>1.0</td>\n",
       "      <td>0.0</td>\n",
       "      <td>0.0</td>\n",
       "      <td>0.0</td>\n",
       "      <td>235.493717</td>\n",
       "      <td>488.515673</td>\n",
       "      <td>94.289697</td>\n",
       "      <td>...</td>\n",
       "      <td>7</td>\n",
       "      <td>0</td>\n",
       "      <td>1</td>\n",
       "      <td>0</td>\n",
       "      <td>1.0</td>\n",
       "      <td>6.123234e-17</td>\n",
       "      <td>-2.079117e-01</td>\n",
       "      <td>-0.978148</td>\n",
       "      <td>0.866025</td>\n",
       "      <td>5.000000e-01</td>\n",
       "    </tr>\n",
       "    <tr>\n",
       "      <th>52680</th>\n",
       "      <td>2015-08-30 06:00:00</td>\n",
       "      <td>4</td>\n",
       "      <td>10921</td>\n",
       "      <td>1.0</td>\n",
       "      <td>0.0</td>\n",
       "      <td>0.0</td>\n",
       "      <td>0.0</td>\n",
       "      <td>184.624797</td>\n",
       "      <td>486.118810</td>\n",
       "      <td>93.691194</td>\n",
       "      <td>...</td>\n",
       "      <td>7</td>\n",
       "      <td>0</td>\n",
       "      <td>1</td>\n",
       "      <td>0</td>\n",
       "      <td>1.0</td>\n",
       "      <td>6.123234e-17</td>\n",
       "      <td>-2.449294e-16</td>\n",
       "      <td>1.000000</td>\n",
       "      <td>-0.866025</td>\n",
       "      <td>-5.000000e-01</td>\n",
       "    </tr>\n",
       "    <tr>\n",
       "      <th>...</th>\n",
       "      <td>...</td>\n",
       "      <td>...</td>\n",
       "      <td>...</td>\n",
       "      <td>...</td>\n",
       "      <td>...</td>\n",
       "      <td>...</td>\n",
       "      <td>...</td>\n",
       "      <td>...</td>\n",
       "      <td>...</td>\n",
       "      <td>...</td>\n",
       "      <td>...</td>\n",
       "      <td>...</td>\n",
       "      <td>...</td>\n",
       "      <td>...</td>\n",
       "      <td>...</td>\n",
       "      <td>...</td>\n",
       "      <td>...</td>\n",
       "      <td>...</td>\n",
       "      <td>...</td>\n",
       "      <td>...</td>\n",
       "      <td>...</td>\n",
       "    </tr>\n",
       "    <tr>\n",
       "      <th>1360752</th>\n",
       "      <td>2015-08-13 06:00:00</td>\n",
       "      <td>98</td>\n",
       "      <td>10513</td>\n",
       "      <td>1.0</td>\n",
       "      <td>0.0</td>\n",
       "      <td>0.0</td>\n",
       "      <td>1.0</td>\n",
       "      <td>172.192834</td>\n",
       "      <td>466.718730</td>\n",
       "      <td>97.213216</td>\n",
       "      <td>...</td>\n",
       "      <td>20</td>\n",
       "      <td>1</td>\n",
       "      <td>0</td>\n",
       "      <td>0</td>\n",
       "      <td>1.0</td>\n",
       "      <td>6.123234e-17</td>\n",
       "      <td>4.067366e-01</td>\n",
       "      <td>-0.913545</td>\n",
       "      <td>-0.866025</td>\n",
       "      <td>-5.000000e-01</td>\n",
       "    </tr>\n",
       "    <tr>\n",
       "      <th>1370064</th>\n",
       "      <td>2015-02-02 06:00:00</td>\n",
       "      <td>99</td>\n",
       "      <td>5905</td>\n",
       "      <td>1.0</td>\n",
       "      <td>0.0</td>\n",
       "      <td>0.0</td>\n",
       "      <td>0.0</td>\n",
       "      <td>174.266645</td>\n",
       "      <td>420.579042</td>\n",
       "      <td>110.596297</td>\n",
       "      <td>...</td>\n",
       "      <td>14</td>\n",
       "      <td>0</td>\n",
       "      <td>0</td>\n",
       "      <td>0</td>\n",
       "      <td>1.0</td>\n",
       "      <td>6.123234e-17</td>\n",
       "      <td>4.067366e-01</td>\n",
       "      <td>0.913545</td>\n",
       "      <td>0.866025</td>\n",
       "      <td>5.000000e-01</td>\n",
       "    </tr>\n",
       "    <tr>\n",
       "      <th>1372584</th>\n",
       "      <td>2015-05-18 06:00:00</td>\n",
       "      <td>99</td>\n",
       "      <td>8425</td>\n",
       "      <td>1.0</td>\n",
       "      <td>0.0</td>\n",
       "      <td>0.0</td>\n",
       "      <td>0.0</td>\n",
       "      <td>193.011248</td>\n",
       "      <td>447.278502</td>\n",
       "      <td>99.075683</td>\n",
       "      <td>...</td>\n",
       "      <td>14</td>\n",
       "      <td>0</td>\n",
       "      <td>0</td>\n",
       "      <td>0</td>\n",
       "      <td>1.0</td>\n",
       "      <td>6.123234e-17</td>\n",
       "      <td>-5.877853e-01</td>\n",
       "      <td>-0.809017</td>\n",
       "      <td>0.500000</td>\n",
       "      <td>-8.660254e-01</td>\n",
       "    </tr>\n",
       "    <tr>\n",
       "      <th>1384224</th>\n",
       "      <td>2015-02-12 06:00:00</td>\n",
       "      <td>100</td>\n",
       "      <td>6145</td>\n",
       "      <td>1.0</td>\n",
       "      <td>0.0</td>\n",
       "      <td>0.0</td>\n",
       "      <td>0.0</td>\n",
       "      <td>226.666914</td>\n",
       "      <td>484.516473</td>\n",
       "      <td>97.521897</td>\n",
       "      <td>...</td>\n",
       "      <td>5</td>\n",
       "      <td>0</td>\n",
       "      <td>0</td>\n",
       "      <td>1</td>\n",
       "      <td>1.0</td>\n",
       "      <td>6.123234e-17</td>\n",
       "      <td>5.877853e-01</td>\n",
       "      <td>-0.809017</td>\n",
       "      <td>0.866025</td>\n",
       "      <td>5.000000e-01</td>\n",
       "    </tr>\n",
       "    <tr>\n",
       "      <th>1389264</th>\n",
       "      <td>2015-09-10 06:00:00</td>\n",
       "      <td>100</td>\n",
       "      <td>11185</td>\n",
       "      <td>1.0</td>\n",
       "      <td>0.0</td>\n",
       "      <td>0.0</td>\n",
       "      <td>0.0</td>\n",
       "      <td>201.781023</td>\n",
       "      <td>520.820195</td>\n",
       "      <td>90.944571</td>\n",
       "      <td>...</td>\n",
       "      <td>5</td>\n",
       "      <td>0</td>\n",
       "      <td>0</td>\n",
       "      <td>1</td>\n",
       "      <td>1.0</td>\n",
       "      <td>6.123234e-17</td>\n",
       "      <td>8.660254e-01</td>\n",
       "      <td>-0.500000</td>\n",
       "      <td>-1.000000</td>\n",
       "      <td>-1.836970e-16</td>\n",
       "    </tr>\n",
       "  </tbody>\n",
       "</table>\n",
       "<p>153 rows × 30 columns</p>\n",
       "</div>"
      ],
      "text/plain": [
       "                   datetime  compressorID  cycle  comp1_maint  comp2_maint  \\\n",
       "6672    2015-03-06 06:00:00             1   6673          1.0          0.0   \n",
       "20904   2015-03-19 06:00:00             2   6985          1.0          1.0   \n",
       "33840   2015-02-06 06:00:00             3   6001          1.0          0.0   \n",
       "48000   2015-02-16 06:00:00             4   6241          1.0          0.0   \n",
       "52680   2015-08-30 06:00:00             4  10921          1.0          0.0   \n",
       "...                     ...           ...    ...          ...          ...   \n",
       "1360752 2015-08-13 06:00:00            98  10513          1.0          0.0   \n",
       "1370064 2015-02-02 06:00:00            99   5905          1.0          0.0   \n",
       "1372584 2015-05-18 06:00:00            99   8425          1.0          0.0   \n",
       "1384224 2015-02-12 06:00:00           100   6145          1.0          0.0   \n",
       "1389264 2015-09-10 06:00:00           100  11185          1.0          0.0   \n",
       "\n",
       "         comp3_maint  comp4_maint     current         rpm    pressure  ...  \\\n",
       "6672             0.0          0.0  198.257975  456.862342   89.333995  ...   \n",
       "20904            0.0          0.0  179.277874  322.388170  118.153934  ...   \n",
       "33840            0.0          0.0  171.461890  431.490019  110.075130  ...   \n",
       "48000            0.0          0.0  235.493717  488.515673   94.289697  ...   \n",
       "52680            0.0          0.0  184.624797  486.118810   93.691194  ...   \n",
       "...              ...          ...         ...         ...         ...  ...   \n",
       "1360752          0.0          1.0  172.192834  466.718730   97.213216  ...   \n",
       "1370064          0.0          0.0  174.266645  420.579042  110.596297  ...   \n",
       "1372584          0.0          0.0  193.011248  447.278502   99.075683  ...   \n",
       "1384224          0.0          0.0  226.666914  484.516473   97.521897  ...   \n",
       "1389264          0.0          0.0  201.781023  520.820195   90.944571  ...   \n",
       "\n",
       "         age  model2  model3  model4  hour_sin      hour_cos       day_sin  \\\n",
       "6672      18       0       1       0       1.0  6.123234e-17  9.510565e-01   \n",
       "20904      7       0       0       1       1.0  6.123234e-17 -7.431448e-01   \n",
       "33840      8       0       1       0       1.0  6.123234e-17  9.510565e-01   \n",
       "48000      7       0       1       0       1.0  6.123234e-17 -2.079117e-01   \n",
       "52680      7       0       1       0       1.0  6.123234e-17 -2.449294e-16   \n",
       "...      ...     ...     ...     ...       ...           ...           ...   \n",
       "1360752   20       1       0       0       1.0  6.123234e-17  4.067366e-01   \n",
       "1370064   14       0       0       0       1.0  6.123234e-17  4.067366e-01   \n",
       "1372584   14       0       0       0       1.0  6.123234e-17 -5.877853e-01   \n",
       "1384224    5       0       0       1       1.0  6.123234e-17  5.877853e-01   \n",
       "1389264    5       0       0       1       1.0  6.123234e-17  8.660254e-01   \n",
       "\n",
       "          day_cos  month_sin     month_cos  \n",
       "6672     0.309017   1.000000  6.123234e-17  \n",
       "20904   -0.669131   1.000000  6.123234e-17  \n",
       "33840    0.309017   0.866025  5.000000e-01  \n",
       "48000   -0.978148   0.866025  5.000000e-01  \n",
       "52680    1.000000  -0.866025 -5.000000e-01  \n",
       "...           ...        ...           ...  \n",
       "1360752 -0.913545  -0.866025 -5.000000e-01  \n",
       "1370064  0.913545   0.866025  5.000000e-01  \n",
       "1372584 -0.809017   0.500000 -8.660254e-01  \n",
       "1384224 -0.809017   0.866025  5.000000e-01  \n",
       "1389264 -0.500000  -1.000000 -1.836970e-16  \n",
       "\n",
       "[153 rows x 30 columns]"
      ]
     },
     "execution_count": 24,
     "metadata": {},
     "output_type": "execute_result"
    }
   ],
   "source": [
    "ntraining[ntraining['comp1_fail']==1.0]"
   ]
  },
  {
   "cell_type": "code",
   "execution_count": 25,
   "metadata": {
    "colab": {
     "base_uri": "https://localhost:8080/"
    },
    "id": "sfSQGcf3fZCl",
    "outputId": "17d4383b-c2d9-49e6-d581-1d95993fc16f"
   },
   "outputs": [
    {
     "name": "stdout",
     "output_type": "stream",
     "text": [
      "0.013% of the total cases are failures in the train dataset\n",
      "0.017% of the total cases are failures in the test dataset\n"
     ]
    }
   ],
   "source": [
    "# Observe the shapes from the dataframes\n",
    "fails_train = ntraining[ntraining[\"comp1_fail\"] != 0].shape[0]\n",
    "no_fails_train = ntraining[ntraining[\"comp1_fail\"] == 0].shape[0]\n",
    "fails_test = ntesting[ntesting[\"comp1_fail\"] != 0].shape[0]\n",
    "no_fails_test = ntesting[ntesting[\"comp1_fail\"] == 0].shape[0]\n",
    "\n",
    "print(f\"{fails_train / no_fails_train * 100:0.3f}% of the total cases are failures in the train dataset\")\n",
    "print(f\"{fails_test / no_fails_test * 100:0.3f}% of the total cases are failures in the test dataset\")"
   ]
  },
  {
   "cell_type": "markdown",
   "metadata": {
    "id": "xnbSbnwyfZCl"
   },
   "source": [
    "We see it's crearly an unbalanced problem. \n",
    "Some of the techniques that are normally applied for unbalanced problems are:\n",
    "- Minor sample of the majority class. \n",
    "- SMOTE (Synthetic Minority Over-sampling Technique). \n",
    "- Assign weights to minority class.\n",
    "\n",
    "In a further stage of this project is planned to test these approaches in order to overcome the difficulties arisen due to the unbalanced data."
   ]
  },
  {
   "cell_type": "markdown",
   "metadata": {
    "id": "_cAchm1KfZCl"
   },
   "source": [
    "### Variables selection"
   ]
  },
  {
   "cell_type": "markdown",
   "metadata": {
    "id": "wOxyry8dfZCl"
   },
   "source": [
    "We create lists containing the names of the columns for:\n",
    "- Sensors\n",
    "- Errors\n",
    "- Maintenance\n",
    "- Model\n",
    "- Age\n",
    "- Failures"
   ]
  },
  {
   "cell_type": "code",
   "execution_count": 26,
   "metadata": {
    "id": "ozGW19xqfZCl"
   },
   "outputs": [],
   "source": [
    "# Iterate over the columns and get the names\n",
    "cols_sensors = ['current' , 'rpm', 'pressure' , 'vibration']\n",
    "cols_errors = [col for col in compressors_all_data_hourly.columns if (('error' in col) & ('count' not in col))]\n",
    "cols_maint = [col for col in compressors_all_data_hourly.columns if \"maint\" in col]\n",
    "cols_model_dum = [col for col in compressors_all_data_hourly.columns if 'model' in col]\n",
    "cols_comp_info = [col for col in compressors_all_data_hourly.columns if 'age' in col]\n",
    "cols_hour = [col for col in compressors_all_data_hourly.columns if 'hour' in col]\n",
    "cols_day = [col for col in compressors_all_data_hourly.columns if 'day' in col]\n",
    "cols_month = [col for col in compressors_all_data_hourly.columns if 'month' in col]"
   ]
  },
  {
   "cell_type": "code",
   "execution_count": 27,
   "metadata": {
    "id": "PE4NGKLAfZCl"
   },
   "outputs": [],
   "source": [
    "# Iterate over the columns and get the names\n",
    "cols_failures_dum = [col for col in compressors_all_data_hourly.columns if 'fail' in col]"
   ]
  },
  {
   "cell_type": "code",
   "execution_count": 28,
   "metadata": {
    "colab": {
     "base_uri": "https://localhost:8080/"
    },
    "id": "70FptmsDfZCl",
    "outputId": "98d649c8-e631-494b-e0c1-96fc07104466"
   },
   "outputs": [
    {
     "data": {
      "text/plain": [
       "['comp1_fail', 'comp2_fail', 'comp3_fail', 'comp4_fail']"
      ]
     },
     "execution_count": 28,
     "metadata": {},
     "output_type": "execute_result"
    }
   ],
   "source": [
    "# Model target\n",
    "target = cols_failures_dum\n",
    "target"
   ]
  },
  {
   "cell_type": "code",
   "execution_count": 29,
   "metadata": {
    "colab": {
     "base_uri": "https://localhost:8080/"
    },
    "id": "BLdTY3dffZCm",
    "outputId": "c083cdac-33e1-467b-93e7-1e0f2723e4d4"
   },
   "outputs": [
    {
     "data": {
      "text/plain": [
       "['compressorID',\n",
       " 'cycle',\n",
       " 'current',\n",
       " 'rpm',\n",
       " 'pressure',\n",
       " 'vibration',\n",
       " 'error1',\n",
       " 'error2',\n",
       " 'error3',\n",
       " 'error4',\n",
       " 'error5',\n",
       " 'comp1_maint',\n",
       " 'comp2_maint',\n",
       " 'comp3_maint',\n",
       " 'comp4_maint',\n",
       " 'model2',\n",
       " 'model3',\n",
       " 'model4',\n",
       " 'age',\n",
       " 'hour_sin',\n",
       " 'hour_cos',\n",
       " 'day_sin',\n",
       " 'day_cos',\n",
       " 'month_sin',\n",
       " 'month_cos']"
      ]
     },
     "execution_count": 29,
     "metadata": {},
     "output_type": "execute_result"
    }
   ],
   "source": [
    "# Predictors to be included in the model\n",
    "predictors = ['compressorID' , 'cycle']  + cols_sensors + cols_errors  + cols_maint  + cols_model_dum+ cols_comp_info + cols_hour + cols_day + cols_month\n",
    "predictors"
   ]
  },
  {
   "cell_type": "code",
   "execution_count": 30,
   "metadata": {
    "colab": {
     "base_uri": "https://localhost:8080/"
    },
    "id": "DYsS75PgfZCm",
    "outputId": "b69cdd8e-64f8-4421-f19c-c460e66f3e27"
   },
   "outputs": [
    {
     "data": {
      "text/plain": [
       "['error1',\n",
       " 'error2',\n",
       " 'error3',\n",
       " 'error4',\n",
       " 'error5',\n",
       " 'model2',\n",
       " 'model3',\n",
       " 'model4',\n",
       " 'age']"
      ]
     },
     "execution_count": 30,
     "metadata": {},
     "output_type": "execute_result"
    }
   ],
   "source": [
    "# Categorical columns\n",
    "categorical = cols_errors + cols_model_dum+ cols_comp_info\n",
    "categorical"
   ]
  },
  {
   "cell_type": "markdown",
   "metadata": {
    "id": "jZ6fBolzfZCm"
   },
   "source": [
    "Remove NaN values in order to be possible running all the algorithms"
   ]
  },
  {
   "cell_type": "code",
   "execution_count": 31,
   "metadata": {
    "id": "MzmUOEDffZCm"
   },
   "outputs": [],
   "source": [
    "# Remobe NaN and select only important columns for the model\n",
    "ntraining = ntraining[(predictors+target)].dropna()\n",
    "ntesting = ntesting[(predictors+target)].dropna()"
   ]
  },
  {
   "cell_type": "code",
   "execution_count": 32,
   "metadata": {
    "id": "TaOK-LRpfZCm"
   },
   "outputs": [],
   "source": [
    "#Create train and test dataframes\n",
    "X_train = ntraining[predictors]\n",
    "y_train = ntraining[target]\n",
    "X_test = ntesting[predictors]\n",
    "y_test = ntesting[target]"
   ]
  },
  {
   "cell_type": "code",
   "execution_count": 33,
   "metadata": {
    "colab": {
     "base_uri": "https://localhost:8080/"
    },
    "id": "aa1s6c4LfZCm",
    "outputId": "ba96cfa4-9503-44a8-809e-af41e5a1cf19"
   },
   "outputs": [
    {
     "data": {
      "text/plain": [
       "comp1_fail  comp2_fail  comp3_fail  comp4_fail\n",
       "0.0         0.0         0.0         0.0           1165353\n",
       "            1.0         0.0         0.0               165\n",
       "1.0         0.0         0.0         0.0               138\n",
       "0.0         0.0         0.0         1.0               120\n",
       "                        1.0         0.0                91\n",
       "            1.0         0.0         1.0                11\n",
       "1.0         1.0         0.0         0.0                 7\n",
       "0.0         1.0         1.0         0.0                 4\n",
       "1.0         0.0         0.0         1.0                 4\n",
       "                        1.0         0.0                 4\n",
       "0.0         0.0         1.0         1.0                 3\n",
       "dtype: int64"
      ]
     },
     "execution_count": 33,
     "metadata": {},
     "output_type": "execute_result"
    }
   ],
   "source": [
    "y_train.value_counts()"
   ]
  },
  {
   "cell_type": "code",
   "execution_count": 34,
   "metadata": {
    "colab": {
     "base_uri": "https://localhost:8080/"
    },
    "id": "v1RkVhVyJfQo",
    "outputId": "30bb9463-856c-4a41-c49c-8cd84f7917d4"
   },
   "outputs": [
    {
     "data": {
      "text/plain": [
       "comp1_fail  comp2_fail  comp3_fail  comp4_fail\n",
       "0.0         0.0         0.0         0.0           223429\n",
       "            1.0         0.0         0.0               67\n",
       "            0.0         0.0         1.0               35\n",
       "1.0         0.0         0.0         0.0               34\n",
       "0.0         0.0         1.0         0.0               26\n",
       "            1.0         0.0         1.0                3\n",
       "1.0         0.0         0.0         1.0                2\n",
       "            1.0         0.0         0.0                2\n",
       "0.0         0.0         1.0         1.0                1\n",
       "1.0         0.0         1.0         0.0                1\n",
       "dtype: int64"
      ]
     },
     "execution_count": 34,
     "metadata": {},
     "output_type": "execute_result"
    }
   ],
   "source": [
    "y_test.value_counts()"
   ]
  },
  {
   "cell_type": "markdown",
   "metadata": {
    "id": "L9FQ-QE8fZCm"
   },
   "source": [
    "### Logistic Regression"
   ]
  },
  {
   "cell_type": "markdown",
   "metadata": {
    "id": "7TU56KItfZCm"
   },
   "source": [
    "As first MVP we will apply the Logistic Regression model and see how is the performance of the model.\n",
    "\n",
    "As expected, our model has an abnormal behaviour and it's not able to identify any of the failures.\n",
    "\n",
    "This performance is not acceptable."
   ]
  },
  {
   "cell_type": "code",
   "execution_count": 35,
   "metadata": {
    "colab": {
     "base_uri": "https://localhost:8080/"
    },
    "id": "CuP51rQLfZCm",
    "outputId": "a811272c-3997-41ea-be16-cbb691065df4"
   },
   "outputs": [
    {
     "name": "stdout",
     "output_type": "stream",
     "text": [
      "Classification matrix for: comp1_fail\n",
      "\n",
      "[[223561      0]\n",
      " [    39      0]]\n",
      "\n",
      "Classification matrix for: comp2_fail\n",
      "\n",
      "[[223528      0]\n",
      " [    72      0]]\n",
      "\n",
      "Classification matrix for: comp3_fail\n",
      "\n",
      "[[223572      0]\n",
      " [    28      0]]\n",
      "\n",
      "Classification matrix for: comp4_fail\n",
      "\n",
      "[[223559      0]\n",
      " [    41      0]]\n",
      "\n"
     ]
    }
   ],
   "source": [
    "# For each component\n",
    "\n",
    "for comp in y_train.columns:\n",
    "  logit = LogisticRegression()\n",
    "  logit.fit(X_train,y_train[comp])\n",
    "  y_pred = logit.predict(X_test)\n",
    "  print(f\"Classification matrix for: {comp}\")\n",
    "  print()\n",
    "  print(confusion_matrix(y_test[comp], y_pred))\n",
    "  print()\n"
   ]
  },
  {
   "cell_type": "markdown",
   "metadata": {},
   "source": [
    "# Conclusion"
   ]
  },
  {
   "cell_type": "markdown",
   "metadata": {},
   "source": [
    "The predictive maintenance problem is very imbalanced. Very small number of failures compared to the large amount of data collected by the sensors each hour. The logistic regression is not able to predict any of the failures. \n",
    "\n",
    "We will mofify the raw data accordingly performing some feature engineering."
   ]
  }
 ],
 "metadata": {
  "colab": {
   "authorship_tag": "ABX9TyMt+ffnlUgUQnvmP48kPcmW",
   "include_colab_link": true,
   "name": "03_MVP_git.ipynb",
   "provenance": [],
   "toc_visible": true
  },
  "kernelspec": {
   "display_name": "Python 3 (ipykernel)",
   "language": "python",
   "name": "python3"
  },
  "language_info": {
   "codemirror_mode": {
    "name": "ipython",
    "version": 3
   },
   "file_extension": ".py",
   "mimetype": "text/x-python",
   "name": "python",
   "nbconvert_exporter": "python",
   "pygments_lexer": "ipython3",
   "version": "3.9.6"
  }
 },
 "nbformat": 4,
 "nbformat_minor": 1
}
