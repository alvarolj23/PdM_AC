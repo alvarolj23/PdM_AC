{
 "cells": [
  {
   "cell_type": "markdown",
   "metadata": {
    "colab_type": "text",
    "id": "view-in-github"
   },
   "source": [
    "<a href=\"https://colab.research.google.com/github/alvarolj23/brujulaDataScientist/blob/main/02_EDA_git.ipynb\" target=\"_parent\"><img src=\"https://colab.research.google.com/assets/colab-badge.svg\" alt=\"Open In Colab\"/></a>"
   ]
  },
  {
   "cell_type": "markdown",
   "metadata": {
    "id": "Xyj5qLqAgGzb"
   },
   "source": [
    "# System preparation"
   ]
  },
  {
   "cell_type": "markdown",
   "metadata": {
    "id": "eJ9DrjWjlefp"
   },
   "source": [
    "## Import libraries"
   ]
  },
  {
   "cell_type": "code",
   "execution_count": 1,
   "metadata": {
    "colab": {
     "base_uri": "https://localhost:8080/"
    },
    "id": "Qty4wqqWVLIH",
    "outputId": "4886a028-5217-4e14-85ad-1bd7909f9115"
   },
   "outputs": [
    {
     "name": "stdout",
     "output_type": "stream",
     "text": [
      "Collecting scikit-plot\n",
      "  Downloading scikit_plot-0.3.7-py3-none-any.whl (33 kB)\n",
      "Requirement already satisfied: scipy>=0.9 in /Library/Frameworks/Python.framework/Versions/3.9/lib/python3.9/site-packages (from scikit-plot) (1.7.0)\n",
      "Requirement already satisfied: scikit-learn>=0.18 in /Library/Frameworks/Python.framework/Versions/3.9/lib/python3.9/site-packages (from scikit-plot) (0.24.2)\n",
      "Requirement already satisfied: joblib>=0.10 in /Library/Frameworks/Python.framework/Versions/3.9/lib/python3.9/site-packages (from scikit-plot) (1.0.1)\n",
      "Requirement already satisfied: matplotlib>=1.4.0 in /Library/Frameworks/Python.framework/Versions/3.9/lib/python3.9/site-packages (from scikit-plot) (3.5.0)\n",
      "Requirement already satisfied: kiwisolver>=1.0.1 in /Library/Frameworks/Python.framework/Versions/3.9/lib/python3.9/site-packages (from matplotlib>=1.4.0->scikit-plot) (1.3.2)\n",
      "Requirement already satisfied: packaging>=20.0 in /Library/Frameworks/Python.framework/Versions/3.9/lib/python3.9/site-packages (from matplotlib>=1.4.0->scikit-plot) (21.0)\n",
      "Requirement already satisfied: python-dateutil>=2.7 in /Library/Frameworks/Python.framework/Versions/3.9/lib/python3.9/site-packages (from matplotlib>=1.4.0->scikit-plot) (2.8.2)\n",
      "Requirement already satisfied: cycler>=0.10 in /Library/Frameworks/Python.framework/Versions/3.9/lib/python3.9/site-packages (from matplotlib>=1.4.0->scikit-plot) (0.11.0)\n",
      "Requirement already satisfied: pyparsing>=2.2.1 in /Library/Frameworks/Python.framework/Versions/3.9/lib/python3.9/site-packages (from matplotlib>=1.4.0->scikit-plot) (2.4.7)\n",
      "Requirement already satisfied: pillow>=6.2.0 in /Library/Frameworks/Python.framework/Versions/3.9/lib/python3.9/site-packages (from matplotlib>=1.4.0->scikit-plot) (8.3.1)\n",
      "Requirement already satisfied: setuptools-scm>=4 in /Library/Frameworks/Python.framework/Versions/3.9/lib/python3.9/site-packages (from matplotlib>=1.4.0->scikit-plot) (6.3.2)\n",
      "Requirement already satisfied: numpy>=1.17 in /Library/Frameworks/Python.framework/Versions/3.9/lib/python3.9/site-packages (from matplotlib>=1.4.0->scikit-plot) (1.21.1)\n",
      "Requirement already satisfied: fonttools>=4.22.0 in /Library/Frameworks/Python.framework/Versions/3.9/lib/python3.9/site-packages (from matplotlib>=1.4.0->scikit-plot) (4.28.3)\n",
      "Requirement already satisfied: six>=1.5 in /Library/Frameworks/Python.framework/Versions/3.9/lib/python3.9/site-packages (from python-dateutil>=2.7->matplotlib>=1.4.0->scikit-plot) (1.16.0)\n",
      "Requirement already satisfied: threadpoolctl>=2.0.0 in /Library/Frameworks/Python.framework/Versions/3.9/lib/python3.9/site-packages (from scikit-learn>=0.18->scikit-plot) (2.2.0)\n",
      "Requirement already satisfied: setuptools in /Library/Frameworks/Python.framework/Versions/3.9/lib/python3.9/site-packages (from setuptools-scm>=4->matplotlib>=1.4.0->scikit-plot) (56.0.0)\n",
      "Requirement already satisfied: tomli>=1.0.0 in /Library/Frameworks/Python.framework/Versions/3.9/lib/python3.9/site-packages (from setuptools-scm>=4->matplotlib>=1.4.0->scikit-plot) (1.2.2)\n",
      "Installing collected packages: scikit-plot\n",
      "Successfully installed scikit-plot-0.3.7\n",
      "\u001b[33mWARNING: You are using pip version 21.1.3; however, version 21.3.1 is available.\n",
      "You should consider upgrading via the '/usr/local/bin/python3.9 -m pip install --upgrade pip' command.\u001b[0m\n",
      "Note: you may need to restart the kernel to use updated packages.\n"
     ]
    }
   ],
   "source": [
    "#pip install scikit-plot"
   ]
  },
  {
   "cell_type": "code",
   "execution_count": 4,
   "metadata": {
    "id": "VDejO8dRlfFg"
   },
   "outputs": [],
   "source": [
    "# Graphics\n",
    "import matplotlib.pyplot as plt\n",
    "import seaborn as sns\n",
    "import scikitplot as skplt\n",
    "# Data \n",
    "import numpy as np\n",
    "import pandas as pd\n",
    "\n",
    "#Regular expressions\n",
    "import re as re\n",
    "\n",
    "# Utilities\n",
    "from time import time\n",
    "\n",
    "\n",
    "# Others\n",
    "import warnings\n",
    "from functools import reduce\n",
    "from pathlib import Path\n",
    "import os\n"
   ]
  },
  {
   "cell_type": "code",
   "execution_count": 5,
   "metadata": {
    "id": "DylJGrfnWaDh"
   },
   "outputs": [],
   "source": [
    "# Configurations.\n",
    "%matplotlib inline\n",
    "sns.set_style(\"darkgrid\")\n",
    "warnings.filterwarnings(\"ignore\")\n",
    "plt.rc(\"font\", family=\"serif\", size=15)"
   ]
  },
  {
   "cell_type": "markdown",
   "metadata": {
    "id": "1u-BAG2qUAk9"
   },
   "source": [
    "# 1. EXPLORATORY DATA ANALYSIS"
   ]
  },
  {
   "cell_type": "markdown",
   "metadata": {
    "id": "1cv2x-ZRVbej"
   },
   "source": [
    "For this first deliverable, it won't be possible getting any data from the client. Shall a vast know-how and expertise needs to be demostrated before the compressor company is willing to share internal data. \n",
    "\n",
    "For this reason, the scope of the project will be reduced in the first instance to a dataset gathered from Kaggle.\n",
    "\n"
   ]
  },
  {
   "cell_type": "markdown",
   "metadata": {
    "id": "BMYP1UVbWQ9E"
   },
   "source": [
    "## Read the data"
   ]
  },
  {
   "cell_type": "markdown",
   "metadata": {
    "id": "s6RZIYUCXRzI"
   },
   "source": [
    "**The data downloaded from Kaggle was artificially generated**\n",
    "\n",
    "---------------------------\n",
    "\n",
    "**Compressor condition monitoring and health status**\n",
    "- Sensors data: conditions of the compressors given by the data collected in the different sensors. \n",
    "- Failure History: The failure history of the compressors. It's indicated by the failure in the different components of the compressors. Failure means the component stop working and was replaced in a specific date.\n",
    "\n",
    "\n",
    "----------------\n",
    "**Other collected data**\n",
    "- Error codes: Error history of the compressor. The errors are given by the PLC of the compressor. They were programmed based on treshold values, abnormal behaviour, shutdowns, etc.\n",
    "- Maintenance History: The repair history of the compressors. It's indicated by the maintenance in the different components of the compressors. Maintenance means a component was maintained due to:\n",
    "  - Scheduled maintenance\n",
    "  - Regular inspections\n",
    "  - Error code given by the compressor\n",
    "  - Failure in one component\n",
    "- Compressors characteristics: The characteristics of the compressors, model and age."
   ]
  },
  {
   "cell_type": "code",
   "execution_count": 8,
   "metadata": {
    "colab": {
     "base_uri": "https://localhost:8080/"
    },
    "id": "5TeZ1-u2WQZa",
    "outputId": "3af877a6-2109-4dc0-c2a0-e04a74ab37d5"
   },
   "outputs": [
    {
     "name": "stderr",
     "output_type": "stream",
     "text": [
      "b'Skipping line 92490: expected 6 fields, saw 9\\n'\n"
     ]
    }
   ],
   "source": [
    "# Load csv data with pandas\n",
    "sensors = pd.read_csv(\"../data/compressors_sensor_data.csv\", error_bad_lines=False)\n",
    "failures = pd.read_csv(\"../data/compressors_failures.csv\", error_bad_lines=False)\n",
    "\n",
    "errors = pd.read_csv(\"../data/compressors_errors.csv\", error_bad_lines=False)\n",
    "maintenance = pd.read_csv(\"../data/compressors_maintenance.csv\", error_bad_lines=False)\n",
    "compressor_info = pd.read_csv(\"../data/compressors_machines_info.csv\", error_bad_lines=False)"
   ]
  },
  {
   "cell_type": "markdown",
   "metadata": {
    "id": "mux2Urc5HM55"
   },
   "source": [
    "## Data limitations"
   ]
  },
  {
   "cell_type": "markdown",
   "metadata": {
    "id": "ffHdA90fHQhS"
   },
   "source": [
    "Since the telemetry data coming from the sensors is only effective from 1 year time, the number of failures that we will find corresponds only to this period.\n",
    "\n",
    "The dataset will be very imbalanced. Failures will be produced in a very small ratio compared with healthy compressor data."
   ]
  },
  {
   "cell_type": "markdown",
   "metadata": {
    "id": "Xsjox0q_h6sL"
   },
   "source": [
    "## Data visualization"
   ]
  },
  {
   "cell_type": "markdown",
   "metadata": {
    "id": "q1mAntM-bu_-"
   },
   "source": [
    "### Sensors"
   ]
  },
  {
   "cell_type": "markdown",
   "metadata": {
    "id": "6tOiTLDqiBM-"
   },
   "source": [
    "The intention of selecting the data from Kaggle, is that it follows a similar pattern as the sample received from AC. In terms of level, trend, noise and seasonality, the data offered by this artificially generated dataset found in Kaggle, meets the same components than AC sample.\n",
    "\n",
    "We will plot the sensor data to prove that is similar to the one collected from AC. The plot will show only data for one compressor in a small period, to be able to identify the pattern."
   ]
  },
  {
   "cell_type": "code",
   "execution_count": 9,
   "metadata": {
    "id": "qze4_qFmdz0s"
   },
   "outputs": [],
   "source": [
    "# Columns of sensors dataframe\n",
    "sensors.columns=['datetime' , 'compressorID' , 'current' , 'rpm' , 'pressure' , 'vibration']"
   ]
  },
  {
   "cell_type": "code",
   "execution_count": 10,
   "metadata": {
    "id": "2M42J6-KkrFz"
   },
   "outputs": [],
   "source": [
    "# Change the formate of the datetime\n",
    "sensors[\"datetime\"] = pd.to_datetime(sensors[\"datetime\"], format=\"%Y-%m-%d %H:%M:%S\")"
   ]
  },
  {
   "cell_type": "code",
   "execution_count": 11,
   "metadata": {
    "id": "O-3Yr-GBk5m1"
   },
   "outputs": [],
   "source": [
    "# Select the compressor\n",
    "machine_ID = 1\n",
    "\n",
    "# We establish the times corresponding to the records that will be used for ploting the data\n",
    "initial_date = pd.to_datetime(\"2015-01-01 05:00:00\")\n",
    "final_date = pd.to_datetime(\"2015-01-15 05:00:00\")"
   ]
  },
  {
   "cell_type": "code",
   "execution_count": 12,
   "metadata": {
    "id": "xvvvHB6uh3a6"
   },
   "outputs": [],
   "source": [
    "# Period to be plotted\n",
    "plt_sensors = sensors[(sensors['compressorID'] == machine_ID) &\n",
    "                      (sensors['datetime'] > initial_date) &\n",
    "                      (sensors['datetime'] < final_date)]"
   ]
  },
  {
   "cell_type": "code",
   "execution_count": 13,
   "metadata": {
    "colab": {
     "base_uri": "https://localhost:8080/"
    },
    "id": "3TWnA3ChkFLC",
    "outputId": "d14414a9-bca6-47f9-cf35-7c7e757e688f"
   },
   "outputs": [
    {
     "data": {
      "text/html": [
       "<div>\n",
       "<style scoped>\n",
       "    .dataframe tbody tr th:only-of-type {\n",
       "        vertical-align: middle;\n",
       "    }\n",
       "\n",
       "    .dataframe tbody tr th {\n",
       "        vertical-align: top;\n",
       "    }\n",
       "\n",
       "    .dataframe thead th {\n",
       "        text-align: right;\n",
       "    }\n",
       "</style>\n",
       "<table border=\"1\" class=\"dataframe\">\n",
       "  <thead>\n",
       "    <tr style=\"text-align: right;\">\n",
       "      <th></th>\n",
       "      <th>datetime</th>\n",
       "      <th>compressorID</th>\n",
       "      <th>current</th>\n",
       "      <th>rpm</th>\n",
       "      <th>pressure</th>\n",
       "      <th>vibration</th>\n",
       "    </tr>\n",
       "  </thead>\n",
       "  <tbody>\n",
       "    <tr>\n",
       "      <th>0</th>\n",
       "      <td>2015-01-01 06:00:00</td>\n",
       "      <td>1</td>\n",
       "      <td>176.217853</td>\n",
       "      <td>418.504078</td>\n",
       "      <td>113.077935</td>\n",
       "      <td>45.087686</td>\n",
       "    </tr>\n",
       "    <tr>\n",
       "      <th>1</th>\n",
       "      <td>2015-01-01 07:00:00</td>\n",
       "      <td>1</td>\n",
       "      <td>162.879223</td>\n",
       "      <td>402.747490</td>\n",
       "      <td>95.460525</td>\n",
       "      <td>43.413973</td>\n",
       "    </tr>\n",
       "    <tr>\n",
       "      <th>2</th>\n",
       "      <td>2015-01-01 08:00:00</td>\n",
       "      <td>1</td>\n",
       "      <td>170.989902</td>\n",
       "      <td>527.349825</td>\n",
       "      <td>75.237905</td>\n",
       "      <td>34.178847</td>\n",
       "    </tr>\n",
       "    <tr>\n",
       "      <th>3</th>\n",
       "      <td>2015-01-01 09:00:00</td>\n",
       "      <td>1</td>\n",
       "      <td>162.462833</td>\n",
       "      <td>346.149335</td>\n",
       "      <td>109.248561</td>\n",
       "      <td>41.122144</td>\n",
       "    </tr>\n",
       "    <tr>\n",
       "      <th>4</th>\n",
       "      <td>2015-01-01 10:00:00</td>\n",
       "      <td>1</td>\n",
       "      <td>157.610021</td>\n",
       "      <td>435.376873</td>\n",
       "      <td>111.886648</td>\n",
       "      <td>25.990511</td>\n",
       "    </tr>\n",
       "  </tbody>\n",
       "</table>\n",
       "</div>"
      ],
      "text/plain": [
       "             datetime  compressorID     current         rpm    pressure  \\\n",
       "0 2015-01-01 06:00:00             1  176.217853  418.504078  113.077935   \n",
       "1 2015-01-01 07:00:00             1  162.879223  402.747490   95.460525   \n",
       "2 2015-01-01 08:00:00             1  170.989902  527.349825   75.237905   \n",
       "3 2015-01-01 09:00:00             1  162.462833  346.149335  109.248561   \n",
       "4 2015-01-01 10:00:00             1  157.610021  435.376873  111.886648   \n",
       "\n",
       "   vibration  \n",
       "0  45.087686  \n",
       "1  43.413973  \n",
       "2  34.178847  \n",
       "3  41.122144  \n",
       "4  25.990511  "
      ]
     },
     "execution_count": 13,
     "metadata": {},
     "output_type": "execute_result"
    }
   ],
   "source": [
    "plt_sensors.head()"
   ]
  },
  {
   "cell_type": "code",
   "execution_count": 14,
   "metadata": {
    "colab": {
     "base_uri": "https://localhost:8080/"
    },
    "id": "HL1cCiqdj5pB",
    "outputId": "4ad77a14-25e2-4d88-e432-92bcc79c1d2b"
   },
   "outputs": [
    {
     "data": {
      "text/plain": [
       "Text(0, 0.5, 'mAmperes')"
      ]
     },
     "execution_count": 14,
     "metadata": {},
     "output_type": "execute_result"
    },
    {
     "data": {
      "image/png": "[encoded data removed]",
      "text/plain": [
       "<Figure size 1800x1440 with 4 Axes>"
      ]
     },
     "metadata": {},
     "output_type": "display_data"
    }
   ],
   "source": [
    "# Plot the different variables for an individual compressor in a reduced period\n",
    "\n",
    "figure, axes = plt.subplots(4,1,figsize=(25,20))\n",
    "axes[0].plot(plt_sensors['datetime'] , plt_sensors['current'])\n",
    "axes[1].plot(plt_sensors['datetime'] , plt_sensors['rpm'])\n",
    "axes[2].plot(plt_sensors['datetime'] , plt_sensors['pressure'])\n",
    "axes[3].plot(plt_sensors['datetime'] , plt_sensors['vibration'])\n",
    "\n",
    "axes[0].title.set_text('Current (A)')\n",
    "axes[1].title.set_text('Revolutions per minute')\n",
    "axes[2].title.set_text('Pressure (bar)')\n",
    "axes[3].title.set_text('Vibration (mA)')\n",
    "\n",
    "axes[0].set_ylabel('Amperes')\n",
    "axes[1].set_ylabel('RPM')\n",
    "axes[2].set_ylabel('bar')\n",
    "axes[3].set_ylabel('mAmperes')"
   ]
  },
  {
   "cell_type": "markdown",
   "metadata": {
    "id": "2YHqiBhingeI"
   },
   "source": [
    "The data plotted above, follows the same level, seasonality and trend to the data received from AC. Hence, we will use it for the first delivery of this project."
   ]
  },
  {
   "cell_type": "markdown",
   "metadata": {
    "id": "OtE6ONYqdnve"
   },
   "source": [
    "In the kaggle dataset, we have time series data for the telemetry sensors: current, rotation, pressure and vibration measurements collected from 100 compressors in real time averaged over each hour collected during the year 2015."
   ]
  },
  {
   "cell_type": "code",
   "execution_count": 15,
   "metadata": {
    "colab": {
     "base_uri": "https://localhost:8080/"
    },
    "id": "SaX-lFrodoFd",
    "outputId": "da192177-afab-4f25-e71c-7c4f750b3161"
   },
   "outputs": [
    {
     "data": {
      "text/html": [
       "<div>\n",
       "<style scoped>\n",
       "    .dataframe tbody tr th:only-of-type {\n",
       "        vertical-align: middle;\n",
       "    }\n",
       "\n",
       "    .dataframe tbody tr th {\n",
       "        vertical-align: top;\n",
       "    }\n",
       "\n",
       "    .dataframe thead th {\n",
       "        text-align: right;\n",
       "    }\n",
       "</style>\n",
       "<table border=\"1\" class=\"dataframe\">\n",
       "  <thead>\n",
       "    <tr style=\"text-align: right;\">\n",
       "      <th></th>\n",
       "      <th>datetime</th>\n",
       "      <th>compressorID</th>\n",
       "      <th>current</th>\n",
       "      <th>rpm</th>\n",
       "      <th>pressure</th>\n",
       "      <th>vibration</th>\n",
       "    </tr>\n",
       "  </thead>\n",
       "  <tbody>\n",
       "    <tr>\n",
       "      <th>0</th>\n",
       "      <td>2015-01-01 06:00:00</td>\n",
       "      <td>1</td>\n",
       "      <td>176.217853</td>\n",
       "      <td>418.504078</td>\n",
       "      <td>113.077935</td>\n",
       "      <td>45.087686</td>\n",
       "    </tr>\n",
       "    <tr>\n",
       "      <th>1</th>\n",
       "      <td>2015-01-01 07:00:00</td>\n",
       "      <td>1</td>\n",
       "      <td>162.879223</td>\n",
       "      <td>402.747490</td>\n",
       "      <td>95.460525</td>\n",
       "      <td>43.413973</td>\n",
       "    </tr>\n",
       "    <tr>\n",
       "      <th>2</th>\n",
       "      <td>2015-01-01 08:00:00</td>\n",
       "      <td>1</td>\n",
       "      <td>170.989902</td>\n",
       "      <td>527.349825</td>\n",
       "      <td>75.237905</td>\n",
       "      <td>34.178847</td>\n",
       "    </tr>\n",
       "    <tr>\n",
       "      <th>3</th>\n",
       "      <td>2015-01-01 09:00:00</td>\n",
       "      <td>1</td>\n",
       "      <td>162.462833</td>\n",
       "      <td>346.149335</td>\n",
       "      <td>109.248561</td>\n",
       "      <td>41.122144</td>\n",
       "    </tr>\n",
       "    <tr>\n",
       "      <th>4</th>\n",
       "      <td>2015-01-01 10:00:00</td>\n",
       "      <td>1</td>\n",
       "      <td>157.610021</td>\n",
       "      <td>435.376873</td>\n",
       "      <td>111.886648</td>\n",
       "      <td>25.990511</td>\n",
       "    </tr>\n",
       "  </tbody>\n",
       "</table>\n",
       "</div>"
      ],
      "text/plain": [
       "             datetime  compressorID     current         rpm    pressure  \\\n",
       "0 2015-01-01 06:00:00             1  176.217853  418.504078  113.077935   \n",
       "1 2015-01-01 07:00:00             1  162.879223  402.747490   95.460525   \n",
       "2 2015-01-01 08:00:00             1  170.989902  527.349825   75.237905   \n",
       "3 2015-01-01 09:00:00             1  162.462833  346.149335  109.248561   \n",
       "4 2015-01-01 10:00:00             1  157.610021  435.376873  111.886648   \n",
       "\n",
       "   vibration  \n",
       "0  45.087686  \n",
       "1  43.413973  \n",
       "2  34.178847  \n",
       "3  41.122144  \n",
       "4  25.990511  "
      ]
     },
     "execution_count": 15,
     "metadata": {},
     "output_type": "execute_result"
    }
   ],
   "source": [
    "sensors.head()"
   ]
  },
  {
   "cell_type": "markdown",
   "metadata": {
    "id": "RYWEUfsoogRo"
   },
   "source": [
    "**To understand sensor data** \n",
    "\n",
    "Sensor data can be seen as time series.\n",
    "*Time Series is a set of data points or observations taken at specified times usually at equal intervals (e.g hourly, daily, weekly, quarterly, yearly, etc).* \n",
    "\n",
    "In our compressors, data is collected using an interval of 1 hour.\n",
    "\n",
    "\n",
    "Time Series is usually used to predict future occurrences based on previous observed occurrence or values. \n",
    "\n",
    "\n",
    "Sensor data can be decomposed in 4 different components.\n",
    "\n",
    "y(t) = Level(t) + Trend(t) + Seasonality(t) + Noise(t)\n",
    "\n",
    "\n",
    "1. Level: The average value in the series.\n",
    "2. Trend: The increasing or decreasing value in the series.\n",
    "3. Seasonality: The repeating short-term cycle in the series.\n",
    "4. Noise: The random variation in the series.\n"
   ]
  },
  {
   "cell_type": "code",
   "execution_count": 16,
   "metadata": {
    "colab": {
     "base_uri": "https://localhost:8080/"
    },
    "id": "5pLx3QyZqQPb",
    "outputId": "c9a23562-f987-4af4-b3d5-7508f2f1a5e0"
   },
   "outputs": [
    {
     "name": "stdout",
     "output_type": "stream",
     "text": [
      "<class 'pandas.core.frame.DataFrame'>\n",
      "RangeIndex: 968588 entries, 0 to 968587\n",
      "Data columns (total 6 columns):\n",
      " #   Column        Non-Null Count   Dtype         \n",
      "---  ------        --------------   -----         \n",
      " 0   datetime      968588 non-null  datetime64[ns]\n",
      " 1   compressorID  968588 non-null  int64         \n",
      " 2   current       968588 non-null  float64       \n",
      " 3   rpm           968588 non-null  float64       \n",
      " 4   pressure      968588 non-null  float64       \n",
      " 5   vibration     968588 non-null  float64       \n",
      "dtypes: datetime64[ns](1), float64(4), int64(1)\n",
      "memory usage: 44.3 MB\n"
     ]
    }
   ],
   "source": [
    "sensors.info()"
   ]
  },
  {
   "cell_type": "markdown",
   "metadata": {
    "id": "WkmrNtvtqXav"
   },
   "source": [
    "Total number of compressors that are collected in this dataset."
   ]
  },
  {
   "cell_type": "code",
   "execution_count": 17,
   "metadata": {
    "colab": {
     "base_uri": "https://localhost:8080/"
    },
    "id": "FqtAM5upqWvX",
    "outputId": "38968943-233e-42a1-ddf2-b78619e0d6bc"
   },
   "outputs": [
    {
     "data": {
      "text/plain": [
       "100"
      ]
     },
     "execution_count": 17,
     "metadata": {},
     "output_type": "execute_result"
    }
   ],
   "source": [
    "# Total number of compressors\n",
    "sensors['compressorID'].nunique()"
   ]
  },
  {
   "cell_type": "markdown",
   "metadata": {
    "id": "dApGClmKfwUq"
   },
   "source": [
    "Total number of datapoints collected in 2015"
   ]
  },
  {
   "cell_type": "code",
   "execution_count": 18,
   "metadata": {
    "colab": {
     "base_uri": "https://localhost:8080/"
    },
    "id": "OD-DyDNFf0mO",
    "outputId": "6a901ef7-17b8-4e4e-f90d-afe83524c1d0"
   },
   "outputs": [
    {
     "data": {
      "text/plain": [
       "876100"
      ]
     },
     "execution_count": 18,
     "metadata": {},
     "output_type": "execute_result"
    }
   ],
   "source": [
    "# Rows of the dataset, number o datapoints collected\n",
    "sensors = sensors.drop_duplicates()\n",
    "len(sensors)"
   ]
  },
  {
   "cell_type": "markdown",
   "metadata": {
    "id": "bCNSg_0fq3SQ"
   },
   "source": [
    "Characteristics for the sensor values: mean, std, min, max, ..."
   ]
  },
  {
   "cell_type": "code",
   "execution_count": 19,
   "metadata": {
    "colab": {
     "base_uri": "https://localhost:8080/"
    },
    "id": "9jvDk5MQMCkY",
    "outputId": "2242a78c-0415-44f0-a9e8-7c8554cc0086"
   },
   "outputs": [
    {
     "data": {
      "text/html": [
       "<div>\n",
       "<style scoped>\n",
       "    .dataframe tbody tr th:only-of-type {\n",
       "        vertical-align: middle;\n",
       "    }\n",
       "\n",
       "    .dataframe tbody tr th {\n",
       "        vertical-align: top;\n",
       "    }\n",
       "\n",
       "    .dataframe thead th {\n",
       "        text-align: right;\n",
       "    }\n",
       "</style>\n",
       "<table border=\"1\" class=\"dataframe\">\n",
       "  <thead>\n",
       "    <tr style=\"text-align: right;\">\n",
       "      <th></th>\n",
       "      <th>count</th>\n",
       "      <th>mean</th>\n",
       "      <th>std</th>\n",
       "      <th>min</th>\n",
       "      <th>25%</th>\n",
       "      <th>50%</th>\n",
       "      <th>75%</th>\n",
       "      <th>max</th>\n",
       "    </tr>\n",
       "  </thead>\n",
       "  <tbody>\n",
       "    <tr>\n",
       "      <th>compressorID</th>\n",
       "      <td>876100.0</td>\n",
       "      <td>50.500000</td>\n",
       "      <td>28.866087</td>\n",
       "      <td>1.000000</td>\n",
       "      <td>25.750000</td>\n",
       "      <td>50.500000</td>\n",
       "      <td>75.250000</td>\n",
       "      <td>100.000000</td>\n",
       "    </tr>\n",
       "    <tr>\n",
       "      <th>current</th>\n",
       "      <td>876100.0</td>\n",
       "      <td>170.777736</td>\n",
       "      <td>15.509114</td>\n",
       "      <td>97.333604</td>\n",
       "      <td>160.304927</td>\n",
       "      <td>170.607338</td>\n",
       "      <td>181.004493</td>\n",
       "      <td>255.124717</td>\n",
       "    </tr>\n",
       "    <tr>\n",
       "      <th>rpm</th>\n",
       "      <td>876100.0</td>\n",
       "      <td>446.605119</td>\n",
       "      <td>52.673886</td>\n",
       "      <td>138.432075</td>\n",
       "      <td>412.305714</td>\n",
       "      <td>447.558150</td>\n",
       "      <td>482.176600</td>\n",
       "      <td>695.020984</td>\n",
       "    </tr>\n",
       "    <tr>\n",
       "      <th>pressure</th>\n",
       "      <td>876100.0</td>\n",
       "      <td>100.858668</td>\n",
       "      <td>11.048679</td>\n",
       "      <td>51.237106</td>\n",
       "      <td>93.498181</td>\n",
       "      <td>100.425559</td>\n",
       "      <td>107.555231</td>\n",
       "      <td>185.951998</td>\n",
       "    </tr>\n",
       "    <tr>\n",
       "      <th>vibration</th>\n",
       "      <td>876100.0</td>\n",
       "      <td>40.385007</td>\n",
       "      <td>5.370361</td>\n",
       "      <td>14.877054</td>\n",
       "      <td>36.777299</td>\n",
       "      <td>40.237247</td>\n",
       "      <td>43.784938</td>\n",
       "      <td>76.791072</td>\n",
       "    </tr>\n",
       "  </tbody>\n",
       "</table>\n",
       "</div>"
      ],
      "text/plain": [
       "                 count        mean        std         min         25%  \\\n",
       "compressorID  876100.0   50.500000  28.866087    1.000000   25.750000   \n",
       "current       876100.0  170.777736  15.509114   97.333604  160.304927   \n",
       "rpm           876100.0  446.605119  52.673886  138.432075  412.305714   \n",
       "pressure      876100.0  100.858668  11.048679   51.237106   93.498181   \n",
       "vibration     876100.0   40.385007   5.370361   14.877054   36.777299   \n",
       "\n",
       "                     50%         75%         max  \n",
       "compressorID   50.500000   75.250000  100.000000  \n",
       "current       170.607338  181.004493  255.124717  \n",
       "rpm           447.558150  482.176600  695.020984  \n",
       "pressure      100.425559  107.555231  185.951998  \n",
       "vibration      40.237247   43.784938   76.791072  "
      ]
     },
     "execution_count": 19,
     "metadata": {},
     "output_type": "execute_result"
    }
   ],
   "source": [
    "# We use the describe method to see information such as: mean, std...\n",
    "sensors.describe().transpose()"
   ]
  },
  {
   "cell_type": "markdown",
   "metadata": {
    "id": "j_G4B0J_rcSa"
   },
   "source": [
    "**Normality test of the sensor data**\n",
    "\n",
    "It will be studied if the data collected by the sensors follows a normal distribution. Hence, Kernel Density Estimation will be used \n",
    "\n",
    "A normal distribution indicates a natural behaviour is followed in a representative sample (Central Limit Theorem)\n",
    "\n",
    "In case only one group is shown, we can make the assumption that all the compressors have similar behaviour independently of the model. Otherwise, there would be different clusters wich behave differently ones from the others.\n",
    "\n",
    "**Parametric models** expect normal distributions because they use the mean, std, and other arithmetic values.\n",
    "\n",
    "**Non-parametric models** e.g. CART (Classification and Regression Trees), are insensitive to the distribution of data, all that matters is creating nodes that maximize class separation. \n"
   ]
  },
  {
   "cell_type": "code",
   "execution_count": 20,
   "metadata": {
    "colab": {
     "base_uri": "https://localhost:8080/"
    },
    "id": "zOvZ0T_aricR",
    "outputId": "c92aa2f4-8b21-4ee4-b5c7-b7445a33c267"
   },
   "outputs": [
    {
     "data": {
      "text/plain": [
       "<AxesSubplot:xlabel='vibration', ylabel='Density'>"
      ]
     },
     "execution_count": 20,
     "metadata": {},
     "output_type": "execute_result"
    },
    {
     "data": {
      "image/png": "[encoded data removed]",
      "text/plain": [
       "<Figure size 1800x1440 with 4 Axes>"
      ]
     },
     "metadata": {},
     "output_type": "display_data"
    }
   ],
   "source": [
    "#Kernel Density Estimation plot\n",
    "figure, axes = plt.subplots(2,2,figsize=(25,20))\n",
    "sns.kdeplot(sensors['current'], ax = axes[0,0])\n",
    "sns.kdeplot(sensors['rpm'], ax = axes[0,1])\n",
    "sns.kdeplot(sensors['pressure'], ax = axes[1,0])\n",
    "sns.kdeplot(sensors['vibration'], ax = axes[1,1])\n"
   ]
  },
  {
   "cell_type": "markdown",
   "metadata": {
    "id": "aHXmwI3fb0DY"
   },
   "source": [
    "### Failures of components"
   ]
  },
  {
   "cell_type": "markdown",
   "metadata": {
    "id": "OCUa2Fq4bziz"
   },
   "source": [
    "These are the records of *component replacements due to failures*. Each record has a date and time, machine ID, and the failed component. \n",
    "\n",
    "We assume followed by a catastrophic failure, there is always a maintenance in the component associated. Therefore, associated to a failure, there will always be a maintenance in the component which broke down or is no longer usable."
   ]
  },
  {
   "cell_type": "code",
   "execution_count": 21,
   "metadata": {
    "id": "FiLJ6Sq5eSUS"
   },
   "outputs": [],
   "source": [
    "#Define names of the columns\n",
    "failures.columns=['datetime' , 'compressorID' , 'failure_comp' ]"
   ]
  },
  {
   "cell_type": "code",
   "execution_count": 22,
   "metadata": {
    "id": "_qaAPzUegQix"
   },
   "outputs": [],
   "source": [
    "# Change the formate of the datetime\n",
    "failures[\"datetime\"] = pd.to_datetime(failures[\"datetime\"], format=\"%Y-%m-%d %H:%M:%S\")\n",
    "\n",
    "# Define as categorical value\n",
    "failures[\"failure_comp\"] = failures[\"failure_comp\"].astype(\"category\")"
   ]
  },
  {
   "cell_type": "code",
   "execution_count": 23,
   "metadata": {
    "colab": {
     "base_uri": "https://localhost:8080/"
    },
    "id": "huQbETxfcBn6",
    "outputId": "10132936-b4a6-4590-e934-60a84c23e937"
   },
   "outputs": [
    {
     "data": {
      "text/html": [
       "<div>\n",
       "<style scoped>\n",
       "    .dataframe tbody tr th:only-of-type {\n",
       "        vertical-align: middle;\n",
       "    }\n",
       "\n",
       "    .dataframe tbody tr th {\n",
       "        vertical-align: top;\n",
       "    }\n",
       "\n",
       "    .dataframe thead th {\n",
       "        text-align: right;\n",
       "    }\n",
       "</style>\n",
       "<table border=\"1\" class=\"dataframe\">\n",
       "  <thead>\n",
       "    <tr style=\"text-align: right;\">\n",
       "      <th></th>\n",
       "      <th>datetime</th>\n",
       "      <th>compressorID</th>\n",
       "      <th>failure_comp</th>\n",
       "    </tr>\n",
       "  </thead>\n",
       "  <tbody>\n",
       "    <tr>\n",
       "      <th>0</th>\n",
       "      <td>2015-01-05 06:00:00</td>\n",
       "      <td>1</td>\n",
       "      <td>comp4</td>\n",
       "    </tr>\n",
       "    <tr>\n",
       "      <th>1</th>\n",
       "      <td>2015-03-06 06:00:00</td>\n",
       "      <td>1</td>\n",
       "      <td>comp1</td>\n",
       "    </tr>\n",
       "    <tr>\n",
       "      <th>2</th>\n",
       "      <td>2015-04-20 06:00:00</td>\n",
       "      <td>1</td>\n",
       "      <td>comp2</td>\n",
       "    </tr>\n",
       "    <tr>\n",
       "      <th>3</th>\n",
       "      <td>2015-06-19 06:00:00</td>\n",
       "      <td>1</td>\n",
       "      <td>comp4</td>\n",
       "    </tr>\n",
       "    <tr>\n",
       "      <th>4</th>\n",
       "      <td>2015-09-02 06:00:00</td>\n",
       "      <td>1</td>\n",
       "      <td>comp4</td>\n",
       "    </tr>\n",
       "  </tbody>\n",
       "</table>\n",
       "</div>"
      ],
      "text/plain": [
       "             datetime  compressorID failure_comp\n",
       "0 2015-01-05 06:00:00             1        comp4\n",
       "1 2015-03-06 06:00:00             1        comp1\n",
       "2 2015-04-20 06:00:00             1        comp2\n",
       "3 2015-06-19 06:00:00             1        comp4\n",
       "4 2015-09-02 06:00:00             1        comp4"
      ]
     },
     "execution_count": 23,
     "metadata": {},
     "output_type": "execute_result"
    }
   ],
   "source": [
    "failures.head()"
   ]
  },
  {
   "cell_type": "code",
   "execution_count": 24,
   "metadata": {
    "colab": {
     "base_uri": "https://localhost:8080/"
    },
    "id": "hYmcpBXdgDvg",
    "outputId": "c741c60c-7b13-407d-9a82-0bf9f4e83abc"
   },
   "outputs": [
    {
     "name": "stdout",
     "output_type": "stream",
     "text": [
      "<class 'pandas.core.frame.DataFrame'>\n",
      "RangeIndex: 761 entries, 0 to 760\n",
      "Data columns (total 3 columns):\n",
      " #   Column        Non-Null Count  Dtype         \n",
      "---  ------        --------------  -----         \n",
      " 0   datetime      761 non-null    datetime64[ns]\n",
      " 1   compressorID  761 non-null    int64         \n",
      " 2   failure_comp  761 non-null    category      \n",
      "dtypes: category(1), datetime64[ns](1), int64(1)\n",
      "memory usage: 13.0 KB\n"
     ]
    }
   ],
   "source": [
    "# Dtypes of the failures dataframe\n",
    "failures.info()"
   ]
  },
  {
   "cell_type": "markdown",
   "metadata": {
    "id": "__C4o4GCfHKP"
   },
   "source": [
    "Counting the total number of failures"
   ]
  },
  {
   "cell_type": "code",
   "execution_count": 25,
   "metadata": {
    "colab": {
     "base_uri": "https://localhost:8080/"
    },
    "id": "-XDGIsjUe2e9",
    "outputId": "47b29e3e-36e6-4d60-ea3c-fa2ceed81b16"
   },
   "outputs": [
    {
     "data": {
      "text/plain": [
       "761"
      ]
     },
     "execution_count": 25,
     "metadata": {},
     "output_type": "execute_result"
    }
   ],
   "source": [
    "# Total number of failures\n",
    "failures = failures.drop_duplicates()\n",
    "len(failures)"
   ]
  },
  {
   "cell_type": "code",
   "execution_count": 26,
   "metadata": {
    "colab": {
     "base_uri": "https://localhost:8080/"
    },
    "id": "OL7YduoHe6-i",
    "outputId": "bf48992f-9fce-4ac5-fe81-2aaf415273e3"
   },
   "outputs": [
    {
     "data": {
      "text/plain": [
       "<AxesSubplot:xlabel='failure_comp', ylabel='count'>"
      ]
     },
     "execution_count": 26,
     "metadata": {},
     "output_type": "execute_result"
    },
    {
     "data": {
      "image/png": "[encoded data removed]",
      "text/plain": [
       "<Figure size 576x432 with 1 Axes>"
      ]
     },
     "metadata": {},
     "output_type": "display_data"
    }
   ],
   "source": [
    "# Countplot with the number of failures for the different components\n",
    "plt.figure(figsize=(8, 6))\n",
    "sns.countplot(failures.failure_comp , order = ['comp1', 'comp2' , 'comp3' , 'comp4'])"
   ]
  },
  {
   "cell_type": "markdown",
   "metadata": {
    "id": "PSFQrjWMbzfi"
   },
   "source": [
    "### Errors"
   ]
  },
  {
   "cell_type": "markdown",
   "metadata": {
    "id": "zUKPbAIqiumo"
   },
   "source": [
    "In this dataframe we find warning errors, generated by the compressor when it's still operating. They are not considered failures because they are not catastrophic.\n",
    "Dates and hours are approached to the closest telemetry datetime, in order to not lose the homogeneity of 1 hour for the telemetry data."
   ]
  },
  {
   "cell_type": "code",
   "execution_count": 27,
   "metadata": {
    "id": "uxEewIaghPzA"
   },
   "outputs": [],
   "source": [
    "errors.columns=['datetime' , 'compressorID' , 'errorID']"
   ]
  },
  {
   "cell_type": "code",
   "execution_count": 28,
   "metadata": {
    "id": "YBYrVydijzfa"
   },
   "outputs": [],
   "source": [
    "# Change the formate of the datetime\n",
    "errors[\"datetime\"] = pd.to_datetime(errors[\"datetime\"], format=\"%Y-%m-%d %H:%M:%S\")\n",
    "\n",
    "# Define as categorical value\n",
    "errors[\"errorID\"] = errors[\"errorID\"].astype(\"category\")"
   ]
  },
  {
   "cell_type": "code",
   "execution_count": 29,
   "metadata": {
    "colab": {
     "base_uri": "https://localhost:8080/"
    },
    "id": "028Y5Mr7jrk0",
    "outputId": "3a8f5018-6427-4984-c25b-4ee169d97c18"
   },
   "outputs": [
    {
     "data": {
      "text/html": [
       "<div>\n",
       "<style scoped>\n",
       "    .dataframe tbody tr th:only-of-type {\n",
       "        vertical-align: middle;\n",
       "    }\n",
       "\n",
       "    .dataframe tbody tr th {\n",
       "        vertical-align: top;\n",
       "    }\n",
       "\n",
       "    .dataframe thead th {\n",
       "        text-align: right;\n",
       "    }\n",
       "</style>\n",
       "<table border=\"1\" class=\"dataframe\">\n",
       "  <thead>\n",
       "    <tr style=\"text-align: right;\">\n",
       "      <th></th>\n",
       "      <th>datetime</th>\n",
       "      <th>compressorID</th>\n",
       "      <th>errorID</th>\n",
       "    </tr>\n",
       "  </thead>\n",
       "  <tbody>\n",
       "    <tr>\n",
       "      <th>0</th>\n",
       "      <td>2015-01-04 07:00:00</td>\n",
       "      <td>1</td>\n",
       "      <td>error1</td>\n",
       "    </tr>\n",
       "    <tr>\n",
       "      <th>1</th>\n",
       "      <td>2015-01-04 20:00:00</td>\n",
       "      <td>1</td>\n",
       "      <td>error3</td>\n",
       "    </tr>\n",
       "    <tr>\n",
       "      <th>2</th>\n",
       "      <td>2015-01-05 06:00:00</td>\n",
       "      <td>1</td>\n",
       "      <td>error5</td>\n",
       "    </tr>\n",
       "    <tr>\n",
       "      <th>3</th>\n",
       "      <td>2015-01-11 15:00:00</td>\n",
       "      <td>1</td>\n",
       "      <td>error4</td>\n",
       "    </tr>\n",
       "    <tr>\n",
       "      <th>4</th>\n",
       "      <td>2015-01-23 10:00:00</td>\n",
       "      <td>1</td>\n",
       "      <td>error4</td>\n",
       "    </tr>\n",
       "  </tbody>\n",
       "</table>\n",
       "</div>"
      ],
      "text/plain": [
       "             datetime  compressorID errorID\n",
       "0 2015-01-04 07:00:00             1  error1\n",
       "1 2015-01-04 20:00:00             1  error3\n",
       "2 2015-01-05 06:00:00             1  error5\n",
       "3 2015-01-11 15:00:00             1  error4\n",
       "4 2015-01-23 10:00:00             1  error4"
      ]
     },
     "execution_count": 29,
     "metadata": {},
     "output_type": "execute_result"
    }
   ],
   "source": [
    "errors.head()"
   ]
  },
  {
   "cell_type": "code",
   "execution_count": 30,
   "metadata": {
    "colab": {
     "base_uri": "https://localhost:8080/"
    },
    "id": "1mFRC_JAjuZQ",
    "outputId": "82ab29c6-a665-4524-f3ae-cd0dd2aab49c"
   },
   "outputs": [
    {
     "name": "stdout",
     "output_type": "stream",
     "text": [
      "<class 'pandas.core.frame.DataFrame'>\n",
      "RangeIndex: 3919 entries, 0 to 3918\n",
      "Data columns (total 3 columns):\n",
      " #   Column        Non-Null Count  Dtype         \n",
      "---  ------        --------------  -----         \n",
      " 0   datetime      3919 non-null   datetime64[ns]\n",
      " 1   compressorID  3919 non-null   int64         \n",
      " 2   errorID       3919 non-null   category      \n",
      "dtypes: category(1), datetime64[ns](1), int64(1)\n",
      "memory usage: 65.4 KB\n"
     ]
    }
   ],
   "source": [
    "# Dtypes and errors info\n",
    "errors.info()"
   ]
  },
  {
   "cell_type": "code",
   "execution_count": 31,
   "metadata": {
    "colab": {
     "base_uri": "https://localhost:8080/"
    },
    "id": "iNbIwnv2kE5F",
    "outputId": "f617729a-1fba-42d8-fad9-9f784d2a38b6"
   },
   "outputs": [
    {
     "data": {
      "text/plain": [
       "3919"
      ]
     },
     "execution_count": 31,
     "metadata": {},
     "output_type": "execute_result"
    }
   ],
   "source": [
    "# Total number of errors produced\n",
    "errors = errors.drop_duplicates()\n",
    "len(errors)"
   ]
  },
  {
   "cell_type": "code",
   "execution_count": 32,
   "metadata": {
    "colab": {
     "base_uri": "https://localhost:8080/"
    },
    "id": "bobyyGkIkE5H",
    "outputId": "7f3256a5-c65c-4441-f8b9-20cbcfec8e36"
   },
   "outputs": [
    {
     "data": {
      "text/plain": [
       "<AxesSubplot:xlabel='errorID', ylabel='count'>"
      ]
     },
     "execution_count": 32,
     "metadata": {},
     "output_type": "execute_result"
    },
    {
     "data": {
      "image/png": "[encoded data removed]",
      "text/plain": [
       "<Figure size 576x432 with 1 Axes>"
      ]
     },
     "metadata": {},
     "output_type": "display_data"
    }
   ],
   "source": [
    "# Countplot of the different types of errors produced\n",
    "plt.figure(figsize=(8, 6))\n",
    "sns.countplot(errors.errorID , order = ['error1', 'error2' , 'error3' , 'error4' ,'error5'])"
   ]
  },
  {
   "cell_type": "markdown",
   "metadata": {
    "id": "ImXVyreqbzbi"
   },
   "source": [
    "### Maintenance"
   ]
  },
  {
   "cell_type": "markdown",
   "metadata": {
    "id": "TNax1mb5khH3"
   },
   "source": [
    "These registers correspond to components which were replaced due to: \n",
    "- Scheduled maintenance\n",
    "- Regular inspections\n",
    "- Failures\n",
    "\n",
    "Maintenance data starts in 2014 and has data for 2015.\n"
   ]
  },
  {
   "cell_type": "code",
   "execution_count": 33,
   "metadata": {
    "id": "GR1sgfBJdh8_"
   },
   "outputs": [],
   "source": [
    "#Define maintenance columns names\n",
    "maintenance.columns=['datetime' , 'compressorID' , 'maint_comp']"
   ]
  },
  {
   "cell_type": "code",
   "execution_count": 34,
   "metadata": {
    "id": "YdG9MbEh0l5B"
   },
   "outputs": [],
   "source": [
    "# Change the formate of the datetime\n",
    "maintenance[\"datetime\"] = pd.to_datetime(maintenance[\"datetime\"], format=\"%Y-%m-%d %H:%M:%S\")\n",
    "\n",
    "# Define as categorical value\n",
    "maintenance[\"maint_comp\"] = maintenance[\"maint_comp\"].astype(\"category\")"
   ]
  },
  {
   "cell_type": "code",
   "execution_count": 35,
   "metadata": {
    "colab": {
     "base_uri": "https://localhost:8080/"
    },
    "id": "6E9xwj19z8LC",
    "outputId": "e5de6034-d384-4aa0-8840-95f282908ecf"
   },
   "outputs": [
    {
     "data": {
      "text/html": [
       "<div>\n",
       "<style scoped>\n",
       "    .dataframe tbody tr th:only-of-type {\n",
       "        vertical-align: middle;\n",
       "    }\n",
       "\n",
       "    .dataframe tbody tr th {\n",
       "        vertical-align: top;\n",
       "    }\n",
       "\n",
       "    .dataframe thead th {\n",
       "        text-align: right;\n",
       "    }\n",
       "</style>\n",
       "<table border=\"1\" class=\"dataframe\">\n",
       "  <thead>\n",
       "    <tr style=\"text-align: right;\">\n",
       "      <th></th>\n",
       "      <th>datetime</th>\n",
       "      <th>compressorID</th>\n",
       "      <th>maint_comp</th>\n",
       "    </tr>\n",
       "  </thead>\n",
       "  <tbody>\n",
       "    <tr>\n",
       "      <th>0</th>\n",
       "      <td>2014-06-01 06:00:00</td>\n",
       "      <td>1</td>\n",
       "      <td>comp2</td>\n",
       "    </tr>\n",
       "    <tr>\n",
       "      <th>1</th>\n",
       "      <td>2014-07-16 06:00:00</td>\n",
       "      <td>1</td>\n",
       "      <td>comp4</td>\n",
       "    </tr>\n",
       "    <tr>\n",
       "      <th>2</th>\n",
       "      <td>2014-07-31 06:00:00</td>\n",
       "      <td>1</td>\n",
       "      <td>comp3</td>\n",
       "    </tr>\n",
       "    <tr>\n",
       "      <th>3</th>\n",
       "      <td>2014-12-13 06:00:00</td>\n",
       "      <td>1</td>\n",
       "      <td>comp1</td>\n",
       "    </tr>\n",
       "    <tr>\n",
       "      <th>4</th>\n",
       "      <td>2015-01-05 06:00:00</td>\n",
       "      <td>1</td>\n",
       "      <td>comp4</td>\n",
       "    </tr>\n",
       "  </tbody>\n",
       "</table>\n",
       "</div>"
      ],
      "text/plain": [
       "             datetime  compressorID maint_comp\n",
       "0 2014-06-01 06:00:00             1      comp2\n",
       "1 2014-07-16 06:00:00             1      comp4\n",
       "2 2014-07-31 06:00:00             1      comp3\n",
       "3 2014-12-13 06:00:00             1      comp1\n",
       "4 2015-01-05 06:00:00             1      comp4"
      ]
     },
     "execution_count": 35,
     "metadata": {},
     "output_type": "execute_result"
    }
   ],
   "source": [
    "maintenance.head()"
   ]
  },
  {
   "cell_type": "code",
   "execution_count": 36,
   "metadata": {
    "colab": {
     "base_uri": "https://localhost:8080/"
    },
    "id": "ETdumNyE00wn",
    "outputId": "527db2df-341d-4ee6-9293-adc24c1dd59d"
   },
   "outputs": [
    {
     "name": "stdout",
     "output_type": "stream",
     "text": [
      "<class 'pandas.core.frame.DataFrame'>\n",
      "RangeIndex: 3286 entries, 0 to 3285\n",
      "Data columns (total 3 columns):\n",
      " #   Column        Non-Null Count  Dtype         \n",
      "---  ------        --------------  -----         \n",
      " 0   datetime      3286 non-null   datetime64[ns]\n",
      " 1   compressorID  3286 non-null   int64         \n",
      " 2   maint_comp    3286 non-null   category      \n",
      "dtypes: category(1), datetime64[ns](1), int64(1)\n",
      "memory usage: 54.9 KB\n"
     ]
    }
   ],
   "source": [
    "maintenance.info()"
   ]
  },
  {
   "cell_type": "code",
   "execution_count": 37,
   "metadata": {
    "colab": {
     "base_uri": "https://localhost:8080/"
    },
    "id": "pU_g3cR5060A",
    "outputId": "bea84108-379d-4a99-fa7e-d558acf39c23"
   },
   "outputs": [
    {
     "data": {
      "text/plain": [
       "3286"
      ]
     },
     "execution_count": 37,
     "metadata": {},
     "output_type": "execute_result"
    }
   ],
   "source": [
    "# Drop duplicates and see total number of maintenance operations\n",
    "maintenance = maintenance.drop_duplicates()\n",
    "len(maintenance)"
   ]
  },
  {
   "cell_type": "code",
   "execution_count": 38,
   "metadata": {
    "colab": {
     "base_uri": "https://localhost:8080/"
    },
    "id": "0qwE1bSI1BBR",
    "outputId": "1238f19f-9def-47fb-9cc0-7d6feb21d67a"
   },
   "outputs": [
    {
     "data": {
      "text/plain": [
       "<AxesSubplot:xlabel='maint_comp', ylabel='count'>"
      ]
     },
     "execution_count": 38,
     "metadata": {},
     "output_type": "execute_result"
    },
    {
     "data": {
      "image/png": "[encoded data removed]",
      "text/plain": [
       "<Figure size 576x432 with 1 Axes>"
      ]
     },
     "metadata": {},
     "output_type": "display_data"
    }
   ],
   "source": [
    "# Plot total number of maintenance operations by component\n",
    "plt.figure(figsize=(8, 6))\n",
    "sns.countplot(maintenance.maint_comp , order = ['comp1', 'comp2' , 'comp3' , 'comp4' ])"
   ]
  },
  {
   "cell_type": "markdown",
   "metadata": {
    "id": "TuuAG6b1bzYK"
   },
   "source": [
    "### Compressors information"
   ]
  },
  {
   "cell_type": "markdown",
   "metadata": {
    "id": "k38M8dDRUWDY"
   },
   "source": [
    "This dataset has information of each compressor:\n",
    "- Model of compressor\n",
    "- Age or years of service"
   ]
  },
  {
   "cell_type": "code",
   "execution_count": 39,
   "metadata": {
    "id": "lGouPPlDj1UK"
   },
   "outputs": [],
   "source": [
    "# Define name of the compressor info columns\n",
    "compressor_info.columns=['compressorID' , 'model' , 'age' ]"
   ]
  },
  {
   "cell_type": "code",
   "execution_count": 40,
   "metadata": {
    "colab": {
     "base_uri": "https://localhost:8080/"
    },
    "id": "GkGLlUz1Ual_",
    "outputId": "688c004e-c0fd-43bd-9072-390d6ddba770"
   },
   "outputs": [
    {
     "data": {
      "text/html": [
       "<div>\n",
       "<style scoped>\n",
       "    .dataframe tbody tr th:only-of-type {\n",
       "        vertical-align: middle;\n",
       "    }\n",
       "\n",
       "    .dataframe tbody tr th {\n",
       "        vertical-align: top;\n",
       "    }\n",
       "\n",
       "    .dataframe thead th {\n",
       "        text-align: right;\n",
       "    }\n",
       "</style>\n",
       "<table border=\"1\" class=\"dataframe\">\n",
       "  <thead>\n",
       "    <tr style=\"text-align: right;\">\n",
       "      <th></th>\n",
       "      <th>compressorID</th>\n",
       "      <th>model</th>\n",
       "      <th>age</th>\n",
       "    </tr>\n",
       "  </thead>\n",
       "  <tbody>\n",
       "    <tr>\n",
       "      <th>0</th>\n",
       "      <td>1</td>\n",
       "      <td>model3</td>\n",
       "      <td>18</td>\n",
       "    </tr>\n",
       "    <tr>\n",
       "      <th>1</th>\n",
       "      <td>2</td>\n",
       "      <td>model4</td>\n",
       "      <td>7</td>\n",
       "    </tr>\n",
       "    <tr>\n",
       "      <th>2</th>\n",
       "      <td>3</td>\n",
       "      <td>model3</td>\n",
       "      <td>8</td>\n",
       "    </tr>\n",
       "    <tr>\n",
       "      <th>3</th>\n",
       "      <td>4</td>\n",
       "      <td>model3</td>\n",
       "      <td>7</td>\n",
       "    </tr>\n",
       "    <tr>\n",
       "      <th>4</th>\n",
       "      <td>5</td>\n",
       "      <td>model3</td>\n",
       "      <td>2</td>\n",
       "    </tr>\n",
       "  </tbody>\n",
       "</table>\n",
       "</div>"
      ],
      "text/plain": [
       "   compressorID   model  age\n",
       "0             1  model3   18\n",
       "1             2  model4    7\n",
       "2             3  model3    8\n",
       "3             4  model3    7\n",
       "4             5  model3    2"
      ]
     },
     "execution_count": 40,
     "metadata": {},
     "output_type": "execute_result"
    }
   ],
   "source": [
    "compressor_info.head()"
   ]
  },
  {
   "cell_type": "code",
   "execution_count": 41,
   "metadata": {
    "colab": {
     "base_uri": "https://localhost:8080/"
    },
    "id": "XNBp8r5bUlee",
    "outputId": "6f13b36d-f76e-4118-927c-5513762fb075"
   },
   "outputs": [
    {
     "name": "stdout",
     "output_type": "stream",
     "text": [
      "<class 'pandas.core.frame.DataFrame'>\n",
      "RangeIndex: 100 entries, 0 to 99\n",
      "Data columns (total 3 columns):\n",
      " #   Column        Non-Null Count  Dtype \n",
      "---  ------        --------------  ----- \n",
      " 0   compressorID  100 non-null    int64 \n",
      " 1   model         100 non-null    object\n",
      " 2   age           100 non-null    int64 \n",
      "dtypes: int64(2), object(1)\n",
      "memory usage: 2.5+ KB\n"
     ]
    }
   ],
   "source": [
    "compressor_info.info()"
   ]
  },
  {
   "cell_type": "code",
   "execution_count": 42,
   "metadata": {
    "id": "Alz7pDmhUX46"
   },
   "outputs": [],
   "source": [
    "# Define as categorical value\n",
    "compressor_info[\"model\"] = compressor_info[\"model\"].astype(\"category\")"
   ]
  },
  {
   "cell_type": "markdown",
   "metadata": {
    "id": "4L1JmPHNqLsX"
   },
   "source": [
    "With the Kernel Density Estimation plot, we can see if there are different groups of compressors related to their ancienity. In this case we can say that only a clear group is observed"
   ]
  },
  {
   "cell_type": "code",
   "execution_count": 43,
   "metadata": {
    "colab": {
     "base_uri": "https://localhost:8080/"
    },
    "id": "VHGdb25ZVG0R",
    "outputId": "7d9f0a99-f25f-44a8-ddd2-37d0ac8271ab"
   },
   "outputs": [
    {
     "data": {
      "text/plain": [
       "<AxesSubplot:xlabel='age', ylabel='Density'>"
      ]
     },
     "execution_count": 43,
     "metadata": {},
     "output_type": "execute_result"
    },
    {
     "data": {
      "image/png": "[encoded data removed]",
      "text/plain": [
       "<Figure size 432x288 with 1 Axes>"
      ]
     },
     "metadata": {},
     "output_type": "display_data"
    }
   ],
   "source": [
    "# We check if there are different groups of compressors \n",
    "sns.kdeplot(data= compressor_info, x = 'age' ) "
   ]
  },
  {
   "cell_type": "code",
   "execution_count": 44,
   "metadata": {
    "colab": {
     "base_uri": "https://localhost:8080/"
    },
    "id": "AuJktUVeWiMC",
    "outputId": "db5c718d-eb88-4a7b-aca1-fc2eea132ebe"
   },
   "outputs": [
    {
     "data": {
      "image/png": "[encoded data removed]",
      "text/plain": [
       "<Figure size 576x432 with 1 Axes>"
      ]
     },
     "metadata": {},
     "output_type": "display_data"
    }
   ],
   "source": [
    "#Plot the average age of the compressors by model\n",
    "plt.figure(figsize=(8, 6))\n",
    "_, bins, _ = plt.hist([\n",
    "    compressor_info.loc[compressor_info[\"model\"] == \"model1\", \"age\"],\n",
    "    compressor_info.loc[compressor_info[\"model\"] == \"model2\", \"age\"],\n",
    "    compressor_info.loc[compressor_info[\"model\"] == \"model3\", \"age\"],\n",
    "    compressor_info.loc[compressor_info[\"model\"] == \"model4\", \"age\"]],\n",
    "    20, stacked=True, label=[\"model1\", \"model2\", \"model3\", \"model4\"\n",
    "])\n",
    "plt.title(\"Distribution of age by compressor model\")\n",
    "plt.xlabel(\"Age (years)\")\n",
    "plt.ylabel(\"Quantity\")\n",
    "plt.legend()\n",
    "plt.show()"
   ]
  },
  {
   "cell_type": "markdown",
   "metadata": {
    "id": "mNnt7_tpX-Js"
   },
   "source": [
    "## **Maintenance vs Failures vs Errors**"
   ]
  },
  {
   "cell_type": "markdown",
   "metadata": {
    "id": "GGKtVK1xlCuE"
   },
   "source": [
    "Number of ocurrences of maintenance vs failure"
   ]
  },
  {
   "cell_type": "code",
   "execution_count": 45,
   "metadata": {
    "id": "xbPSjftr2ZmJ"
   },
   "outputs": [],
   "source": [
    "maintenance_merge = maintenance.copy()\n",
    "maintenance_merge['origin'] = 'maintenance'\n",
    "failures_merge = failures.copy()\n",
    "failures_merge['origin'] = 'failures'"
   ]
  },
  {
   "cell_type": "code",
   "execution_count": 46,
   "metadata": {
    "id": "OrIW855EZblv"
   },
   "outputs": [],
   "source": [
    "failures_maintenance = failures_merge.merge(maintenance_merge, how = 'outer', on = ['datetime', 'compressorID' , 'origin'])"
   ]
  },
  {
   "cell_type": "code",
   "execution_count": 47,
   "metadata": {
    "id": "ypIkwoS62QIU"
   },
   "outputs": [],
   "source": [
    "failures_maintenance['comp'] = failures_maintenance['failure_comp'].combine_first(failures_maintenance['maint_comp'])"
   ]
  },
  {
   "cell_type": "code",
   "execution_count": 48,
   "metadata": {
    "colab": {
     "base_uri": "https://localhost:8080/"
    },
    "id": "Hxa-9R0PPsFa",
    "outputId": "1130d784-17f5-4c35-bade-e6a50168e014"
   },
   "outputs": [
    {
     "data": {
      "text/html": [
       "<div>\n",
       "<style scoped>\n",
       "    .dataframe tbody tr th:only-of-type {\n",
       "        vertical-align: middle;\n",
       "    }\n",
       "\n",
       "    .dataframe tbody tr th {\n",
       "        vertical-align: top;\n",
       "    }\n",
       "\n",
       "    .dataframe thead th {\n",
       "        text-align: right;\n",
       "    }\n",
       "</style>\n",
       "<table border=\"1\" class=\"dataframe\">\n",
       "  <thead>\n",
       "    <tr style=\"text-align: right;\">\n",
       "      <th></th>\n",
       "      <th>datetime</th>\n",
       "      <th>compressorID</th>\n",
       "      <th>failure_comp</th>\n",
       "      <th>origin</th>\n",
       "      <th>maint_comp</th>\n",
       "      <th>comp</th>\n",
       "    </tr>\n",
       "  </thead>\n",
       "  <tbody>\n",
       "    <tr>\n",
       "      <th>0</th>\n",
       "      <td>2015-01-05 06:00:00</td>\n",
       "      <td>1</td>\n",
       "      <td>comp4</td>\n",
       "      <td>failures</td>\n",
       "      <td>NaN</td>\n",
       "      <td>comp4</td>\n",
       "    </tr>\n",
       "    <tr>\n",
       "      <th>1</th>\n",
       "      <td>2015-03-06 06:00:00</td>\n",
       "      <td>1</td>\n",
       "      <td>comp1</td>\n",
       "      <td>failures</td>\n",
       "      <td>NaN</td>\n",
       "      <td>comp1</td>\n",
       "    </tr>\n",
       "    <tr>\n",
       "      <th>2</th>\n",
       "      <td>2015-04-20 06:00:00</td>\n",
       "      <td>1</td>\n",
       "      <td>comp2</td>\n",
       "      <td>failures</td>\n",
       "      <td>NaN</td>\n",
       "      <td>comp2</td>\n",
       "    </tr>\n",
       "    <tr>\n",
       "      <th>3</th>\n",
       "      <td>2015-06-19 06:00:00</td>\n",
       "      <td>1</td>\n",
       "      <td>comp4</td>\n",
       "      <td>failures</td>\n",
       "      <td>NaN</td>\n",
       "      <td>comp4</td>\n",
       "    </tr>\n",
       "    <tr>\n",
       "      <th>4</th>\n",
       "      <td>2015-09-02 06:00:00</td>\n",
       "      <td>1</td>\n",
       "      <td>comp4</td>\n",
       "      <td>failures</td>\n",
       "      <td>NaN</td>\n",
       "      <td>comp4</td>\n",
       "    </tr>\n",
       "  </tbody>\n",
       "</table>\n",
       "</div>"
      ],
      "text/plain": [
       "             datetime  compressorID failure_comp    origin maint_comp   comp\n",
       "0 2015-01-05 06:00:00             1        comp4  failures        NaN  comp4\n",
       "1 2015-03-06 06:00:00             1        comp1  failures        NaN  comp1\n",
       "2 2015-04-20 06:00:00             1        comp2  failures        NaN  comp2\n",
       "3 2015-06-19 06:00:00             1        comp4  failures        NaN  comp4\n",
       "4 2015-09-02 06:00:00             1        comp4  failures        NaN  comp4"
      ]
     },
     "execution_count": 48,
     "metadata": {},
     "output_type": "execute_result"
    }
   ],
   "source": [
    "failures_maintenance.head()"
   ]
  },
  {
   "cell_type": "code",
   "execution_count": 49,
   "metadata": {
    "colab": {
     "base_uri": "https://localhost:8080/"
    },
    "id": "EWp5nVUaat0S",
    "outputId": "a7bd3abd-52fd-480c-b3e8-1fc1cacab633"
   },
   "outputs": [
    {
     "data": {
      "text/plain": [
       "<AxesSubplot:xlabel='comp', ylabel='count'>"
      ]
     },
     "execution_count": 49,
     "metadata": {},
     "output_type": "execute_result"
    },
    {
     "data": {
      "image/png": "[encoded data removed]",
      "text/plain": [
       "<Figure size 576x432 with 1 Axes>"
      ]
     },
     "metadata": {},
     "output_type": "display_data"
    }
   ],
   "source": [
    "plt.figure(figsize=(8, 6))\n",
    "sns.countplot(data= failures_maintenance, x= 'comp' , hue = 'origin')"
   ]
  },
  {
   "cell_type": "markdown",
   "metadata": {
    "id": "x-_Flgy8gm0U"
   },
   "source": [
    "\n",
    "Scatterplot in separated compressor: failures, maintenance, errors"
   ]
  },
  {
   "cell_type": "code",
   "execution_count": 50,
   "metadata": {
    "id": "gYHw312QkH7S"
   },
   "outputs": [],
   "source": [
    "# Select the compressor\n",
    "compressor_number = 1\n",
    "\n",
    "# We establish the times corresponding to the records that will be used for ploting the data\n",
    "initial_date = pd.to_datetime(\"2015-01-01 06:00:00\")\n",
    "final_date = pd.to_datetime(\"2016-01-01 06:00:00\")"
   ]
  },
  {
   "cell_type": "code",
   "execution_count": 51,
   "metadata": {
    "id": "YqmthDNMgmEX"
   },
   "outputs": [],
   "source": [
    "errors_merge = errors.copy()\n",
    "errors_merge['origin'] = 'errors'"
   ]
  },
  {
   "cell_type": "code",
   "execution_count": 52,
   "metadata": {
    "id": "cU_ijX2Om2yB"
   },
   "outputs": [],
   "source": [
    "fail_main_err= pd.DataFrame()"
   ]
  },
  {
   "cell_type": "code",
   "execution_count": 53,
   "metadata": {
    "id": "8GUz91GQnPnN"
   },
   "outputs": [],
   "source": [
    "fail_main_err  = failures_merge.merge(maintenance_merge, how = 'outer', on = ['datetime', 'compressorID' , 'origin'])\n",
    "fail_main_err  = fail_main_err.merge(errors_merge, how = 'outer', on = ['datetime', 'compressorID' , 'origin'])"
   ]
  },
  {
   "cell_type": "code",
   "execution_count": 54,
   "metadata": {
    "id": "a9qcMqV7jMzw"
   },
   "outputs": [],
   "source": [
    "cols = ['failure_comp', 'maint_comp', 'errorID']\n",
    "fail_main_err[\"event\"] = fail_main_err[cols].apply(lambda x: ','.join(x.dropna()), axis=1)"
   ]
  },
  {
   "cell_type": "code",
   "execution_count": 56,
   "metadata": {
    "id": "fCxOHSCMqSlL"
   },
   "outputs": [],
   "source": [
    "fail_main_err['event'] = fail_main_err['event'].apply(lambda row: re.findall(r'[0-9]+',row)[0])"
   ]
  },
  {
   "cell_type": "code",
   "execution_count": 57,
   "metadata": {
    "id": "dZSRWBSGjOvi"
   },
   "outputs": [],
   "source": [
    "fail_main_err_comp = fail_main_err[(fail_main_err['compressorID'] == compressor_number) &\n",
    "                                   (fail_main_err['datetime'] > initial_date)&\n",
    "                                   (fail_main_err['datetime'] < final_date)]"
   ]
  },
  {
   "cell_type": "code",
   "execution_count": 58,
   "metadata": {
    "id": "UvxRmcJULv4c"
   },
   "outputs": [],
   "source": [
    "hue_events = fail_main_err_comp['event'].unique()"
   ]
  },
  {
   "cell_type": "code",
   "execution_count": 60,
   "metadata": {
    "id": "Ffi_LGFTMCPN"
   },
   "outputs": [],
   "source": [
    "hue_events = list(hue_events)"
   ]
  },
  {
   "cell_type": "code",
   "execution_count": 61,
   "metadata": {
    "id": "LZ6Snc7XNKsR"
   },
   "outputs": [],
   "source": [
    "hue_events.sort()"
   ]
  },
  {
   "cell_type": "code",
   "execution_count": 63,
   "metadata": {
    "colab": {
     "base_uri": "https://localhost:8080/"
    },
    "id": "2H7FKOrRP6oC",
    "outputId": "a198a57a-6286-462b-a3ed-ddb877dacee4"
   },
   "outputs": [
    {
     "data": {
      "text/html": [
       "<div>\n",
       "<style scoped>\n",
       "    .dataframe tbody tr th:only-of-type {\n",
       "        vertical-align: middle;\n",
       "    }\n",
       "\n",
       "    .dataframe tbody tr th {\n",
       "        vertical-align: top;\n",
       "    }\n",
       "\n",
       "    .dataframe thead th {\n",
       "        text-align: right;\n",
       "    }\n",
       "</style>\n",
       "<table border=\"1\" class=\"dataframe\">\n",
       "  <thead>\n",
       "    <tr style=\"text-align: right;\">\n",
       "      <th></th>\n",
       "      <th>datetime</th>\n",
       "      <th>compressorID</th>\n",
       "      <th>failure_comp</th>\n",
       "      <th>origin</th>\n",
       "      <th>maint_comp</th>\n",
       "      <th>errorID</th>\n",
       "      <th>event</th>\n",
       "    </tr>\n",
       "  </thead>\n",
       "  <tbody>\n",
       "    <tr>\n",
       "      <th>0</th>\n",
       "      <td>2015-01-05 06:00:00</td>\n",
       "      <td>1</td>\n",
       "      <td>comp4</td>\n",
       "      <td>failures</td>\n",
       "      <td>NaN</td>\n",
       "      <td>NaN</td>\n",
       "      <td>4</td>\n",
       "    </tr>\n",
       "    <tr>\n",
       "      <th>1</th>\n",
       "      <td>2015-03-06 06:00:00</td>\n",
       "      <td>1</td>\n",
       "      <td>comp1</td>\n",
       "      <td>failures</td>\n",
       "      <td>NaN</td>\n",
       "      <td>NaN</td>\n",
       "      <td>1</td>\n",
       "    </tr>\n",
       "    <tr>\n",
       "      <th>2</th>\n",
       "      <td>2015-04-20 06:00:00</td>\n",
       "      <td>1</td>\n",
       "      <td>comp2</td>\n",
       "      <td>failures</td>\n",
       "      <td>NaN</td>\n",
       "      <td>NaN</td>\n",
       "      <td>2</td>\n",
       "    </tr>\n",
       "    <tr>\n",
       "      <th>3</th>\n",
       "      <td>2015-06-19 06:00:00</td>\n",
       "      <td>1</td>\n",
       "      <td>comp4</td>\n",
       "      <td>failures</td>\n",
       "      <td>NaN</td>\n",
       "      <td>NaN</td>\n",
       "      <td>4</td>\n",
       "    </tr>\n",
       "    <tr>\n",
       "      <th>4</th>\n",
       "      <td>2015-09-02 06:00:00</td>\n",
       "      <td>1</td>\n",
       "      <td>comp4</td>\n",
       "      <td>failures</td>\n",
       "      <td>NaN</td>\n",
       "      <td>NaN</td>\n",
       "      <td>4</td>\n",
       "    </tr>\n",
       "  </tbody>\n",
       "</table>\n",
       "</div>"
      ],
      "text/plain": [
       "             datetime  compressorID failure_comp    origin maint_comp errorID  \\\n",
       "0 2015-01-05 06:00:00             1        comp4  failures        NaN     NaN   \n",
       "1 2015-03-06 06:00:00             1        comp1  failures        NaN     NaN   \n",
       "2 2015-04-20 06:00:00             1        comp2  failures        NaN     NaN   \n",
       "3 2015-06-19 06:00:00             1        comp4  failures        NaN     NaN   \n",
       "4 2015-09-02 06:00:00             1        comp4  failures        NaN     NaN   \n",
       "\n",
       "  event  \n",
       "0     4  \n",
       "1     1  \n",
       "2     2  \n",
       "3     4  \n",
       "4     4  "
      ]
     },
     "execution_count": 63,
     "metadata": {},
     "output_type": "execute_result"
    }
   ],
   "source": [
    "fail_main_err_comp.head()"
   ]
  },
  {
   "cell_type": "code",
   "execution_count": 64,
   "metadata": {
    "colab": {
     "base_uri": "https://localhost:8080/"
    },
    "id": "_y6Mw6l5be7z",
    "outputId": "b723ade5-ed51-4bf8-d42f-01dde642e5ed"
   },
   "outputs": [
    {
     "data": {
      "text/plain": [
       "<AxesSubplot:xlabel='datetime', ylabel='event'>"
      ]
     },
     "execution_count": 64,
     "metadata": {},
     "output_type": "execute_result"
    },
    {
     "data": {
      "image/png": "[encoded data removed]",
      "text/plain": [
       "<Figure size 1728x576 with 1 Axes>"
      ]
     },
     "metadata": {},
     "output_type": "display_data"
    }
   ],
   "source": [
    "plt.figure(figsize=(24, 8))\n",
    "sns.swarmplot(x=\"datetime\", y=\"event\", data=fail_main_err_comp, hue= 'origin', orient = \"h\", order=hue_events)"
   ]
  },
  {
   "cell_type": "markdown",
   "metadata": {
    "id": "h7Pt74F08e6N"
   },
   "source": [
    "# Overview of the data"
   ]
  },
  {
   "cell_type": "markdown",
   "metadata": {
    "id": "nAxluOvEfZCa"
   },
   "source": [
    "### Check if any empty value"
   ]
  },
  {
   "cell_type": "code",
   "execution_count": 65,
   "metadata": {
    "colab": {
     "base_uri": "https://localhost:8080/"
    },
    "id": "dFpA8YmlfZCa",
    "outputId": "1cfc4b4f-6898-41b3-e76d-606943cdd7fe"
   },
   "outputs": [
    {
     "data": {
      "text/plain": [
       "datetime        0\n",
       "compressorID    0\n",
       "current         0\n",
       "rpm             0\n",
       "pressure        0\n",
       "vibration       0\n",
       "dtype: int64"
      ]
     },
     "execution_count": 65,
     "metadata": {},
     "output_type": "execute_result"
    }
   ],
   "source": [
    "sensors.isna().sum()"
   ]
  },
  {
   "cell_type": "code",
   "execution_count": 66,
   "metadata": {
    "colab": {
     "base_uri": "https://localhost:8080/"
    },
    "id": "nIJuMjWjfZCa",
    "outputId": "cffa8efc-2e60-43d2-fc44-6194fb3d1e20"
   },
   "outputs": [
    {
     "data": {
      "text/plain": [
       "datetime        0\n",
       "compressorID    0\n",
       "errorID         0\n",
       "dtype: int64"
      ]
     },
     "execution_count": 66,
     "metadata": {},
     "output_type": "execute_result"
    }
   ],
   "source": [
    "errors.isna().sum()"
   ]
  },
  {
   "cell_type": "code",
   "execution_count": 67,
   "metadata": {
    "colab": {
     "base_uri": "https://localhost:8080/"
    },
    "id": "5TV-gZ3KfZCa",
    "outputId": "61c03088-81c6-411b-cd40-d4af0cd1b75d"
   },
   "outputs": [
    {
     "data": {
      "text/plain": [
       "datetime        0\n",
       "compressorID    0\n",
       "failure_comp    0\n",
       "dtype: int64"
      ]
     },
     "execution_count": 67,
     "metadata": {},
     "output_type": "execute_result"
    }
   ],
   "source": [
    "failures.isna().sum()"
   ]
  },
  {
   "cell_type": "code",
   "execution_count": 68,
   "metadata": {
    "colab": {
     "base_uri": "https://localhost:8080/"
    },
    "id": "u8K1K5GOfZCb",
    "outputId": "1af4af79-437a-4b3f-d562-c1bb19b12637"
   },
   "outputs": [
    {
     "data": {
      "text/plain": [
       "datetime        0\n",
       "compressorID    0\n",
       "maint_comp      0\n",
       "dtype: int64"
      ]
     },
     "execution_count": 68,
     "metadata": {},
     "output_type": "execute_result"
    }
   ],
   "source": [
    "maintenance.isna().sum()"
   ]
  },
  {
   "cell_type": "code",
   "execution_count": 69,
   "metadata": {
    "colab": {
     "base_uri": "https://localhost:8080/"
    },
    "id": "lH_GmMOafZCb",
    "outputId": "869af483-e7a5-40f5-d9e7-47fb15a6a971"
   },
   "outputs": [
    {
     "data": {
      "text/plain": [
       "compressorID    0\n",
       "model           0\n",
       "age             0\n",
       "dtype: int64"
      ]
     },
     "execution_count": 69,
     "metadata": {},
     "output_type": "execute_result"
    }
   ],
   "source": [
    "compressor_info.isna().sum()"
   ]
  },
  {
   "cell_type": "markdown",
   "metadata": {
    "id": "KlYXdyrBJvSc"
   },
   "source": [
    "## Merge dummies"
   ]
  },
  {
   "cell_type": "markdown",
   "metadata": {
    "id": "6i9qGzOSfZCb"
   },
   "source": [
    "### Create dummies"
   ]
  },
  {
   "cell_type": "markdown",
   "metadata": {
    "id": "Omf6xe2O9zMz"
   },
   "source": [
    "Errors"
   ]
  },
  {
   "cell_type": "code",
   "execution_count": 70,
   "metadata": {
    "colab": {
     "base_uri": "https://localhost:8080/"
    },
    "id": "ywfaNTnH96e_",
    "outputId": "85ab8cee-a228-4dbb-82ab-2c997d8695b6"
   },
   "outputs": [
    {
     "data": {
      "text/plain": [
       "error1    1010\n",
       "error2     988\n",
       "error3     838\n",
       "error4     727\n",
       "error5     356\n",
       "Name: errorID, dtype: int64"
      ]
     },
     "execution_count": 70,
     "metadata": {},
     "output_type": "execute_result"
    }
   ],
   "source": [
    "errors['errorID'].value_counts()"
   ]
  },
  {
   "cell_type": "code",
   "execution_count": 71,
   "metadata": {
    "id": "PGu6SJth9u_-"
   },
   "outputs": [],
   "source": [
    "# Create dummies in order to collect all the info\n",
    "errors_dum = pd.get_dummies(errors) # We put a 1 if the error appears for that machine, 0 otherwise.\n",
    "errors_dum.columns = [\"datetime\", \"compressorID\", \"error1\", \"error2\", \"error3\", \"error4\", \"error5\"]"
   ]
  },
  {
   "cell_type": "code",
   "execution_count": 72,
   "metadata": {
    "id": "j-nSfA409u__"
   },
   "outputs": [],
   "source": [
    "# Group by compressorID and datetime and reset the index\n",
    "errors_dum = errors_dum.groupby([\"compressorID\", \"datetime\"]).sum().reset_index()"
   ]
  },
  {
   "cell_type": "code",
   "execution_count": 73,
   "metadata": {
    "colab": {
     "base_uri": "https://localhost:8080/"
    },
    "id": "0zi7sKfK9u__",
    "outputId": "17154364-0b7e-4513-8c3b-b7ad34ceb266"
   },
   "outputs": [
    {
     "data": {
      "text/html": [
       "<div>\n",
       "<style scoped>\n",
       "    .dataframe tbody tr th:only-of-type {\n",
       "        vertical-align: middle;\n",
       "    }\n",
       "\n",
       "    .dataframe tbody tr th {\n",
       "        vertical-align: top;\n",
       "    }\n",
       "\n",
       "    .dataframe thead th {\n",
       "        text-align: right;\n",
       "    }\n",
       "</style>\n",
       "<table border=\"1\" class=\"dataframe\">\n",
       "  <thead>\n",
       "    <tr style=\"text-align: right;\">\n",
       "      <th></th>\n",
       "      <th>compressorID</th>\n",
       "      <th>datetime</th>\n",
       "      <th>error1</th>\n",
       "      <th>error2</th>\n",
       "      <th>error3</th>\n",
       "      <th>error4</th>\n",
       "      <th>error5</th>\n",
       "    </tr>\n",
       "  </thead>\n",
       "  <tbody>\n",
       "    <tr>\n",
       "      <th>0</th>\n",
       "      <td>1</td>\n",
       "      <td>2015-01-04 07:00:00</td>\n",
       "      <td>1</td>\n",
       "      <td>0</td>\n",
       "      <td>0</td>\n",
       "      <td>0</td>\n",
       "      <td>0</td>\n",
       "    </tr>\n",
       "    <tr>\n",
       "      <th>1</th>\n",
       "      <td>1</td>\n",
       "      <td>2015-01-04 20:00:00</td>\n",
       "      <td>0</td>\n",
       "      <td>0</td>\n",
       "      <td>1</td>\n",
       "      <td>0</td>\n",
       "      <td>0</td>\n",
       "    </tr>\n",
       "    <tr>\n",
       "      <th>2</th>\n",
       "      <td>1</td>\n",
       "      <td>2015-01-05 06:00:00</td>\n",
       "      <td>0</td>\n",
       "      <td>0</td>\n",
       "      <td>0</td>\n",
       "      <td>0</td>\n",
       "      <td>1</td>\n",
       "    </tr>\n",
       "    <tr>\n",
       "      <th>3</th>\n",
       "      <td>1</td>\n",
       "      <td>2015-01-11 15:00:00</td>\n",
       "      <td>0</td>\n",
       "      <td>0</td>\n",
       "      <td>0</td>\n",
       "      <td>1</td>\n",
       "      <td>0</td>\n",
       "    </tr>\n",
       "    <tr>\n",
       "      <th>4</th>\n",
       "      <td>1</td>\n",
       "      <td>2015-01-23 10:00:00</td>\n",
       "      <td>0</td>\n",
       "      <td>0</td>\n",
       "      <td>0</td>\n",
       "      <td>1</td>\n",
       "      <td>0</td>\n",
       "    </tr>\n",
       "  </tbody>\n",
       "</table>\n",
       "</div>"
      ],
      "text/plain": [
       "   compressorID            datetime  error1  error2  error3  error4  error5\n",
       "0             1 2015-01-04 07:00:00       1       0       0       0       0\n",
       "1             1 2015-01-04 20:00:00       0       0       1       0       0\n",
       "2             1 2015-01-05 06:00:00       0       0       0       0       1\n",
       "3             1 2015-01-11 15:00:00       0       0       0       1       0\n",
       "4             1 2015-01-23 10:00:00       0       0       0       1       0"
      ]
     },
     "execution_count": 73,
     "metadata": {},
     "output_type": "execute_result"
    }
   ],
   "source": [
    "errors_dum.head()"
   ]
  },
  {
   "cell_type": "markdown",
   "metadata": {
    "id": "jd6i3B3n-It8"
   },
   "source": [
    "Maintenance"
   ]
  },
  {
   "cell_type": "code",
   "execution_count": 74,
   "metadata": {
    "colab": {
     "base_uri": "https://localhost:8080/"
    },
    "id": "BjTx5cTI-It8",
    "outputId": "8ca38e63-e616-4e9b-fa3a-f8ec63be1140"
   },
   "outputs": [
    {
     "data": {
      "text/plain": [
       "comp2    863\n",
       "comp4    811\n",
       "comp3    808\n",
       "comp1    804\n",
       "Name: maint_comp, dtype: int64"
      ]
     },
     "execution_count": 74,
     "metadata": {},
     "output_type": "execute_result"
    }
   ],
   "source": [
    "maintenance['maint_comp'].value_counts()"
   ]
  },
  {
   "cell_type": "code",
   "execution_count": 75,
   "metadata": {
    "id": "8Q1ZLRuN-It8"
   },
   "outputs": [],
   "source": [
    "# Create dummies in order to collect all the info\n",
    "maintenance_dum = pd.get_dummies(maintenance) \n",
    "maintenance_dum.columns = [\"datetime\", \"compressorID\", \"comp1\", \"comp2\", \"comp3\", \"comp4\"]"
   ]
  },
  {
   "cell_type": "code",
   "execution_count": 76,
   "metadata": {
    "id": "8Gzp9m0l-It9"
   },
   "outputs": [],
   "source": [
    "# Group by compressorID and datetime and reset the index\n",
    "maintenance_dum = maintenance_dum.groupby([\"compressorID\", \"datetime\"]).sum().reset_index()"
   ]
  },
  {
   "cell_type": "code",
   "execution_count": 77,
   "metadata": {
    "colab": {
     "base_uri": "https://localhost:8080/"
    },
    "id": "SqPrR5-k-It9",
    "outputId": "54f189b9-3944-4693-8da5-188a49940420"
   },
   "outputs": [
    {
     "data": {
      "text/html": [
       "<div>\n",
       "<style scoped>\n",
       "    .dataframe tbody tr th:only-of-type {\n",
       "        vertical-align: middle;\n",
       "    }\n",
       "\n",
       "    .dataframe tbody tr th {\n",
       "        vertical-align: top;\n",
       "    }\n",
       "\n",
       "    .dataframe thead th {\n",
       "        text-align: right;\n",
       "    }\n",
       "</style>\n",
       "<table border=\"1\" class=\"dataframe\">\n",
       "  <thead>\n",
       "    <tr style=\"text-align: right;\">\n",
       "      <th></th>\n",
       "      <th>compressorID</th>\n",
       "      <th>datetime</th>\n",
       "      <th>comp1</th>\n",
       "      <th>comp2</th>\n",
       "      <th>comp3</th>\n",
       "      <th>comp4</th>\n",
       "    </tr>\n",
       "  </thead>\n",
       "  <tbody>\n",
       "    <tr>\n",
       "      <th>0</th>\n",
       "      <td>1</td>\n",
       "      <td>2014-06-01 06:00:00</td>\n",
       "      <td>0</td>\n",
       "      <td>1</td>\n",
       "      <td>0</td>\n",
       "      <td>0</td>\n",
       "    </tr>\n",
       "    <tr>\n",
       "      <th>1</th>\n",
       "      <td>1</td>\n",
       "      <td>2014-07-16 06:00:00</td>\n",
       "      <td>0</td>\n",
       "      <td>0</td>\n",
       "      <td>0</td>\n",
       "      <td>1</td>\n",
       "    </tr>\n",
       "    <tr>\n",
       "      <th>2</th>\n",
       "      <td>1</td>\n",
       "      <td>2014-07-31 06:00:00</td>\n",
       "      <td>0</td>\n",
       "      <td>0</td>\n",
       "      <td>1</td>\n",
       "      <td>0</td>\n",
       "    </tr>\n",
       "    <tr>\n",
       "      <th>3</th>\n",
       "      <td>1</td>\n",
       "      <td>2014-12-13 06:00:00</td>\n",
       "      <td>1</td>\n",
       "      <td>0</td>\n",
       "      <td>0</td>\n",
       "      <td>0</td>\n",
       "    </tr>\n",
       "    <tr>\n",
       "      <th>4</th>\n",
       "      <td>1</td>\n",
       "      <td>2015-01-05 06:00:00</td>\n",
       "      <td>1</td>\n",
       "      <td>0</td>\n",
       "      <td>0</td>\n",
       "      <td>1</td>\n",
       "    </tr>\n",
       "  </tbody>\n",
       "</table>\n",
       "</div>"
      ],
      "text/plain": [
       "   compressorID            datetime  comp1  comp2  comp3  comp4\n",
       "0             1 2014-06-01 06:00:00      0      1      0      0\n",
       "1             1 2014-07-16 06:00:00      0      0      0      1\n",
       "2             1 2014-07-31 06:00:00      0      0      1      0\n",
       "3             1 2014-12-13 06:00:00      1      0      0      0\n",
       "4             1 2015-01-05 06:00:00      1      0      0      1"
      ]
     },
     "execution_count": 77,
     "metadata": {},
     "output_type": "execute_result"
    }
   ],
   "source": [
    "maintenance_dum.head()"
   ]
  },
  {
   "cell_type": "markdown",
   "metadata": {
    "id": "lF3uoc5E-It9"
   },
   "source": [
    "Failures"
   ]
  },
  {
   "cell_type": "code",
   "execution_count": 78,
   "metadata": {
    "colab": {
     "base_uri": "https://localhost:8080/"
    },
    "id": "Pnx8O-6m-It-",
    "outputId": "ff84424b-2da5-473d-ecb7-cb2e78625e1c"
   },
   "outputs": [
    {
     "data": {
      "text/plain": [
       "comp2    259\n",
       "comp1    192\n",
       "comp4    179\n",
       "comp3    131\n",
       "Name: failure_comp, dtype: int64"
      ]
     },
     "execution_count": 78,
     "metadata": {},
     "output_type": "execute_result"
    }
   ],
   "source": [
    "failures['failure_comp'].value_counts()"
   ]
  },
  {
   "cell_type": "code",
   "execution_count": 79,
   "metadata": {
    "id": "PwixVEjO-It-"
   },
   "outputs": [],
   "source": [
    "# Create dummies in order to collect all the info\n",
    "failures_dum = pd.get_dummies(failures) # We put a 1 if the error appears for that machine, 0 otherwise.\n",
    "failures_dum.columns = [\"datetime\", \"compressorID\", \"comp1\", \"comp2\", \"comp3\", \"comp4\"]"
   ]
  },
  {
   "cell_type": "code",
   "execution_count": 80,
   "metadata": {
    "id": "iI80MoOQ-It-"
   },
   "outputs": [],
   "source": [
    "# Group by compressorID and datetime and reset the index\n",
    "failures_dum = failures_dum.groupby([\"compressorID\", \"datetime\"]).sum().reset_index()"
   ]
  },
  {
   "cell_type": "code",
   "execution_count": 81,
   "metadata": {
    "colab": {
     "base_uri": "https://localhost:8080/"
    },
    "id": "T_pZVhVv-It-",
    "outputId": "da13eaaf-6877-435f-b9b6-0e94b6d9fc09"
   },
   "outputs": [
    {
     "data": {
      "text/html": [
       "<div>\n",
       "<style scoped>\n",
       "    .dataframe tbody tr th:only-of-type {\n",
       "        vertical-align: middle;\n",
       "    }\n",
       "\n",
       "    .dataframe tbody tr th {\n",
       "        vertical-align: top;\n",
       "    }\n",
       "\n",
       "    .dataframe thead th {\n",
       "        text-align: right;\n",
       "    }\n",
       "</style>\n",
       "<table border=\"1\" class=\"dataframe\">\n",
       "  <thead>\n",
       "    <tr style=\"text-align: right;\">\n",
       "      <th></th>\n",
       "      <th>compressorID</th>\n",
       "      <th>datetime</th>\n",
       "      <th>comp1</th>\n",
       "      <th>comp2</th>\n",
       "      <th>comp3</th>\n",
       "      <th>comp4</th>\n",
       "    </tr>\n",
       "  </thead>\n",
       "  <tbody>\n",
       "    <tr>\n",
       "      <th>0</th>\n",
       "      <td>1</td>\n",
       "      <td>2015-01-05 06:00:00</td>\n",
       "      <td>0</td>\n",
       "      <td>0</td>\n",
       "      <td>0</td>\n",
       "      <td>1</td>\n",
       "    </tr>\n",
       "    <tr>\n",
       "      <th>1</th>\n",
       "      <td>1</td>\n",
       "      <td>2015-03-06 06:00:00</td>\n",
       "      <td>1</td>\n",
       "      <td>0</td>\n",
       "      <td>0</td>\n",
       "      <td>0</td>\n",
       "    </tr>\n",
       "    <tr>\n",
       "      <th>2</th>\n",
       "      <td>1</td>\n",
       "      <td>2015-04-20 06:00:00</td>\n",
       "      <td>0</td>\n",
       "      <td>1</td>\n",
       "      <td>0</td>\n",
       "      <td>0</td>\n",
       "    </tr>\n",
       "    <tr>\n",
       "      <th>3</th>\n",
       "      <td>1</td>\n",
       "      <td>2015-06-19 06:00:00</td>\n",
       "      <td>0</td>\n",
       "      <td>0</td>\n",
       "      <td>0</td>\n",
       "      <td>1</td>\n",
       "    </tr>\n",
       "    <tr>\n",
       "      <th>4</th>\n",
       "      <td>1</td>\n",
       "      <td>2015-09-02 06:00:00</td>\n",
       "      <td>0</td>\n",
       "      <td>0</td>\n",
       "      <td>0</td>\n",
       "      <td>1</td>\n",
       "    </tr>\n",
       "  </tbody>\n",
       "</table>\n",
       "</div>"
      ],
      "text/plain": [
       "   compressorID            datetime  comp1  comp2  comp3  comp4\n",
       "0             1 2015-01-05 06:00:00      0      0      0      1\n",
       "1             1 2015-03-06 06:00:00      1      0      0      0\n",
       "2             1 2015-04-20 06:00:00      0      1      0      0\n",
       "3             1 2015-06-19 06:00:00      0      0      0      1\n",
       "4             1 2015-09-02 06:00:00      0      0      0      1"
      ]
     },
     "execution_count": 81,
     "metadata": {},
     "output_type": "execute_result"
    }
   ],
   "source": [
    "failures_dum.head()"
   ]
  },
  {
   "cell_type": "markdown",
   "metadata": {
    "id": "foM6gIGvfZCe"
   },
   "source": [
    "### Merge dataframes"
   ]
  },
  {
   "cell_type": "markdown",
   "metadata": {
    "id": "1txdOCjkJEkS"
   },
   "source": [
    "Create dataframe with all the datetimes and the compressorIDs"
   ]
  },
  {
   "cell_type": "code",
   "execution_count": 82,
   "metadata": {
    "id": "2HInXklAJEkT"
   },
   "outputs": [],
   "source": [
    "max_date_all= maintenance['datetime'].max()\n",
    "min_date_all= maintenance['datetime'].min()\n",
    "\n",
    "for data_frame in [maintenance, errors, failures ,sensors]:\n",
    "  max_date= data_frame['datetime'].max()\n",
    "  if max_date>max_date_all:\n",
    "    max_date_all=max_date\n",
    "  min_date= data_frame['datetime'].min()\n",
    "  if min_date<min_date_all :\n",
    "    min_date_all = min_date"
   ]
  },
  {
   "cell_type": "code",
   "execution_count": 83,
   "metadata": {
    "colab": {
     "base_uri": "https://localhost:8080/"
    },
    "id": "gsDqPvhOJEkT",
    "outputId": "ccc46afd-49ba-4c6e-cb9e-9b3e30a23820"
   },
   "outputs": [
    {
     "data": {
      "text/plain": [
       "Timestamp('2016-01-02 05:00:00')"
      ]
     },
     "execution_count": 83,
     "metadata": {},
     "output_type": "execute_result"
    }
   ],
   "source": [
    "max_date_all"
   ]
  },
  {
   "cell_type": "code",
   "execution_count": 84,
   "metadata": {
    "colab": {
     "base_uri": "https://localhost:8080/"
    },
    "id": "YMywbhNuJEkT",
    "outputId": "43d940ba-ac7b-40e8-e6fd-d08ff5766f31"
   },
   "outputs": [
    {
     "data": {
      "text/plain": [
       "Timestamp('2014-06-01 06:00:00')"
      ]
     },
     "execution_count": 84,
     "metadata": {},
     "output_type": "execute_result"
    }
   ],
   "source": [
    "min_date_all"
   ]
  },
  {
   "cell_type": "markdown",
   "metadata": {
    "id": "RdpssFILJEkT"
   },
   "source": [
    "DataFrame with all the dates ranges"
   ]
  },
  {
   "cell_type": "code",
   "execution_count": 85,
   "metadata": {
    "id": "fQy3YeVzJEkT"
   },
   "outputs": [],
   "source": [
    "date_ranges = pd.DataFrame(pd.date_range(start=min_date_all, end = max_date_all ,freq = '1H').to_list())"
   ]
  },
  {
   "cell_type": "markdown",
   "metadata": {
    "id": "MQMUxAvFJEkU"
   },
   "source": [
    "DataFrame with all the ids\n"
   ]
  },
  {
   "cell_type": "code",
   "execution_count": 86,
   "metadata": {
    "id": "9Z5wzcMQJEkU"
   },
   "outputs": [],
   "source": [
    "id_ranges = pd.DataFrame(sensors['compressorID'].unique())"
   ]
  },
  {
   "cell_type": "code",
   "execution_count": 87,
   "metadata": {
    "id": "KnyGgPUdJEkU"
   },
   "outputs": [],
   "source": [
    "id_ranges.columns = ['compressorID']"
   ]
  },
  {
   "cell_type": "markdown",
   "metadata": {
    "id": "3NPWvXLIJEkU"
   },
   "source": [
    "Merge dataframes and get all the dates and compressors"
   ]
  },
  {
   "cell_type": "code",
   "execution_count": 88,
   "metadata": {
    "id": "VHOPe0SZJEkU"
   },
   "outputs": [],
   "source": [
    "date_ranges.columns = ['datetime']"
   ]
  },
  {
   "cell_type": "code",
   "execution_count": 89,
   "metadata": {
    "id": "FqntHAFLJEkU"
   },
   "outputs": [],
   "source": [
    "id_ranges['tmp'] = 1\n",
    "date_ranges['tmp'] = 1"
   ]
  },
  {
   "cell_type": "code",
   "execution_count": 90,
   "metadata": {
    "id": "1QOuZfzeJEkU"
   },
   "outputs": [],
   "source": [
    "date_id_all = pd.merge(date_ranges, id_ranges, on=['tmp'] , how = 'outer')\n",
    "date_id_all = date_id_all.drop('tmp', axis=1)"
   ]
  },
  {
   "cell_type": "code",
   "execution_count": 91,
   "metadata": {
    "colab": {
     "base_uri": "https://localhost:8080/"
    },
    "id": "wAkGemh9JEkU",
    "outputId": "dddb37c6-936f-46af-bd92-a2d0005ee6f2"
   },
   "outputs": [
    {
     "data": {
      "text/html": [
       "<div>\n",
       "<style scoped>\n",
       "    .dataframe tbody tr th:only-of-type {\n",
       "        vertical-align: middle;\n",
       "    }\n",
       "\n",
       "    .dataframe tbody tr th {\n",
       "        vertical-align: top;\n",
       "    }\n",
       "\n",
       "    .dataframe thead th {\n",
       "        text-align: right;\n",
       "    }\n",
       "</style>\n",
       "<table border=\"1\" class=\"dataframe\">\n",
       "  <thead>\n",
       "    <tr style=\"text-align: right;\">\n",
       "      <th></th>\n",
       "      <th>datetime</th>\n",
       "      <th>compressorID</th>\n",
       "    </tr>\n",
       "  </thead>\n",
       "  <tbody>\n",
       "    <tr>\n",
       "      <th>0</th>\n",
       "      <td>2014-06-01 06:00:00</td>\n",
       "      <td>1</td>\n",
       "    </tr>\n",
       "    <tr>\n",
       "      <th>1</th>\n",
       "      <td>2014-06-01 06:00:00</td>\n",
       "      <td>2</td>\n",
       "    </tr>\n",
       "    <tr>\n",
       "      <th>2</th>\n",
       "      <td>2014-06-01 06:00:00</td>\n",
       "      <td>3</td>\n",
       "    </tr>\n",
       "    <tr>\n",
       "      <th>3</th>\n",
       "      <td>2014-06-01 06:00:00</td>\n",
       "      <td>4</td>\n",
       "    </tr>\n",
       "    <tr>\n",
       "      <th>4</th>\n",
       "      <td>2014-06-01 06:00:00</td>\n",
       "      <td>5</td>\n",
       "    </tr>\n",
       "    <tr>\n",
       "      <th>...</th>\n",
       "      <td>...</td>\n",
       "      <td>...</td>\n",
       "    </tr>\n",
       "    <tr>\n",
       "      <th>1391995</th>\n",
       "      <td>2016-01-02 05:00:00</td>\n",
       "      <td>96</td>\n",
       "    </tr>\n",
       "    <tr>\n",
       "      <th>1391996</th>\n",
       "      <td>2016-01-02 05:00:00</td>\n",
       "      <td>97</td>\n",
       "    </tr>\n",
       "    <tr>\n",
       "      <th>1391997</th>\n",
       "      <td>2016-01-02 05:00:00</td>\n",
       "      <td>98</td>\n",
       "    </tr>\n",
       "    <tr>\n",
       "      <th>1391998</th>\n",
       "      <td>2016-01-02 05:00:00</td>\n",
       "      <td>99</td>\n",
       "    </tr>\n",
       "    <tr>\n",
       "      <th>1391999</th>\n",
       "      <td>2016-01-02 05:00:00</td>\n",
       "      <td>100</td>\n",
       "    </tr>\n",
       "  </tbody>\n",
       "</table>\n",
       "<p>1392000 rows × 2 columns</p>\n",
       "</div>"
      ],
      "text/plain": [
       "                   datetime  compressorID\n",
       "0       2014-06-01 06:00:00             1\n",
       "1       2014-06-01 06:00:00             2\n",
       "2       2014-06-01 06:00:00             3\n",
       "3       2014-06-01 06:00:00             4\n",
       "4       2014-06-01 06:00:00             5\n",
       "...                     ...           ...\n",
       "1391995 2016-01-02 05:00:00            96\n",
       "1391996 2016-01-02 05:00:00            97\n",
       "1391997 2016-01-02 05:00:00            98\n",
       "1391998 2016-01-02 05:00:00            99\n",
       "1391999 2016-01-02 05:00:00           100\n",
       "\n",
       "[1392000 rows x 2 columns]"
      ]
     },
     "execution_count": 91,
     "metadata": {},
     "output_type": "execute_result"
    }
   ],
   "source": [
    "date_id_all"
   ]
  },
  {
   "cell_type": "markdown",
   "metadata": {
    "id": "8Pm4uDzOfZCe"
   },
   "source": [
    "The sensors dataframe is merged with the errors, maintenance and failures and a temporary dataframe is defined. After, also compressor information will be merged.\n",
    "\n",
    "With respect to last time, now we are using the dummies dataframes we created in the last step"
   ]
  },
  {
   "cell_type": "code",
   "execution_count": 92,
   "metadata": {
    "id": "zxzgSzzKfZCe"
   },
   "outputs": [],
   "source": [
    "# List with dataframes to be merged\n",
    "data_frames = [date_id_all, maintenance_dum, sensors, errors_dum, failures_dum]"
   ]
  },
  {
   "cell_type": "code",
   "execution_count": 93,
   "metadata": {
    "id": "zi-gCQSbfZCe"
   },
   "outputs": [],
   "source": [
    "# Using reduce funtion to include all the dataframes\n",
    "df_merged = reduce(lambda  left,right: pd.merge(left,right,on=['datetime', 'compressorID'],\n",
    "                                            how='outer', suffixes = ['_maint','_fail']), data_frames).fillna(0)"
   ]
  },
  {
   "cell_type": "code",
   "execution_count": 94,
   "metadata": {
    "colab": {
     "base_uri": "https://localhost:8080/"
    },
    "id": "A2-rLo9WfZCe",
    "outputId": "1372d869-00aa-4bc6-a05b-0e45b118ed41"
   },
   "outputs": [
    {
     "data": {
      "text/html": [
       "<div>\n",
       "<style scoped>\n",
       "    .dataframe tbody tr th:only-of-type {\n",
       "        vertical-align: middle;\n",
       "    }\n",
       "\n",
       "    .dataframe tbody tr th {\n",
       "        vertical-align: top;\n",
       "    }\n",
       "\n",
       "    .dataframe thead th {\n",
       "        text-align: right;\n",
       "    }\n",
       "</style>\n",
       "<table border=\"1\" class=\"dataframe\">\n",
       "  <thead>\n",
       "    <tr style=\"text-align: right;\">\n",
       "      <th></th>\n",
       "      <th>datetime</th>\n",
       "      <th>compressorID</th>\n",
       "      <th>comp1_maint</th>\n",
       "      <th>comp2_maint</th>\n",
       "      <th>comp3_maint</th>\n",
       "      <th>comp4_maint</th>\n",
       "      <th>current</th>\n",
       "      <th>rpm</th>\n",
       "      <th>pressure</th>\n",
       "      <th>vibration</th>\n",
       "      <th>error1</th>\n",
       "      <th>error2</th>\n",
       "      <th>error3</th>\n",
       "      <th>error4</th>\n",
       "      <th>error5</th>\n",
       "      <th>comp1_fail</th>\n",
       "      <th>comp2_fail</th>\n",
       "      <th>comp3_fail</th>\n",
       "      <th>comp4_fail</th>\n",
       "    </tr>\n",
       "  </thead>\n",
       "  <tbody>\n",
       "    <tr>\n",
       "      <th>0</th>\n",
       "      <td>2014-06-01 06:00:00</td>\n",
       "      <td>1</td>\n",
       "      <td>0.0</td>\n",
       "      <td>1.0</td>\n",
       "      <td>0.0</td>\n",
       "      <td>0.0</td>\n",
       "      <td>0.0</td>\n",
       "      <td>0.0</td>\n",
       "      <td>0.0</td>\n",
       "      <td>0.0</td>\n",
       "      <td>0.0</td>\n",
       "      <td>0.0</td>\n",
       "      <td>0.0</td>\n",
       "      <td>0.0</td>\n",
       "      <td>0.0</td>\n",
       "      <td>0.0</td>\n",
       "      <td>0.0</td>\n",
       "      <td>0.0</td>\n",
       "      <td>0.0</td>\n",
       "    </tr>\n",
       "    <tr>\n",
       "      <th>1</th>\n",
       "      <td>2014-06-01 06:00:00</td>\n",
       "      <td>2</td>\n",
       "      <td>0.0</td>\n",
       "      <td>0.0</td>\n",
       "      <td>0.0</td>\n",
       "      <td>0.0</td>\n",
       "      <td>0.0</td>\n",
       "      <td>0.0</td>\n",
       "      <td>0.0</td>\n",
       "      <td>0.0</td>\n",
       "      <td>0.0</td>\n",
       "      <td>0.0</td>\n",
       "      <td>0.0</td>\n",
       "      <td>0.0</td>\n",
       "      <td>0.0</td>\n",
       "      <td>0.0</td>\n",
       "      <td>0.0</td>\n",
       "      <td>0.0</td>\n",
       "      <td>0.0</td>\n",
       "    </tr>\n",
       "    <tr>\n",
       "      <th>2</th>\n",
       "      <td>2014-06-01 06:00:00</td>\n",
       "      <td>3</td>\n",
       "      <td>0.0</td>\n",
       "      <td>0.0</td>\n",
       "      <td>0.0</td>\n",
       "      <td>0.0</td>\n",
       "      <td>0.0</td>\n",
       "      <td>0.0</td>\n",
       "      <td>0.0</td>\n",
       "      <td>0.0</td>\n",
       "      <td>0.0</td>\n",
       "      <td>0.0</td>\n",
       "      <td>0.0</td>\n",
       "      <td>0.0</td>\n",
       "      <td>0.0</td>\n",
       "      <td>0.0</td>\n",
       "      <td>0.0</td>\n",
       "      <td>0.0</td>\n",
       "      <td>0.0</td>\n",
       "    </tr>\n",
       "    <tr>\n",
       "      <th>3</th>\n",
       "      <td>2014-06-01 06:00:00</td>\n",
       "      <td>4</td>\n",
       "      <td>0.0</td>\n",
       "      <td>0.0</td>\n",
       "      <td>0.0</td>\n",
       "      <td>0.0</td>\n",
       "      <td>0.0</td>\n",
       "      <td>0.0</td>\n",
       "      <td>0.0</td>\n",
       "      <td>0.0</td>\n",
       "      <td>0.0</td>\n",
       "      <td>0.0</td>\n",
       "      <td>0.0</td>\n",
       "      <td>0.0</td>\n",
       "      <td>0.0</td>\n",
       "      <td>0.0</td>\n",
       "      <td>0.0</td>\n",
       "      <td>0.0</td>\n",
       "      <td>0.0</td>\n",
       "    </tr>\n",
       "    <tr>\n",
       "      <th>4</th>\n",
       "      <td>2014-06-01 06:00:00</td>\n",
       "      <td>5</td>\n",
       "      <td>0.0</td>\n",
       "      <td>0.0</td>\n",
       "      <td>0.0</td>\n",
       "      <td>0.0</td>\n",
       "      <td>0.0</td>\n",
       "      <td>0.0</td>\n",
       "      <td>0.0</td>\n",
       "      <td>0.0</td>\n",
       "      <td>0.0</td>\n",
       "      <td>0.0</td>\n",
       "      <td>0.0</td>\n",
       "      <td>0.0</td>\n",
       "      <td>0.0</td>\n",
       "      <td>0.0</td>\n",
       "      <td>0.0</td>\n",
       "      <td>0.0</td>\n",
       "      <td>0.0</td>\n",
       "    </tr>\n",
       "  </tbody>\n",
       "</table>\n",
       "</div>"
      ],
      "text/plain": [
       "             datetime  compressorID  comp1_maint  comp2_maint  comp3_maint  \\\n",
       "0 2014-06-01 06:00:00             1          0.0          1.0          0.0   \n",
       "1 2014-06-01 06:00:00             2          0.0          0.0          0.0   \n",
       "2 2014-06-01 06:00:00             3          0.0          0.0          0.0   \n",
       "3 2014-06-01 06:00:00             4          0.0          0.0          0.0   \n",
       "4 2014-06-01 06:00:00             5          0.0          0.0          0.0   \n",
       "\n",
       "   comp4_maint  current  rpm  pressure  vibration  error1  error2  error3  \\\n",
       "0          0.0      0.0  0.0       0.0        0.0     0.0     0.0     0.0   \n",
       "1          0.0      0.0  0.0       0.0        0.0     0.0     0.0     0.0   \n",
       "2          0.0      0.0  0.0       0.0        0.0     0.0     0.0     0.0   \n",
       "3          0.0      0.0  0.0       0.0        0.0     0.0     0.0     0.0   \n",
       "4          0.0      0.0  0.0       0.0        0.0     0.0     0.0     0.0   \n",
       "\n",
       "   error4  error5  comp1_fail  comp2_fail  comp3_fail  comp4_fail  \n",
       "0     0.0     0.0         0.0         0.0         0.0         0.0  \n",
       "1     0.0     0.0         0.0         0.0         0.0         0.0  \n",
       "2     0.0     0.0         0.0         0.0         0.0         0.0  \n",
       "3     0.0     0.0         0.0         0.0         0.0         0.0  \n",
       "4     0.0     0.0         0.0         0.0         0.0         0.0  "
      ]
     },
     "execution_count": 94,
     "metadata": {},
     "output_type": "execute_result"
    }
   ],
   "source": [
    "df_merged.head()"
   ]
  },
  {
   "cell_type": "code",
   "execution_count": 95,
   "metadata": {
    "colab": {
     "base_uri": "https://localhost:8080/"
    },
    "id": "iJ7aniIYfZCe",
    "outputId": "d11efa0f-0a5d-48b7-fa50-418e06d9c494"
   },
   "outputs": [
    {
     "data": {
      "text/plain": [
       "0.0    1391189\n",
       "1.0        811\n",
       "Name: comp4_maint, dtype: int64"
      ]
     },
     "execution_count": 95,
     "metadata": {},
     "output_type": "execute_result"
    }
   ],
   "source": [
    "# Check that the real number of failures is kept\n",
    "# We are not losing data\n",
    "df_merged['comp4_maint'].value_counts()"
   ]
  },
  {
   "cell_type": "markdown",
   "metadata": {
    "id": "K5Fd3fpcfZCf"
   },
   "source": [
    "### **Model Onehot**"
   ]
  },
  {
   "cell_type": "markdown",
   "metadata": {
    "id": "EpGg5sKefZCf"
   },
   "source": [
    "The model of the compressor is a categorical value. To avoid getting highly correlated information if dummifying all the compressor models, we will apply OneHot Encoder. Hence, one of the dummy model columns will be dropped to avoid extra information."
   ]
  },
  {
   "cell_type": "code",
   "execution_count": 96,
   "metadata": {
    "colab": {
     "base_uri": "https://localhost:8080/"
    },
    "id": "7nIDPa8WfZCf",
    "outputId": "72bd945f-f457-4abe-c127-aa5df34aabe3"
   },
   "outputs": [
    {
     "data": {
      "text/html": [
       "<div>\n",
       "<style scoped>\n",
       "    .dataframe tbody tr th:only-of-type {\n",
       "        vertical-align: middle;\n",
       "    }\n",
       "\n",
       "    .dataframe tbody tr th {\n",
       "        vertical-align: top;\n",
       "    }\n",
       "\n",
       "    .dataframe thead th {\n",
       "        text-align: right;\n",
       "    }\n",
       "</style>\n",
       "<table border=\"1\" class=\"dataframe\">\n",
       "  <thead>\n",
       "    <tr style=\"text-align: right;\">\n",
       "      <th></th>\n",
       "      <th>compressorID</th>\n",
       "      <th>model</th>\n",
       "      <th>age</th>\n",
       "    </tr>\n",
       "  </thead>\n",
       "  <tbody>\n",
       "    <tr>\n",
       "      <th>0</th>\n",
       "      <td>1</td>\n",
       "      <td>model3</td>\n",
       "      <td>18</td>\n",
       "    </tr>\n",
       "    <tr>\n",
       "      <th>1</th>\n",
       "      <td>2</td>\n",
       "      <td>model4</td>\n",
       "      <td>7</td>\n",
       "    </tr>\n",
       "    <tr>\n",
       "      <th>2</th>\n",
       "      <td>3</td>\n",
       "      <td>model3</td>\n",
       "      <td>8</td>\n",
       "    </tr>\n",
       "    <tr>\n",
       "      <th>3</th>\n",
       "      <td>4</td>\n",
       "      <td>model3</td>\n",
       "      <td>7</td>\n",
       "    </tr>\n",
       "    <tr>\n",
       "      <th>4</th>\n",
       "      <td>5</td>\n",
       "      <td>model3</td>\n",
       "      <td>2</td>\n",
       "    </tr>\n",
       "  </tbody>\n",
       "</table>\n",
       "</div>"
      ],
      "text/plain": [
       "   compressorID   model  age\n",
       "0             1  model3   18\n",
       "1             2  model4    7\n",
       "2             3  model3    8\n",
       "3             4  model3    7\n",
       "4             5  model3    2"
      ]
     },
     "execution_count": 96,
     "metadata": {},
     "output_type": "execute_result"
    }
   ],
   "source": [
    "# The compressor_info dataframe\n",
    "compressor_info.head()"
   ]
  },
  {
   "cell_type": "code",
   "execution_count": 97,
   "metadata": {
    "colab": {
     "base_uri": "https://localhost:8080/"
    },
    "id": "CT8BzrtCfZCf",
    "outputId": "eca0560e-5a19-43f0-c639-b0b3bb87653a"
   },
   "outputs": [
    {
     "data": {
      "text/html": [
       "<div>\n",
       "<style scoped>\n",
       "    .dataframe tbody tr th:only-of-type {\n",
       "        vertical-align: middle;\n",
       "    }\n",
       "\n",
       "    .dataframe tbody tr th {\n",
       "        vertical-align: top;\n",
       "    }\n",
       "\n",
       "    .dataframe thead th {\n",
       "        text-align: right;\n",
       "    }\n",
       "</style>\n",
       "<table border=\"1\" class=\"dataframe\">\n",
       "  <thead>\n",
       "    <tr style=\"text-align: right;\">\n",
       "      <th></th>\n",
       "      <th>compressorID</th>\n",
       "      <th>age</th>\n",
       "      <th>model2</th>\n",
       "      <th>model3</th>\n",
       "      <th>model4</th>\n",
       "    </tr>\n",
       "  </thead>\n",
       "  <tbody>\n",
       "    <tr>\n",
       "      <th>0</th>\n",
       "      <td>1</td>\n",
       "      <td>18</td>\n",
       "      <td>0</td>\n",
       "      <td>1</td>\n",
       "      <td>0</td>\n",
       "    </tr>\n",
       "    <tr>\n",
       "      <th>1</th>\n",
       "      <td>2</td>\n",
       "      <td>7</td>\n",
       "      <td>0</td>\n",
       "      <td>0</td>\n",
       "      <td>1</td>\n",
       "    </tr>\n",
       "    <tr>\n",
       "      <th>2</th>\n",
       "      <td>3</td>\n",
       "      <td>8</td>\n",
       "      <td>0</td>\n",
       "      <td>1</td>\n",
       "      <td>0</td>\n",
       "    </tr>\n",
       "    <tr>\n",
       "      <th>3</th>\n",
       "      <td>4</td>\n",
       "      <td>7</td>\n",
       "      <td>0</td>\n",
       "      <td>1</td>\n",
       "      <td>0</td>\n",
       "    </tr>\n",
       "    <tr>\n",
       "      <th>4</th>\n",
       "      <td>5</td>\n",
       "      <td>2</td>\n",
       "      <td>0</td>\n",
       "      <td>1</td>\n",
       "      <td>0</td>\n",
       "    </tr>\n",
       "  </tbody>\n",
       "</table>\n",
       "</div>"
      ],
      "text/plain": [
       "   compressorID  age  model2  model3  model4\n",
       "0             1   18       0       1       0\n",
       "1             2    7       0       0       1\n",
       "2             3    8       0       1       0\n",
       "3             4    7       0       1       0\n",
       "4             5    2       0       1       0"
      ]
     },
     "execution_count": 97,
     "metadata": {},
     "output_type": "execute_result"
    }
   ],
   "source": [
    "# We drop the first column to avoid extra correlated information\n",
    "model_dummies = pd.get_dummies(compressor_info, columns = ['model'], drop_first=True)\n",
    "model_dummies.columns = [\"compressorID\", \"age\", \"model2\", \"model3\", \"model4\"]\n",
    "model_dummies.head()"
   ]
  },
  {
   "cell_type": "code",
   "execution_count": 98,
   "metadata": {
    "id": "0BPtN6VrfZCg"
   },
   "outputs": [],
   "source": [
    "# Columns for the models\n",
    "cols_model_dum = [col for col in model_dummies.columns if \"model\" in col]"
   ]
  },
  {
   "cell_type": "code",
   "execution_count": 99,
   "metadata": {
    "colab": {
     "base_uri": "https://localhost:8080/"
    },
    "id": "4j80oC2vfZCg",
    "outputId": "257070e3-2b4f-40e8-e9e0-4b907717b89a"
   },
   "outputs": [
    {
     "data": {
      "text/plain": [
       "model2  model3  model4\n",
       "0       1       0         35\n",
       "        0       1         32\n",
       "1       0       0         17\n",
       "0       0       0         16\n",
       "dtype: int64"
      ]
     },
     "execution_count": 99,
     "metadata": {},
     "output_type": "execute_result"
    }
   ],
   "source": [
    "# We can see the 4 different models are being taken into account\n",
    "model_dummies[cols_model_dum].value_counts()"
   ]
  },
  {
   "cell_type": "markdown",
   "metadata": {
    "id": "KRzNji7efZCg"
   },
   "source": [
    "Add the model to the temporary merged data created before. \n",
    "\n",
    "At this stage we built the first raw dataframe and we are ready to see how the predictive model will perform without any feature engineering applied.\n"
   ]
  },
  {
   "cell_type": "code",
   "execution_count": 100,
   "metadata": {
    "colab": {
     "base_uri": "https://localhost:8080/"
    },
    "id": "EpWAfhd7fZCg",
    "outputId": "d55a3571-8d61-4971-ecd5-860cf1bf2f02"
   },
   "outputs": [
    {
     "data": {
      "text/html": [
       "<div>\n",
       "<style scoped>\n",
       "    .dataframe tbody tr th:only-of-type {\n",
       "        vertical-align: middle;\n",
       "    }\n",
       "\n",
       "    .dataframe tbody tr th {\n",
       "        vertical-align: top;\n",
       "    }\n",
       "\n",
       "    .dataframe thead th {\n",
       "        text-align: right;\n",
       "    }\n",
       "</style>\n",
       "<table border=\"1\" class=\"dataframe\">\n",
       "  <thead>\n",
       "    <tr style=\"text-align: right;\">\n",
       "      <th></th>\n",
       "      <th>datetime</th>\n",
       "      <th>compressorID</th>\n",
       "      <th>comp1_maint</th>\n",
       "      <th>comp2_maint</th>\n",
       "      <th>comp3_maint</th>\n",
       "      <th>comp4_maint</th>\n",
       "      <th>current</th>\n",
       "      <th>rpm</th>\n",
       "      <th>pressure</th>\n",
       "      <th>vibration</th>\n",
       "      <th>...</th>\n",
       "      <th>error4</th>\n",
       "      <th>error5</th>\n",
       "      <th>comp1_fail</th>\n",
       "      <th>comp2_fail</th>\n",
       "      <th>comp3_fail</th>\n",
       "      <th>comp4_fail</th>\n",
       "      <th>age</th>\n",
       "      <th>model2</th>\n",
       "      <th>model3</th>\n",
       "      <th>model4</th>\n",
       "    </tr>\n",
       "  </thead>\n",
       "  <tbody>\n",
       "    <tr>\n",
       "      <th>0</th>\n",
       "      <td>2014-06-01 06:00:00</td>\n",
       "      <td>1</td>\n",
       "      <td>0.0</td>\n",
       "      <td>1.0</td>\n",
       "      <td>0.0</td>\n",
       "      <td>0.0</td>\n",
       "      <td>0.0</td>\n",
       "      <td>0.0</td>\n",
       "      <td>0.0</td>\n",
       "      <td>0.0</td>\n",
       "      <td>...</td>\n",
       "      <td>0.0</td>\n",
       "      <td>0.0</td>\n",
       "      <td>0.0</td>\n",
       "      <td>0.0</td>\n",
       "      <td>0.0</td>\n",
       "      <td>0.0</td>\n",
       "      <td>18</td>\n",
       "      <td>0</td>\n",
       "      <td>1</td>\n",
       "      <td>0</td>\n",
       "    </tr>\n",
       "    <tr>\n",
       "      <th>1</th>\n",
       "      <td>2014-06-01 07:00:00</td>\n",
       "      <td>1</td>\n",
       "      <td>0.0</td>\n",
       "      <td>0.0</td>\n",
       "      <td>0.0</td>\n",
       "      <td>0.0</td>\n",
       "      <td>0.0</td>\n",
       "      <td>0.0</td>\n",
       "      <td>0.0</td>\n",
       "      <td>0.0</td>\n",
       "      <td>...</td>\n",
       "      <td>0.0</td>\n",
       "      <td>0.0</td>\n",
       "      <td>0.0</td>\n",
       "      <td>0.0</td>\n",
       "      <td>0.0</td>\n",
       "      <td>0.0</td>\n",
       "      <td>18</td>\n",
       "      <td>0</td>\n",
       "      <td>1</td>\n",
       "      <td>0</td>\n",
       "    </tr>\n",
       "    <tr>\n",
       "      <th>2</th>\n",
       "      <td>2014-06-01 08:00:00</td>\n",
       "      <td>1</td>\n",
       "      <td>0.0</td>\n",
       "      <td>0.0</td>\n",
       "      <td>0.0</td>\n",
       "      <td>0.0</td>\n",
       "      <td>0.0</td>\n",
       "      <td>0.0</td>\n",
       "      <td>0.0</td>\n",
       "      <td>0.0</td>\n",
       "      <td>...</td>\n",
       "      <td>0.0</td>\n",
       "      <td>0.0</td>\n",
       "      <td>0.0</td>\n",
       "      <td>0.0</td>\n",
       "      <td>0.0</td>\n",
       "      <td>0.0</td>\n",
       "      <td>18</td>\n",
       "      <td>0</td>\n",
       "      <td>1</td>\n",
       "      <td>0</td>\n",
       "    </tr>\n",
       "    <tr>\n",
       "      <th>3</th>\n",
       "      <td>2014-06-01 09:00:00</td>\n",
       "      <td>1</td>\n",
       "      <td>0.0</td>\n",
       "      <td>0.0</td>\n",
       "      <td>0.0</td>\n",
       "      <td>0.0</td>\n",
       "      <td>0.0</td>\n",
       "      <td>0.0</td>\n",
       "      <td>0.0</td>\n",
       "      <td>0.0</td>\n",
       "      <td>...</td>\n",
       "      <td>0.0</td>\n",
       "      <td>0.0</td>\n",
       "      <td>0.0</td>\n",
       "      <td>0.0</td>\n",
       "      <td>0.0</td>\n",
       "      <td>0.0</td>\n",
       "      <td>18</td>\n",
       "      <td>0</td>\n",
       "      <td>1</td>\n",
       "      <td>0</td>\n",
       "    </tr>\n",
       "    <tr>\n",
       "      <th>4</th>\n",
       "      <td>2014-06-01 10:00:00</td>\n",
       "      <td>1</td>\n",
       "      <td>0.0</td>\n",
       "      <td>0.0</td>\n",
       "      <td>0.0</td>\n",
       "      <td>0.0</td>\n",
       "      <td>0.0</td>\n",
       "      <td>0.0</td>\n",
       "      <td>0.0</td>\n",
       "      <td>0.0</td>\n",
       "      <td>...</td>\n",
       "      <td>0.0</td>\n",
       "      <td>0.0</td>\n",
       "      <td>0.0</td>\n",
       "      <td>0.0</td>\n",
       "      <td>0.0</td>\n",
       "      <td>0.0</td>\n",
       "      <td>18</td>\n",
       "      <td>0</td>\n",
       "      <td>1</td>\n",
       "      <td>0</td>\n",
       "    </tr>\n",
       "  </tbody>\n",
       "</table>\n",
       "<p>5 rows × 23 columns</p>\n",
       "</div>"
      ],
      "text/plain": [
       "             datetime  compressorID  comp1_maint  comp2_maint  comp3_maint  \\\n",
       "0 2014-06-01 06:00:00             1          0.0          1.0          0.0   \n",
       "1 2014-06-01 07:00:00             1          0.0          0.0          0.0   \n",
       "2 2014-06-01 08:00:00             1          0.0          0.0          0.0   \n",
       "3 2014-06-01 09:00:00             1          0.0          0.0          0.0   \n",
       "4 2014-06-01 10:00:00             1          0.0          0.0          0.0   \n",
       "\n",
       "   comp4_maint  current  rpm  pressure  vibration  ...  error4  error5  \\\n",
       "0          0.0      0.0  0.0       0.0        0.0  ...     0.0     0.0   \n",
       "1          0.0      0.0  0.0       0.0        0.0  ...     0.0     0.0   \n",
       "2          0.0      0.0  0.0       0.0        0.0  ...     0.0     0.0   \n",
       "3          0.0      0.0  0.0       0.0        0.0  ...     0.0     0.0   \n",
       "4          0.0      0.0  0.0       0.0        0.0  ...     0.0     0.0   \n",
       "\n",
       "   comp1_fail  comp2_fail  comp3_fail  comp4_fail  age  model2  model3  model4  \n",
       "0         0.0         0.0         0.0         0.0   18       0       1       0  \n",
       "1         0.0         0.0         0.0         0.0   18       0       1       0  \n",
       "2         0.0         0.0         0.0         0.0   18       0       1       0  \n",
       "3         0.0         0.0         0.0         0.0   18       0       1       0  \n",
       "4         0.0         0.0         0.0         0.0   18       0       1       0  \n",
       "\n",
       "[5 rows x 23 columns]"
      ]
     },
     "execution_count": 100,
     "metadata": {},
     "output_type": "execute_result"
    }
   ],
   "source": [
    "compressors_all_data_hourly= df_merged.merge(model_dummies, how = 'inner' , on = 'compressorID')\n",
    "compressors_all_data_hourly.head()"
   ]
  },
  {
   "cell_type": "code",
   "execution_count": 101,
   "metadata": {
    "colab": {
     "base_uri": "https://localhost:8080/"
    },
    "id": "mrzAC14hfZCg",
    "outputId": "6dbdbbc1-313d-46bb-b78b-e85c4b4e0c6e"
   },
   "outputs": [
    {
     "data": {
      "text/plain": [
       "0.0    1390990\n",
       "1.0       1010\n",
       "Name: error1, dtype: int64"
      ]
     },
     "execution_count": 101,
     "metadata": {},
     "output_type": "execute_result"
    }
   ],
   "source": [
    "# Check that there was not information lose\n",
    "compressors_all_data_hourly['error1'].value_counts()"
   ]
  },
  {
   "cell_type": "code",
   "execution_count": 102,
   "metadata": {
    "colab": {
     "base_uri": "https://localhost:8080/"
    },
    "id": "yJHGry0xfZCg",
    "outputId": "1e2f83eb-172d-485d-f478-a372ca0e9357"
   },
   "outputs": [
    {
     "data": {
      "text/plain": [
       "0.0    1391196\n",
       "1.0        804\n",
       "Name: comp1_maint, dtype: int64"
      ]
     },
     "execution_count": 102,
     "metadata": {},
     "output_type": "execute_result"
    }
   ],
   "source": [
    "# Check that there was not information lose\n",
    "compressors_all_data_hourly['comp1_maint'].value_counts()"
   ]
  },
  {
   "cell_type": "code",
   "execution_count": 103,
   "metadata": {
    "colab": {
     "base_uri": "https://localhost:8080/"
    },
    "id": "N55iSRJofZCg",
    "outputId": "3bc914c9-a63c-4913-e27f-e821da5d1e2a"
   },
   "outputs": [
    {
     "data": {
      "text/plain": [
       "0.0    1391808\n",
       "1.0        192\n",
       "Name: comp1_fail, dtype: int64"
      ]
     },
     "execution_count": 103,
     "metadata": {},
     "output_type": "execute_result"
    }
   ],
   "source": [
    "# Check that there was not information lose\n",
    "compressors_all_data_hourly['comp1_fail'].value_counts()"
   ]
  },
  {
   "cell_type": "code",
   "execution_count": 104,
   "metadata": {
    "colab": {
     "base_uri": "https://localhost:8080/"
    },
    "id": "2P_ImxRWfZCh",
    "outputId": "3356ac1e-4880-4264-9db6-bd866cf5e80d"
   },
   "outputs": [
    {
     "data": {
      "text/plain": [
       "(array([], dtype=int64), array([], dtype=int64))"
      ]
     },
     "execution_count": 104,
     "metadata": {},
     "output_type": "execute_result"
    }
   ],
   "source": [
    "# We check there are non empty values\n",
    "np.where(compressors_all_data_hourly.isnull())"
   ]
  },
  {
   "cell_type": "code",
   "execution_count": 105,
   "metadata": {
    "colab": {
     "base_uri": "https://localhost:8080/"
    },
    "id": "HitjigKkfZCh",
    "outputId": "5bc6e421-8852-4772-c4f6-06e24211e128"
   },
   "outputs": [
    {
     "data": {
      "text/plain": [
       "datetime        datetime64[ns]\n",
       "compressorID             int64\n",
       "comp1_maint            float64\n",
       "comp2_maint            float64\n",
       "comp3_maint            float64\n",
       "comp4_maint            float64\n",
       "current                float64\n",
       "rpm                    float64\n",
       "pressure               float64\n",
       "vibration              float64\n",
       "error1                 float64\n",
       "error2                 float64\n",
       "error3                 float64\n",
       "error4                 float64\n",
       "error5                 float64\n",
       "comp1_fail             float64\n",
       "comp2_fail             float64\n",
       "comp3_fail             float64\n",
       "comp4_fail             float64\n",
       "age                      int64\n",
       "model2                   uint8\n",
       "model3                   uint8\n",
       "model4                   uint8\n",
       "dtype: object"
      ]
     },
     "execution_count": 105,
     "metadata": {},
     "output_type": "execute_result"
    }
   ],
   "source": [
    "# Check data types\n",
    "compressors_all_data_hourly.dtypes"
   ]
  },
  {
   "cell_type": "code",
   "execution_count": 106,
   "metadata": {
    "colab": {
     "base_uri": "https://localhost:8080/"
    },
    "id": "xJ68rnlBfZCh",
    "outputId": "3f3c87a4-ccd1-4894-dd4a-c31a9c1b04d4"
   },
   "outputs": [
    {
     "data": {
      "text/plain": [
       "DatetimeIndex([], dtype='datetime64[ns]', freq=None)"
      ]
     },
     "execution_count": 106,
     "metadata": {},
     "output_type": "execute_result"
    }
   ],
   "source": [
    "# We can also check if all the hour values are counted.\n",
    "pd.date_range(start = sensors[\"datetime\"].min(), end = sensors[\"datetime\"].max() , freq=\"h\").difference(compressors_all_data_hourly[\"datetime\"])"
   ]
  },
  {
   "cell_type": "markdown",
   "metadata": {
    "id": "Y9FmV0PnWhI5"
   },
   "source": [
    "## Generate CSV"
   ]
  },
  {
   "cell_type": "code",
   "execution_count": null,
   "metadata": {
    "id": "VOTqRUhIWSib"
   },
   "outputs": [],
   "source": [
    "sensors.to_csv('sensors_clean.csv')\n",
    "failures.to_csv('failures_clean.csv')\n",
    "\n",
    "errors.to_csv('errors_clean.csv')\n",
    "maintenance.to_csv('maintenance_clean.csv')\n",
    "compressor_info.to_csv('compressor_info_clean.csv')"
   ]
  },
  {
   "cell_type": "code",
   "execution_count": null,
   "metadata": {
    "id": "TM63rzYIA7ul"
   },
   "outputs": [],
   "source": [
    "compressors_all_data_hourly.to_csv('compressors_all_data_hourly.csv')"
   ]
  }
 ],
 "metadata": {
  "colab": {
   "authorship_tag": "ABX9TyP9Tc/0wNULYM2wcNLxpEy2",
   "collapsed_sections": [
    "GXrcaKpniQRx",
    "eJ9DrjWjlefp"
   ],
   "include_colab_link": true,
   "name": "02_EDA_git.ipynb",
   "provenance": [],
   "toc_visible": true
  },
  "kernelspec": {
   "display_name": "Python 3 (ipykernel)",
   "language": "python",
   "name": "python3"
  },
  "language_info": {
   "codemirror_mode": {
    "name": "ipython",
    "version": 3
   },
   "file_extension": ".py",
   "mimetype": "text/x-python",
   "name": "python",
   "nbconvert_exporter": "python",
   "pygments_lexer": "ipython3",
   "version": "3.9.6"
  }
 },
 "nbformat": 4,
 "nbformat_minor": 1
}
