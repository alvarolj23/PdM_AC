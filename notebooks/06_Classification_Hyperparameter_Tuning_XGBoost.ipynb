{
 "cells": [
  {
   "cell_type": "markdown",
   "metadata": {
    "id": "Xyj5qLqAgGzb"
   },
   "source": [
    "# System preparation"
   ]
  },
  {
   "cell_type": "markdown",
   "metadata": {
    "id": "eJ9DrjWjlefp"
   },
   "source": [
    "## Import libraries"
   ]
  },
  {
   "cell_type": "code",
   "execution_count": 4,
   "metadata": {
    "colab": {
     "base_uri": "https://localhost:8080/"
    },
    "executionInfo": {
     "elapsed": 3168,
     "status": "ok",
     "timestamp": 1643532394553,
     "user": {
      "displayName": "Alvaro Maria Diz",
      "photoUrl": "https://lh3.googleusercontent.com/a-/AOh14Giuutai_IbNVnvC4Beh-Byto_cZQYWl2mepxSIs-A8=s64",
      "userId": "17485357456412119731"
     },
     "user_tz": -60
    },
    "id": "Qty4wqqWVLIH",
    "outputId": "8af1130f-021a-43ac-cd4a-71f83aee6275"
   },
   "outputs": [
    {
     "name": "stdout",
     "output_type": "stream",
     "text": [
      "Collecting scikit-plot\n",
      "  Downloading scikit_plot-0.3.7-py3-none-any.whl (33 kB)\n",
      "Requirement already satisfied: scikit-learn>=0.18 in /usr/local/lib/python3.7/dist-packages (from scikit-plot) (1.0.2)\n",
      "Requirement already satisfied: joblib>=0.10 in /usr/local/lib/python3.7/dist-packages (from scikit-plot) (1.1.0)\n",
      "Requirement already satisfied: matplotlib>=1.4.0 in /usr/local/lib/python3.7/dist-packages (from scikit-plot) (3.2.2)\n",
      "Requirement already satisfied: scipy>=0.9 in /usr/local/lib/python3.7/dist-packages (from scikit-plot) (1.4.1)\n",
      "Requirement already satisfied: numpy>=1.11 in /usr/local/lib/python3.7/dist-packages (from matplotlib>=1.4.0->scikit-plot) (1.19.5)\n",
      "Requirement already satisfied: pyparsing!=2.0.4,!=2.1.2,!=2.1.6,>=2.0.1 in /usr/local/lib/python3.7/dist-packages (from matplotlib>=1.4.0->scikit-plot) (3.0.7)\n",
      "Requirement already satisfied: kiwisolver>=1.0.1 in /usr/local/lib/python3.7/dist-packages (from matplotlib>=1.4.0->scikit-plot) (1.3.2)\n",
      "Requirement already satisfied: cycler>=0.10 in /usr/local/lib/python3.7/dist-packages (from matplotlib>=1.4.0->scikit-plot) (0.11.0)\n",
      "Requirement already satisfied: python-dateutil>=2.1 in /usr/local/lib/python3.7/dist-packages (from matplotlib>=1.4.0->scikit-plot) (2.8.2)\n",
      "Requirement already satisfied: six>=1.5 in /usr/local/lib/python3.7/dist-packages (from python-dateutil>=2.1->matplotlib>=1.4.0->scikit-plot) (1.15.0)\n",
      "Requirement already satisfied: threadpoolctl>=2.0.0 in /usr/local/lib/python3.7/dist-packages (from scikit-learn>=0.18->scikit-plot) (3.0.0)\n",
      "Installing collected packages: scikit-plot\n",
      "Successfully installed scikit-plot-0.3.7\n"
     ]
    }
   ],
   "source": [
    "#pip install scikit-plot"
   ]
  },
  {
   "cell_type": "code",
   "execution_count": 1,
   "metadata": {
    "executionInfo": {
     "elapsed": 4023,
     "status": "ok",
     "timestamp": 1643532414985,
     "user": {
      "displayName": "Alvaro Maria Diz",
      "photoUrl": "https://lh3.googleusercontent.com/a-/AOh14Giuutai_IbNVnvC4Beh-Byto_cZQYWl2mepxSIs-A8=s64",
      "userId": "17485357456412119731"
     },
     "user_tz": -60
    },
    "id": "VDejO8dRlfFg"
   },
   "outputs": [],
   "source": [
    "# Graphics\n",
    "import matplotlib.pyplot as plt\n",
    "import seaborn as sns\n",
    "import scikitplot as skplt\n",
    "# Data \n",
    "import numpy as np\n",
    "import pandas as pd\n",
    "\n",
    "#Regular expressions\n",
    "import re as re\n",
    "\n",
    "# Utilities\n",
    "from time import time\n",
    "\n",
    "from sklearn import preprocessing\n",
    "from sklearn.preprocessing import MinMaxScaler\n",
    "from sklearn.preprocessing import OneHotEncoder\n",
    "from sklearn.preprocessing import scale\n",
    "\n",
    "\n",
    "from sklearn import model_selection\n",
    "from sklearn.model_selection import train_test_split\n",
    "\n",
    "from sklearn.model_selection import cross_validate\n",
    "from sklearn.model_selection import GridSearchCV, RandomizedSearchCV, StratifiedKFold\n",
    "from sklearn.model_selection import RepeatedKFold\n",
    "from sklearn.pipeline import Pipeline\n",
    "\n",
    "# Metrics\n",
    "from sklearn import metrics\n",
    "from sklearn.metrics import mean_squared_error, mean_absolute_error, r2_score\n",
    "# Classification\n",
    "from sklearn.metrics import confusion_matrix, recall_score, accuracy_score, precision_score, f1_score , roc_auc_score\n",
    "\n",
    "from sklearn.metrics import classification_report\n",
    "from sklearn.metrics import make_scorer\n",
    "from sklearn.metrics import average_precision_score\n",
    "from sklearn.metrics import precision_recall_curve\n",
    "from sklearn.metrics import roc_curve\n",
    "\n",
    "\n",
    "# Classification algorithms\n",
    "import xgboost as xgb\n",
    "from xgboost import XGBClassifier \n",
    "\n",
    "\n",
    "# Others\n",
    "import warnings\n",
    "from functools import reduce\n",
    "from pathlib import Path\n",
    "import os"
   ]
  },
  {
   "cell_type": "code",
   "execution_count": 2,
   "metadata": {
    "executionInfo": {
     "elapsed": 10,
     "status": "ok",
     "timestamp": 1643532414987,
     "user": {
      "displayName": "Alvaro Maria Diz",
      "photoUrl": "https://lh3.googleusercontent.com/a-/AOh14Giuutai_IbNVnvC4Beh-Byto_cZQYWl2mepxSIs-A8=s64",
      "userId": "17485357456412119731"
     },
     "user_tz": -60
    },
    "id": "DylJGrfnWaDh"
   },
   "outputs": [],
   "source": [
    "# Configurations.\n",
    "%matplotlib inline\n",
    "sns.set_style(\"darkgrid\")\n",
    "warnings.filterwarnings(\"ignore\")\n",
    "plt.rc(\"font\", family=\"serif\", size=15)"
   ]
  },
  {
   "cell_type": "markdown",
   "metadata": {
    "id": "oHM1WYHvSEja"
   },
   "source": [
    "# Data preparation"
   ]
  },
  {
   "cell_type": "markdown",
   "metadata": {
    "id": "E_9BxqhXH6Gi"
   },
   "source": [
    "### Load data\n",
    "\n"
   ]
  },
  {
   "cell_type": "markdown",
   "metadata": {
    "id": "30og02vqLBh7"
   },
   "source": [
    "Read the csv with the feature engineering applied before to the raw data."
   ]
  },
  {
   "cell_type": "code",
   "execution_count": 3,
   "metadata": {
    "executionInfo": {
     "elapsed": 2877,
     "status": "ok",
     "timestamp": 1643532417855,
     "user": {
      "displayName": "Alvaro Maria Diz",
      "photoUrl": "https://lh3.googleusercontent.com/a-/AOh14Giuutai_IbNVnvC4Beh-Byto_cZQYWl2mepxSIs-A8=s64",
      "userId": "17485357456412119731"
     },
     "user_tz": -60
    },
    "id": "wcIY03vsceWY"
   },
   "outputs": [],
   "source": [
    "compressors_all_data = pd.read_csv(\"../data/compressors_all_data_best_features_2days.csv\", error_bad_lines=False, index_col=0)"
   ]
  },
  {
   "cell_type": "code",
   "execution_count": 4,
   "metadata": {
    "executionInfo": {
     "elapsed": 6,
     "status": "ok",
     "timestamp": 1643532417856,
     "user": {
      "displayName": "Alvaro Maria Diz",
      "photoUrl": "https://lh3.googleusercontent.com/a-/AOh14Giuutai_IbNVnvC4Beh-Byto_cZQYWl2mepxSIs-A8=s64",
      "userId": "17485357456412119731"
     },
     "user_tz": -60
    },
    "id": "VWD00mdKceWY"
   },
   "outputs": [],
   "source": [
    "#Make sure the datetime format is correct\n",
    "compressors_all_data[\"datetime\"] = pd.to_datetime(compressors_all_data[\"datetime\"], format=\"%Y-%m-%d %H:%M:%S\")"
   ]
  },
  {
   "cell_type": "code",
   "execution_count": 5,
   "metadata": {
    "colab": {
     "base_uri": "https://localhost:8080/",
     "height": 0
    },
    "executionInfo": {
     "elapsed": 12,
     "status": "ok",
     "timestamp": 1643532418206,
     "user": {
      "displayName": "Alvaro Maria Diz",
      "photoUrl": "https://lh3.googleusercontent.com/a-/AOh14Giuutai_IbNVnvC4Beh-Byto_cZQYWl2mepxSIs-A8=s64",
      "userId": "17485357456412119731"
     },
     "user_tz": -60
    },
    "id": "rOROTU89EsFo",
    "outputId": "b3f8032e-cbe4-4718-8dcc-524bed78cc26"
   },
   "outputs": [
    {
     "data": {
      "text/html": [
       "<div>\n",
       "<style scoped>\n",
       "    .dataframe tbody tr th:only-of-type {\n",
       "        vertical-align: middle;\n",
       "    }\n",
       "\n",
       "    .dataframe tbody tr th {\n",
       "        vertical-align: top;\n",
       "    }\n",
       "\n",
       "    .dataframe thead th {\n",
       "        text-align: right;\n",
       "    }\n",
       "</style>\n",
       "<table border=\"1\" class=\"dataframe\">\n",
       "  <thead>\n",
       "    <tr style=\"text-align: right;\">\n",
       "      <th></th>\n",
       "      <th>compressorID</th>\n",
       "      <th>datetime</th>\n",
       "      <th>cycle</th>\n",
       "      <th>current_mean_3h</th>\n",
       "      <th>rpm_mean_3h</th>\n",
       "      <th>pressure_mean_3h</th>\n",
       "      <th>vibration_mean_3h</th>\n",
       "      <th>current_mean_lag_24h</th>\n",
       "      <th>rpm_mean_lag_24h</th>\n",
       "      <th>pressure_mean_lag_24h</th>\n",
       "      <th>...</th>\n",
       "      <th>s-8760</th>\n",
       "      <th>c-8760</th>\n",
       "      <th>comp1_fail</th>\n",
       "      <th>comp2_fail</th>\n",
       "      <th>comp3_fail</th>\n",
       "      <th>comp4_fail</th>\n",
       "      <th>rul_comp1</th>\n",
       "      <th>rul_comp2</th>\n",
       "      <th>rul_comp3</th>\n",
       "      <th>rul_comp4</th>\n",
       "    </tr>\n",
       "  </thead>\n",
       "  <tbody>\n",
       "    <tr>\n",
       "      <th>0</th>\n",
       "      <td>1</td>\n",
       "      <td>2015-01-01 09:00:00</td>\n",
       "      <td>1</td>\n",
       "      <td>170.028993</td>\n",
       "      <td>449.533798</td>\n",
       "      <td>94.592122</td>\n",
       "      <td>40.893502</td>\n",
       "      <td>NaN</td>\n",
       "      <td>NaN</td>\n",
       "      <td>NaN</td>\n",
       "      <td>...</td>\n",
       "      <td>0.000000</td>\n",
       "      <td>1.000000</td>\n",
       "      <td>0.0</td>\n",
       "      <td>0.0</td>\n",
       "      <td>0.0</td>\n",
       "      <td>0.0</td>\n",
       "      <td>63.875</td>\n",
       "      <td>108.875</td>\n",
       "      <td>NaN</td>\n",
       "      <td>3.875</td>\n",
       "    </tr>\n",
       "    <tr>\n",
       "      <th>1</th>\n",
       "      <td>1</td>\n",
       "      <td>2015-01-01 12:00:00</td>\n",
       "      <td>2</td>\n",
       "      <td>164.192565</td>\n",
       "      <td>403.949857</td>\n",
       "      <td>105.687417</td>\n",
       "      <td>34.255891</td>\n",
       "      <td>NaN</td>\n",
       "      <td>NaN</td>\n",
       "      <td>NaN</td>\n",
       "      <td>...</td>\n",
       "      <td>0.002152</td>\n",
       "      <td>0.999998</td>\n",
       "      <td>0.0</td>\n",
       "      <td>0.0</td>\n",
       "      <td>0.0</td>\n",
       "      <td>0.0</td>\n",
       "      <td>63.750</td>\n",
       "      <td>108.750</td>\n",
       "      <td>NaN</td>\n",
       "      <td>3.750</td>\n",
       "    </tr>\n",
       "    <tr>\n",
       "      <th>2</th>\n",
       "      <td>1</td>\n",
       "      <td>2015-01-01 15:00:00</td>\n",
       "      <td>3</td>\n",
       "      <td>168.134445</td>\n",
       "      <td>435.781707</td>\n",
       "      <td>107.793709</td>\n",
       "      <td>41.239405</td>\n",
       "      <td>NaN</td>\n",
       "      <td>NaN</td>\n",
       "      <td>NaN</td>\n",
       "      <td>...</td>\n",
       "      <td>0.004304</td>\n",
       "      <td>0.999991</td>\n",
       "      <td>0.0</td>\n",
       "      <td>0.0</td>\n",
       "      <td>0.0</td>\n",
       "      <td>0.0</td>\n",
       "      <td>63.625</td>\n",
       "      <td>108.625</td>\n",
       "      <td>NaN</td>\n",
       "      <td>3.625</td>\n",
       "    </tr>\n",
       "    <tr>\n",
       "      <th>3</th>\n",
       "      <td>1</td>\n",
       "      <td>2015-01-01 18:00:00</td>\n",
       "      <td>4</td>\n",
       "      <td>165.514453</td>\n",
       "      <td>430.472823</td>\n",
       "      <td>101.703289</td>\n",
       "      <td>40.373739</td>\n",
       "      <td>NaN</td>\n",
       "      <td>NaN</td>\n",
       "      <td>NaN</td>\n",
       "      <td>...</td>\n",
       "      <td>0.006455</td>\n",
       "      <td>0.999979</td>\n",
       "      <td>0.0</td>\n",
       "      <td>0.0</td>\n",
       "      <td>0.0</td>\n",
       "      <td>0.0</td>\n",
       "      <td>63.500</td>\n",
       "      <td>108.500</td>\n",
       "      <td>NaN</td>\n",
       "      <td>3.500</td>\n",
       "    </tr>\n",
       "    <tr>\n",
       "      <th>4</th>\n",
       "      <td>1</td>\n",
       "      <td>2015-01-01 21:00:00</td>\n",
       "      <td>5</td>\n",
       "      <td>168.809347</td>\n",
       "      <td>437.111120</td>\n",
       "      <td>90.911060</td>\n",
       "      <td>41.738542</td>\n",
       "      <td>NaN</td>\n",
       "      <td>NaN</td>\n",
       "      <td>NaN</td>\n",
       "      <td>...</td>\n",
       "      <td>0.008607</td>\n",
       "      <td>0.999963</td>\n",
       "      <td>0.0</td>\n",
       "      <td>0.0</td>\n",
       "      <td>0.0</td>\n",
       "      <td>0.0</td>\n",
       "      <td>63.375</td>\n",
       "      <td>108.375</td>\n",
       "      <td>NaN</td>\n",
       "      <td>3.375</td>\n",
       "    </tr>\n",
       "  </tbody>\n",
       "</table>\n",
       "<p>5 rows × 51 columns</p>\n",
       "</div>"
      ],
      "text/plain": [
       "   compressorID            datetime  cycle  current_mean_3h  rpm_mean_3h  \\\n",
       "0             1 2015-01-01 09:00:00      1       170.028993   449.533798   \n",
       "1             1 2015-01-01 12:00:00      2       164.192565   403.949857   \n",
       "2             1 2015-01-01 15:00:00      3       168.134445   435.781707   \n",
       "3             1 2015-01-01 18:00:00      4       165.514453   430.472823   \n",
       "4             1 2015-01-01 21:00:00      5       168.809347   437.111120   \n",
       "\n",
       "   pressure_mean_3h  vibration_mean_3h  current_mean_lag_24h  \\\n",
       "0         94.592122          40.893502                   NaN   \n",
       "1        105.687417          34.255891                   NaN   \n",
       "2        107.793709          41.239405                   NaN   \n",
       "3        101.703289          40.373739                   NaN   \n",
       "4         90.911060          41.738542                   NaN   \n",
       "\n",
       "   rpm_mean_lag_24h  pressure_mean_lag_24h  ...    s-8760    c-8760  \\\n",
       "0               NaN                    NaN  ...  0.000000  1.000000   \n",
       "1               NaN                    NaN  ...  0.002152  0.999998   \n",
       "2               NaN                    NaN  ...  0.004304  0.999991   \n",
       "3               NaN                    NaN  ...  0.006455  0.999979   \n",
       "4               NaN                    NaN  ...  0.008607  0.999963   \n",
       "\n",
       "   comp1_fail  comp2_fail  comp3_fail  comp4_fail  rul_comp1  rul_comp2  \\\n",
       "0         0.0         0.0         0.0         0.0     63.875    108.875   \n",
       "1         0.0         0.0         0.0         0.0     63.750    108.750   \n",
       "2         0.0         0.0         0.0         0.0     63.625    108.625   \n",
       "3         0.0         0.0         0.0         0.0     63.500    108.500   \n",
       "4         0.0         0.0         0.0         0.0     63.375    108.375   \n",
       "\n",
       "   rul_comp3  rul_comp4  \n",
       "0        NaN      3.875  \n",
       "1        NaN      3.750  \n",
       "2        NaN      3.625  \n",
       "3        NaN      3.500  \n",
       "4        NaN      3.375  \n",
       "\n",
       "[5 rows x 51 columns]"
      ]
     },
     "execution_count": 5,
     "metadata": {},
     "output_type": "execute_result"
    }
   ],
   "source": [
    "compressors_all_data.head()"
   ]
  },
  {
   "cell_type": "markdown",
   "metadata": {
    "id": "vthcecCXD8Wy"
   },
   "source": [
    "Create lists with the names of the columns for different data:\n",
    "- Sensors: telemetry information\n",
    "- Errors: compressor errors and counts\n",
    "- Maintenance: time since last maintenance\n",
    "- Model\n",
    "- Compressor information: Age\n",
    "- Failures: failures in the different components"
   ]
  },
  {
   "cell_type": "markdown",
   "metadata": {
    "id": "zYPbVxncuSl_"
   },
   "source": [
    "## Feature selection"
   ]
  },
  {
   "cell_type": "markdown",
   "metadata": {
    "id": "UKQQZYjTGWhY"
   },
   "source": [
    "Feature selection is the process of reducing the number of input variables when developing a predictive model. It is desirable to reduce the number of input variables to both reduce the computational cost of modeling and, in some cases, to improve the performance of the model."
   ]
  },
  {
   "cell_type": "code",
   "execution_count": 6,
   "metadata": {
    "executionInfo": {
     "elapsed": 10,
     "status": "ok",
     "timestamp": 1643532418206,
     "user": {
      "displayName": "Alvaro Maria Diz",
      "photoUrl": "https://lh3.googleusercontent.com/a-/AOh14Giuutai_IbNVnvC4Beh-Byto_cZQYWl2mepxSIs-A8=s64",
      "userId": "17485357456412119731"
     },
     "user_tz": -60
    },
    "id": "C0VgTRRvv-wz"
   },
   "outputs": [],
   "source": [
    "cols_failures_dum = [col for col in compressors_all_data.columns if 'fail' in col]\n",
    "cols_rul = [col for col in compressors_all_data.columns if 'rul' in col]"
   ]
  },
  {
   "cell_type": "code",
   "execution_count": 7,
   "metadata": {
    "executionInfo": {
     "elapsed": 10,
     "status": "ok",
     "timestamp": 1643532418207,
     "user": {
      "displayName": "Alvaro Maria Diz",
      "photoUrl": "https://lh3.googleusercontent.com/a-/AOh14Giuutai_IbNVnvC4Beh-Byto_cZQYWl2mepxSIs-A8=s64",
      "userId": "17485357456412119731"
     },
     "user_tz": -60
    },
    "id": "zLXJWux47cfN"
   },
   "outputs": [],
   "source": [
    "predictors = list(compressors_all_data.columns)\n",
    "predictors = [ele for ele in predictors if ele not in (cols_rul + cols_failures_dum + ['datetime']) ]"
   ]
  },
  {
   "cell_type": "code",
   "execution_count": 8,
   "metadata": {
    "executionInfo": {
     "elapsed": 11,
     "status": "ok",
     "timestamp": 1643532418208,
     "user": {
      "displayName": "Alvaro Maria Diz",
      "photoUrl": "https://lh3.googleusercontent.com/a-/AOh14Giuutai_IbNVnvC4Beh-Byto_cZQYWl2mepxSIs-A8=s64",
      "userId": "17485357456412119731"
     },
     "user_tz": -60
    },
    "id": "sudDabzDAlvE"
   },
   "outputs": [],
   "source": [
    "target = cols_failures_dum "
   ]
  },
  {
   "cell_type": "code",
   "execution_count": 9,
   "metadata": {
    "executionInfo": {
     "elapsed": 412,
     "status": "ok",
     "timestamp": 1643532418610,
     "user": {
      "displayName": "Alvaro Maria Diz",
      "photoUrl": "https://lh3.googleusercontent.com/a-/AOh14Giuutai_IbNVnvC4Beh-Byto_cZQYWl2mepxSIs-A8=s64",
      "userId": "17485357456412119731"
     },
     "user_tz": -60
    },
    "id": "_dgQI8QgBElZ"
   },
   "outputs": [],
   "source": [
    "X = compressors_all_data[(predictors+target)+ ['datetime']].dropna()\n",
    "y = compressors_all_data[(predictors+target)+ ['datetime']].dropna()"
   ]
  },
  {
   "cell_type": "code",
   "execution_count": 10,
   "metadata": {
    "executionInfo": {
     "elapsed": 7,
     "status": "ok",
     "timestamp": 1643532418611,
     "user": {
      "displayName": "Alvaro Maria Diz",
      "photoUrl": "https://lh3.googleusercontent.com/a-/AOh14Giuutai_IbNVnvC4Beh-Byto_cZQYWl2mepxSIs-A8=s64",
      "userId": "17485357456412119731"
     },
     "user_tz": -60
    },
    "id": "jxBCb9pV7aQv"
   },
   "outputs": [],
   "source": [
    "X = X[predictors+ ['datetime']]\n",
    "y= y[target+ ['datetime']]"
   ]
  },
  {
   "cell_type": "markdown",
   "metadata": {
    "id": "DkFwpEB6-9vB"
   },
   "source": [
    "## Model split: Training, Validation and Testing"
   ]
  },
  {
   "cell_type": "markdown",
   "metadata": {
    "id": "n6pEZHJn_O_8"
   },
   "source": [
    "When working with time series as in this thesis, partitioning in training, validation, and testing must be done carefully to avoid overestimating the performance of the models. \n",
    "\n",
    "Predictive models do not have advanced knowledge of future time trends - in practice, such trends are likely to exist and have an adverse impact on model performance. To get an accurate assessment of the performance of a predictive model, it is recommended to perform training on older records and validation / testing using the newer records.\n",
    "\n",
    "For both reasons, a time-dependent splitting strategy is an excellent choice for predictive maintenance models. The division is done by choosing a point in time according to the desired size of the training and test sets: all the records before the time point are used to train the model, and all the remaining records are used for testing."
   ]
  },
  {
   "cell_type": "code",
   "execution_count": 11,
   "metadata": {
    "executionInfo": {
     "elapsed": 7,
     "status": "ok",
     "timestamp": 1643532418612,
     "user": {
      "displayName": "Alvaro Maria Diz",
      "photoUrl": "https://lh3.googleusercontent.com/a-/AOh14Giuutai_IbNVnvC4Beh-Byto_cZQYWl2mepxSIs-A8=s64",
      "userId": "17485357456412119731"
     },
     "user_tz": -60
    },
    "id": "FR3oMp23-uVl"
   },
   "outputs": [],
   "source": [
    "# We establish the times corresponding to the records that will be used for training and tests.\n",
    "threshold_dates = [\n",
    "    pd.to_datetime(\"2015-09-30 01:00:00\"), pd.to_datetime(\"2015-10-01 01:00:00\")\n",
    "]"
   ]
  },
  {
   "cell_type": "code",
   "execution_count": 12,
   "metadata": {
    "executionInfo": {
     "elapsed": 7,
     "status": "ok",
     "timestamp": 1643532418612,
     "user": {
      "displayName": "Alvaro Maria Diz",
      "photoUrl": "https://lh3.googleusercontent.com/a-/AOh14Giuutai_IbNVnvC4Beh-Byto_cZQYWl2mepxSIs-A8=s64",
      "userId": "17485357456412119731"
     },
     "user_tz": -60
    },
    "id": "XtXpEomq_yLI"
   },
   "outputs": [],
   "source": [
    "# We make the partition of separate dates.\n",
    "last_train_date = threshold_dates[0]\n",
    "first_test_date = threshold_dates[1]"
   ]
  },
  {
   "cell_type": "code",
   "execution_count": 13,
   "metadata": {
    "colab": {
     "base_uri": "https://localhost:8080/"
    },
    "executionInfo": {
     "elapsed": 438,
     "status": "ok",
     "timestamp": 1643532419044,
     "user": {
      "displayName": "Alvaro Maria Diz",
      "photoUrl": "https://lh3.googleusercontent.com/a-/AOh14Giuutai_IbNVnvC4Beh-Byto_cZQYWl2mepxSIs-A8=s64",
      "userId": "17485357456412119731"
     },
     "user_tz": -60
    },
    "id": "hUnBkLf8AiXV",
    "outputId": "b7f5cc0e-685f-4fa0-bc23-8b19ef5d1332"
   },
   "outputs": [
    {
     "name": "stdout",
     "output_type": "stream",
     "text": [
      "216700 registers for trainning\n",
      "73900 registers for testing\n",
      "34.1% of the total data is used for testing\n"
     ]
    }
   ],
   "source": [
    "# Typically 20-30% of the data is used.\n",
    "X_train = X.loc[X[\"datetime\"] < last_train_date]\n",
    "y_train = y.loc[y[\"datetime\"] < last_train_date]\n",
    "\n",
    "X_test = X.loc[X[\"datetime\"] > first_test_date]\n",
    "y_test = y.loc[y[\"datetime\"] > first_test_date]\n",
    "\n",
    "print(f\"{X_train.shape[0]} registers for trainning\")\n",
    "print(f\"{X_test.shape[0]} registers for testing\")\n",
    "print(f\"{X_test.shape[0] / X_train.shape[0] * 100:0.1f}% of the total data is used for testing\")"
   ]
  },
  {
   "cell_type": "markdown",
   "metadata": {
    "id": "Abauc7ygA7DP"
   },
   "source": [
    "Check how many failures we have in the train and test"
   ]
  },
  {
   "cell_type": "code",
   "execution_count": 14,
   "metadata": {
    "colab": {
     "base_uri": "https://localhost:8080/"
    },
    "executionInfo": {
     "elapsed": 9,
     "status": "ok",
     "timestamp": 1643532419045,
     "user": {
      "displayName": "Alvaro Maria Diz",
      "photoUrl": "https://lh3.googleusercontent.com/a-/AOh14Giuutai_IbNVnvC4Beh-Byto_cZQYWl2mepxSIs-A8=s64",
      "userId": "17485357456412119731"
     },
     "user_tz": -60
    },
    "id": "t-EBgWM-Ayr7",
    "outputId": "5c909efe-6f1a-49ce-adca-934bf7de6fde"
   },
   "outputs": [
    {
     "name": "stdout",
     "output_type": "stream",
     "text": [
      "1.1% of the total cases are failures in the train dataset\n",
      "0.9% of the total cases are failures in the test dataset\n"
     ]
    }
   ],
   "source": [
    "fails_train = y_train[y_train[\"comp1_fail\"] != 0].shape[0]\n",
    "no_fails_train = y_train[y_train[\"comp1_fail\"] == 0].shape[0]\n",
    "fails_test = y_test[y_test[\"comp1_fail\"] != 0].shape[0]\n",
    "no_fails_test = y_test[y_test[\"comp1_fail\"] == 0].shape[0]\n",
    "\n",
    "print(f\"{fails_train / no_fails_train * 100:0.1f}% of the total cases are failures in the train dataset\")\n",
    "print(f\"{fails_test / no_fails_test * 100:0.1f}% of the total cases are failures in the test dataset\")"
   ]
  },
  {
   "cell_type": "markdown",
   "metadata": {
    "id": "sfTuqsN3BSAe"
   },
   "source": [
    "We see it's crearly an unbalanced problem. For class unbalance problems Get more data. Minor sample of the majority class. SMOTE (Synthetic Minority Over-sampling Technique). Assign weights to minority class."
   ]
  },
  {
   "cell_type": "markdown",
   "metadata": {
    "id": "7bsOcVzrx494"
   },
   "source": [
    "## Drop Datetime"
   ]
  },
  {
   "cell_type": "code",
   "execution_count": 15,
   "metadata": {
    "executionInfo": {
     "elapsed": 10,
     "status": "ok",
     "timestamp": 1643532419047,
     "user": {
      "displayName": "Alvaro Maria Diz",
      "photoUrl": "https://lh3.googleusercontent.com/a-/AOh14Giuutai_IbNVnvC4Beh-Byto_cZQYWl2mepxSIs-A8=s64",
      "userId": "17485357456412119731"
     },
     "user_tz": -60
    },
    "id": "yA0V0R1Wx8pw"
   },
   "outputs": [],
   "source": [
    "X.drop('datetime', axis=1,inplace=True)\n",
    "y.drop('datetime', axis=1,inplace=True)\n",
    "\n",
    "X_train.drop('datetime',axis=1,inplace=True)\n",
    "y_train.drop('datetime',axis=1,inplace=True)\n",
    "\n",
    "X_test.drop('datetime',axis=1,inplace=True)\n",
    "y_test.drop('datetime',axis=1,inplace=True)"
   ]
  },
  {
   "cell_type": "markdown",
   "metadata": {
    "id": "rqsN5rVpdvEh"
   },
   "source": [
    "# XGBoost Hyperparameter Tuning"
   ]
  },
  {
   "cell_type": "markdown",
   "metadata": {
    "id": "gSMn0j8Sz3mF"
   },
   "source": [
    "From the comparison before, one of the models with best performance is the XGBoost. We will tune the hyperparameters of the model to boost its performance."
   ]
  },
  {
   "cell_type": "markdown",
   "metadata": {
    "id": "8YIwUJFOC8HQ"
   },
   "source": [
    "## Finding best hyperparameters"
   ]
  },
  {
   "cell_type": "markdown",
   "metadata": {
    "id": "Asq6FJkrnBzW"
   },
   "source": [
    "### MVP"
   ]
  },
  {
   "cell_type": "markdown",
   "metadata": {
    "id": "_QjNIRy4p77F"
   },
   "source": [
    "In order to compare how the performance of the model will improve, we would use first the default parameters of the CGBClassifier and print some metrics to evaluate the performance"
   ]
  },
  {
   "cell_type": "code",
   "execution_count": 19,
   "metadata": {
    "id": "-Md2znZLnLgv"
   },
   "outputs": [],
   "source": [
    "xgb = XGBClassifier(objective='binary:logistic',eval_metric='auc')"
   ]
  },
  {
   "cell_type": "code",
   "execution_count": 20,
   "metadata": {
    "colab": {
     "base_uri": "https://localhost:8080/"
    },
    "executionInfo": {
     "elapsed": 152176,
     "status": "ok",
     "timestamp": 1642338353366,
     "user": {
      "displayName": "Alvaro Maria Diz",
      "photoUrl": "https://lh3.googleusercontent.com/a-/AOh14Giuutai_IbNVnvC4Beh-Byto_cZQYWl2mepxSIs-A8=s64",
      "userId": "17485357456412119731"
     },
     "user_tz": -60
    },
    "id": "rOnBEfLnnLgw",
    "outputId": "134a73a5-13ef-4075-9552-e1bcb3007318"
   },
   "outputs": [
    {
     "name": "stdout",
     "output_type": "stream",
     "text": [
      "Evaluation of comp1_fail\n",
      "Confusion matrix\n",
      "\n",
      " [[73068   137]\n",
      " [  234   461]]\n",
      "\n",
      "True Positives(TP) =  73068\n",
      "\n",
      "True Negatives(TN) =  461\n",
      "\n",
      "False Positives(FP) =  137\n",
      "\n",
      "False Negatives(FN) =  234\n",
      "\n",
      "AUC = 0.8307189478251427\n",
      "\n",
      "Evaluation of comp2_fail\n",
      "Confusion matrix\n",
      "\n",
      " [[72538   203]\n",
      " [  179   980]]\n",
      "\n",
      "True Positives(TP) =  72538\n",
      "\n",
      "True Negatives(TN) =  980\n",
      "\n",
      "False Positives(FP) =  203\n",
      "\n",
      "False Negatives(FN) =  179\n",
      "\n",
      "AUC = 0.9213828954927121\n",
      "\n",
      "Evaluation of comp3_fail\n",
      "Confusion matrix\n",
      "\n",
      " [[73342    87]\n",
      " [   62   409]]\n",
      "\n",
      "True Positives(TP) =  73342\n",
      "\n",
      "True Negatives(TN) =  409\n",
      "\n",
      "False Positives(FP) =  87\n",
      "\n",
      "False Negatives(FN) =  62\n",
      "\n",
      "AUC = 0.9335901812398238\n",
      "\n",
      "Evaluation of comp4_fail\n",
      "Confusion matrix\n",
      "\n",
      " [[73114   117]\n",
      " [   49   620]]\n",
      "\n",
      "True Positives(TP) =  73114\n",
      "\n",
      "True Negatives(TN) =  620\n",
      "\n",
      "False Positives(FP) =  117\n",
      "\n",
      "False Negatives(FN) =  49\n",
      "\n",
      "AUC = 0.9625793343622049\n",
      "\n"
     ]
    }
   ],
   "source": [
    "# Loop for the different components\n",
    "\n",
    "for comp in y_train.columns:\n",
    "  #exec('xgb = xgb_{}'.format(comp))\n",
    "  xgb.fit(X_train, y_train[comp])\n",
    "  y_pred = xgb.predict(X_test)\n",
    "  y_pred_prob = xgb.predict_proba(X_test)\n",
    "  # view confusion-matrix\n",
    "  # Print the Confusion Matrix and slice it into four pieces\n",
    "\n",
    "  from sklearn.metrics import confusion_matrix\n",
    "  cm = confusion_matrix(y_test[comp], y_pred)\n",
    "  print(f'Evaluation of {comp}')\n",
    "  print('Confusion matrix\\n\\n', cm)\n",
    "  print('\\nTrue Positives(TP) = ', cm[0,0])\n",
    "  print('\\nTrue Negatives(TN) = ', cm[1,1])\n",
    "  print('\\nFalse Positives(FP) = ', cm[0,1])\n",
    "  print('\\nFalse Negatives(FN) = ', cm[1,0])\n",
    "  print()\n",
    "  auc = roc_auc_score(y_test[comp], y_pred)\n",
    "  print(f'AUC = {auc}')\n",
    "  print()\n"
   ]
  },
  {
   "cell_type": "markdown",
   "metadata": {
    "id": "7aToQufn1SeM"
   },
   "source": [
    "### Randomized search"
   ]
  },
  {
   "cell_type": "markdown",
   "metadata": {
    "id": "laocwoGjqSwQ"
   },
   "source": [
    "We print the outputs counts to have an idea of what will our model be predicting. We see a clear unbalance were most of the cases we don't have any failure."
   ]
  },
  {
   "cell_type": "code",
   "execution_count": 21,
   "metadata": {
    "colab": {
     "base_uri": "https://localhost:8080/"
    },
    "executionInfo": {
     "elapsed": 13,
     "status": "ok",
     "timestamp": 1642702693210,
     "user": {
      "displayName": "Alvaro Maria Diz",
      "photoUrl": "https://lh3.googleusercontent.com/a-/AOh14Giuutai_IbNVnvC4Beh-Byto_cZQYWl2mepxSIs-A8=s64",
      "userId": "17485357456412119731"
     },
     "user_tz": -60
    },
    "id": "M2xARsUE47l2",
    "outputId": "89f0fbd2-caa6-4280-9b30-d9052c493742"
   },
   "outputs": [
    {
     "data": {
      "text/plain": [
       "comp1_fail  comp2_fail  comp3_fail  comp4_fail\n",
       "0.0         0.0         0.0         0.0           208233\n",
       "            1.0         0.0         0.0             2598\n",
       "1.0         0.0         0.0         0.0             2056\n",
       "0.0         0.0         0.0         1.0             1878\n",
       "                        1.0         0.0             1423\n",
       "            1.0         0.0         1.0              176\n",
       "1.0         1.0         0.0         0.0              112\n",
       "0.0         1.0         1.0         0.0               64\n",
       "1.0         0.0         0.0         1.0               64\n",
       "0.0         0.0         1.0         1.0               48\n",
       "1.0         0.0         1.0         0.0               48\n",
       "dtype: int64"
      ]
     },
     "execution_count": 21,
     "metadata": {},
     "output_type": "execute_result"
    }
   ],
   "source": [
    "y_train.value_counts()"
   ]
  },
  {
   "cell_type": "markdown",
   "metadata": {
    "id": "H4IRhnYlqR9n"
   },
   "source": [
    "**The XGBClassifier hyperparameters that will be used are:**\n",
    "\n",
    "\n",
    "* learning_rate => Learning rate used for reducing the gradient step.\n",
    "\n",
    "* max_depth => Control max depth of each trained tree.\n",
    "* subsample =>  Percentage of rows used per tree building iteration\n",
    "\n",
    "* scale_pos_weight => number of negative samples / number of positive samples"
   ]
  },
  {
   "cell_type": "code",
   "execution_count": 16,
   "metadata": {
    "id": "3pBVQckObyGb"
   },
   "outputs": [],
   "source": [
    "# A parameter grid for XGBoost\n",
    "params={ 'learning_rate': np.arange(0.01, 0.5, 0.05),\n",
    "         'max_depth': np.arange(3, 10, 2),\n",
    "         'subsample': np.arange( 0.2, 1, 0.3),  \n",
    "         'scale_pos_weight': [1, 20, 50, 100, 500]}"
   ]
  },
  {
   "cell_type": "markdown",
   "metadata": {},
   "source": [
    "**Parameters to set as default in the XGB Classifier.**\n",
    "\n",
    "Specify the learning task and the corresponding learning objective.\n",
    "- binary:logistic: logistic regression for binary classification, output probability\n",
    "\n",
    "Evaluation metrics for validation data.eval_metric\n",
    "- aucpr: Area under the PR curve. Available for binary classification and learning-to-rank tasks."
   ]
  },
  {
   "cell_type": "code",
   "execution_count": 17,
   "metadata": {
    "id": "fVj1ShuqoseV"
   },
   "outputs": [],
   "source": [
    "# fit model no training data\n",
    "xgb_classifier=XGBClassifier(objective = 'binary:logistic',\n",
    "                             use_label_encoder =False, \n",
    "                             eval_metric='aucpr',\n",
    "                             n_jobs=-1)\n"
   ]
  },
  {
   "cell_type": "code",
   "execution_count": 18,
   "metadata": {
    "id": "xJm9CqsLoza8"
   },
   "outputs": [],
   "source": [
    "folds = 5"
   ]
  },
  {
   "cell_type": "code",
   "execution_count": 19,
   "metadata": {
    "id": "6PTDBsP8ovzA"
   },
   "outputs": [],
   "source": [
    "stf_kf=StratifiedKFold(n_splits=folds)"
   ]
  },
  {
   "cell_type": "markdown",
   "metadata": {
    "id": "td0a2bOfqwcr"
   },
   "source": [
    "We search the best model based on the ROC AUC metric"
   ]
  },
  {
   "cell_type": "code",
   "execution_count": 20,
   "metadata": {
    "id": "wyOb6PGYgVfn"
   },
   "outputs": [],
   "source": [
    "rs_cv_classifier=RandomizedSearchCV(xgb_classifier,\n",
    "                                    param_distributions=params,\n",
    "                                    cv=stf_kf,\n",
    "                                    scoring='roc_auc',\n",
    "                                    n_jobs=-1)"
   ]
  },
  {
   "cell_type": "code",
   "execution_count": 21,
   "metadata": {
    "colab": {
     "base_uri": "https://localhost:8080/"
    },
    "executionInfo": {
     "elapsed": 3897027,
     "status": "ok",
     "timestamp": 1642455698052,
     "user": {
      "displayName": "Alvaro Maria Diz",
      "photoUrl": "https://lh3.googleusercontent.com/a-/AOh14Giuutai_IbNVnvC4Beh-Byto_cZQYWl2mepxSIs-A8=s64",
      "userId": "17485357456412119731"
     },
     "user_tz": -60
    },
    "id": "taRobdD6a-mp",
    "outputId": "23d126ea-ab34-4cca-d1b4-66c28d25ecb8"
   },
   "outputs": [
    {
     "name": "stdout",
     "output_type": "stream",
     "text": [
      "Best Parameter for comp1_fail: \n",
      " {'subsample': 0.2, 'scale_pos_weight': 100, 'max_depth': 5, 'learning_rate': 0.11}\n",
      "Total time 831.523818731308\n",
      "Confusion matrix\n",
      "\n",
      " [[72727   478]\n",
      " [  100   595]]\n",
      "\n",
      "True Positives(TP) =  72727\n",
      "\n",
      "True Negatives(TN) =  595\n",
      "\n",
      "False Positives(FP) =  478\n",
      "\n",
      "False Negatives(FN) =  100\n",
      "\n",
      "AUC = 0.9247927496401894\n",
      "\n",
      "Best Parameter for comp2_fail: \n",
      " {'subsample': 0.5, 'scale_pos_weight': 100, 'max_depth': 5, 'learning_rate': 0.060000000000000005}\n",
      "Total time 784.6266329288483\n",
      "Confusion matrix\n",
      "\n",
      " [[72008   733]\n",
      " [   33  1126]]\n",
      "\n",
      "True Positives(TP) =  72008\n",
      "\n",
      "True Negatives(TN) =  1126\n",
      "\n",
      "False Positives(FP) =  733\n",
      "\n",
      "False Negatives(FN) =  33\n",
      "\n",
      "AUC = 0.9807251653036512\n",
      "\n",
      "Best Parameter for comp3_fail: \n",
      " {'subsample': 0.8, 'scale_pos_weight': 1, 'max_depth': 3, 'learning_rate': 0.46}\n",
      "Total time 714.4464979171753\n",
      "Confusion matrix\n",
      "\n",
      " [[73346    83]\n",
      " [   52   419]]\n",
      "\n",
      "True Positives(TP) =  73346\n",
      "\n",
      "True Negatives(TN) =  419\n",
      "\n",
      "False Positives(FP) =  83\n",
      "\n",
      "False Negatives(FN) =  52\n",
      "\n",
      "AUC = 0.9442331296875915\n",
      "\n",
      "Best Parameter for comp4_fail: \n",
      " {'subsample': 0.5, 'scale_pos_weight': 20, 'max_depth': 3, 'learning_rate': 0.26}\n",
      "Total time 743.1433370113373\n",
      "Confusion matrix\n",
      "\n",
      " [[73043   188]\n",
      " [   33   636]]\n",
      "\n",
      "True Positives(TP) =  73043\n",
      "\n",
      "True Negatives(TN) =  636\n",
      "\n",
      "False Positives(FP) =  188\n",
      "\n",
      "False Negatives(FN) =  33\n",
      "\n",
      "AUC = 0.9740527134695648\n",
      "\n"
     ]
    }
   ],
   "source": [
    "for comp in y_train:\n",
    "  # execute search\n",
    "  start_time = time()\n",
    "\n",
    "  rs_cv_classifier.fit(X_train,y_train[comp])\n",
    "\n",
    "  rs_cv_time = time() - start_time\n",
    "\n",
    "  y_pred=rs_cv_classifier.predict(X_test)\n",
    "\n",
    "\n",
    "  print(f\"Best Parameter for {comp}: \\n\",rs_cv_classifier.best_params_)\n",
    "  print(f\"Total time {rs_cv_time}\")\n",
    "\n",
    "  cm = confusion_matrix(y_test[comp], y_pred)\n",
    "  print('Confusion matrix\\n\\n', cm)\n",
    "  print('\\nTrue Positives(TP) = ', cm[0,0])\n",
    "  print('\\nTrue Negatives(TN) = ', cm[1,1])\n",
    "  print('\\nFalse Positives(FP) = ', cm[0,1])\n",
    "  print('\\nFalse Negatives(FN) = ', cm[1,0])\n",
    "  print()\n",
    "  auc = roc_auc_score(y_test[comp], y_pred)\n",
    "  print(f'AUC = {auc}')\n",
    "  print()"
   ]
  },
  {
   "cell_type": "markdown",
   "metadata": {
    "id": "2c0dAcKUHaEh"
   },
   "source": [
    "## Best hyperparameters"
   ]
  },
  {
   "cell_type": "markdown",
   "metadata": {
    "id": "NXK5HYtRNdkj"
   },
   "source": [
    "We collect in a table the outputs from the Random Search in the previous step"
   ]
  },
  {
   "cell_type": "markdown",
   "metadata": {
    "id": "Ih0-TNlLEh7X"
   },
   "source": [
    "HyperParameter | Component 1 | Component 2 | Component 3 | Component 4  \n",
    "--- | --- | --- | --- | ---\n",
    "learning_rate | 0.11 | 0.06 | 0.21 | 0.26\n",
    "max_depth | 5 | 5 | 5 | 3\n",
    "subsamble| 0.2 | 0.5 | 0.8 | 0.5\n",
    "scale_pos_weight | 100 | 100 | 100 | 20"
   ]
  },
  {
   "cell_type": "code",
   "execution_count": 27,
   "metadata": {
    "executionInfo": {
     "elapsed": 574,
     "status": "ok",
     "timestamp": 1643532420127,
     "user": {
      "displayName": "Alvaro Maria Diz",
      "photoUrl": "https://lh3.googleusercontent.com/a-/AOh14Giuutai_IbNVnvC4Beh-Byto_cZQYWl2mepxSIs-A8=s64",
      "userId": "17485357456412119731"
     },
     "user_tz": -60
    },
    "id": "y2I6BCIlno5t"
   },
   "outputs": [],
   "source": [
    "xgb_comp1_fail = XGBClassifier(learning_rate=0.11,\n",
    "                                max_depth=5,\n",
    "                                subsample = 0.2,\n",
    "                                scale_pos_weight = 100,\n",
    "                                objective = 'binary:logistic',\n",
    "                                use_label_encoder =False, \n",
    "                                eval_metric='aucpr')"
   ]
  },
  {
   "cell_type": "code",
   "execution_count": 28,
   "metadata": {
    "executionInfo": {
     "elapsed": 9,
     "status": "ok",
     "timestamp": 1643532420128,
     "user": {
      "displayName": "Alvaro Maria Diz",
      "photoUrl": "https://lh3.googleusercontent.com/a-/AOh14Giuutai_IbNVnvC4Beh-Byto_cZQYWl2mepxSIs-A8=s64",
      "userId": "17485357456412119731"
     },
     "user_tz": -60
    },
    "id": "cxGhcuQ3nxVx"
   },
   "outputs": [],
   "source": [
    "xgb_comp2_fail = XGBClassifier(learning_rate=0.06,\n",
    "                                max_depth=5,\n",
    "                                subsample = 0.5,\n",
    "                                scale_pos_weight = 100,\n",
    "                                objective = 'binary:logistic',\n",
    "                                use_label_encoder =False, \n",
    "                                eval_metric='aucpr')"
   ]
  },
  {
   "cell_type": "code",
   "execution_count": 29,
   "metadata": {
    "executionInfo": {
     "elapsed": 6,
     "status": "ok",
     "timestamp": 1643532420128,
     "user": {
      "displayName": "Alvaro Maria Diz",
      "photoUrl": "https://lh3.googleusercontent.com/a-/AOh14Giuutai_IbNVnvC4Beh-Byto_cZQYWl2mepxSIs-A8=s64",
      "userId": "17485357456412119731"
     },
     "user_tz": -60
    },
    "id": "zFKAQP9hnx0q"
   },
   "outputs": [],
   "source": [
    "xgb_comp3_fail = XGBClassifier(learning_rate=0.21,\n",
    "                                max_depth=5,\n",
    "                                subsample = 0.8,\n",
    "                                scale_pos_weight = 100,\n",
    "                                objective = 'binary:logistic',\n",
    "                                use_label_encoder =False, \n",
    "                                eval_metric='aucpr')"
   ]
  },
  {
   "cell_type": "code",
   "execution_count": 30,
   "metadata": {
    "executionInfo": {
     "elapsed": 6,
     "status": "ok",
     "timestamp": 1643532420129,
     "user": {
      "displayName": "Alvaro Maria Diz",
      "photoUrl": "https://lh3.googleusercontent.com/a-/AOh14Giuutai_IbNVnvC4Beh-Byto_cZQYWl2mepxSIs-A8=s64",
      "userId": "17485357456412119731"
     },
     "user_tz": -60
    },
    "id": "Y0wLzE_qnydm"
   },
   "outputs": [],
   "source": [
    "xgb_comp4_fail = XGBClassifier(learning_rate=0.26,\n",
    "                                max_depth=3,\n",
    "                                subsample = 0.5,\n",
    "                                scale_pos_weight = 20,\n",
    "                                objective = 'binary:logistic',\n",
    "                                use_label_encoder =False, \n",
    "                                eval_metric='aucpr')"
   ]
  },
  {
   "cell_type": "markdown",
   "metadata": {
    "id": "WlM00rncOCBU"
   },
   "source": [
    "#### Report"
   ]
  },
  {
   "cell_type": "markdown",
   "metadata": {
    "id": "RvFov4tbrKTn"
   },
   "source": [
    "We create a report with the classification metrics for the models built in the previous step.\n",
    "\n",
    "- ROC Curves summarize the trade-off between the true positive rate and false positive rate for a predictive model using different probability thresholds.\n",
    "\n",
    "- Precision-Recall curves summarize the trade-off between the true positive rate and the positive predictive value for a predictive model using different probability thresholds.\n",
    "\n",
    "- ROC curves are appropriate when the observations are balanced between each class, whereas precision-recall curves are appropriate for imbalanced datasets."
   ]
  },
  {
   "cell_type": "code",
   "execution_count": 31,
   "metadata": {
    "colab": {
     "base_uri": "https://localhost:8080/",
     "height": 1000
    },
    "executionInfo": {
     "elapsed": 176634,
     "status": "ok",
     "timestamp": 1642532658854,
     "user": {
      "displayName": "Alvaro Maria Diz",
      "photoUrl": "https://lh3.googleusercontent.com/a-/AOh14Giuutai_IbNVnvC4Beh-Byto_cZQYWl2mepxSIs-A8=s64",
      "userId": "17485357456412119731"
     },
     "user_tz": -60
    },
    "id": "PWoJr7bZoUK-",
    "outputId": "a07543c7-24e8-4e1d-f1d3-c7702524a636"
   },
   "outputs": [
    {
     "name": "stdout",
     "output_type": "stream",
     "text": [
      "Evaluation of comp1_fail\n",
      "\n",
      "Confusion matrix\n",
      "\n",
      " [[72727   478]\n",
      " [  100   595]]\n",
      "\n",
      "True Positives(TP) =  72727\n",
      "\n",
      "True Negatives(TN) =  595\n",
      "\n",
      "False Positives(FP) =  478\n",
      "\n",
      "False Negatives(FN) =  100\n",
      "\n",
      "AUC = 0.9247927496401894\n",
      "\n",
      "              precision    recall  f1-score   support\n",
      "\n",
      "         0.0       1.00      0.99      1.00     73205\n",
      "         1.0       0.55      0.86      0.67       695\n",
      "\n",
      "    accuracy                           0.99     73900\n",
      "   macro avg       0.78      0.92      0.83     73900\n",
      "weighted avg       0.99      0.99      0.99     73900\n",
      "\n"
     ]
    },
    {
     "data": {
      "image/png": "[encoded data removed]",
      "text/plain": [
       "<Figure size 432x288 with 1 Axes>"
      ]
     },
     "metadata": {},
     "output_type": "display_data"
    },
    {
     "data": {
      "image/png": "[encoded data removed]",
      "text/plain": [
       "<Figure size 432x288 with 1 Axes>"
      ]
     },
     "metadata": {},
     "output_type": "display_data"
    },
    {
     "name": "stdout",
     "output_type": "stream",
     "text": [
      "\n",
      "Evaluation of comp2_fail\n",
      "\n",
      "Confusion matrix\n",
      "\n",
      " [[72008   733]\n",
      " [   33  1126]]\n",
      "\n",
      "True Positives(TP) =  72008\n",
      "\n",
      "True Negatives(TN) =  1126\n",
      "\n",
      "False Positives(FP) =  733\n",
      "\n",
      "False Negatives(FN) =  33\n",
      "\n",
      "AUC = 0.9807251653036512\n",
      "\n",
      "              precision    recall  f1-score   support\n",
      "\n",
      "         0.0       1.00      0.99      0.99     72741\n",
      "         1.0       0.61      0.97      0.75      1159\n",
      "\n",
      "    accuracy                           0.99     73900\n",
      "   macro avg       0.80      0.98      0.87     73900\n",
      "weighted avg       0.99      0.99      0.99     73900\n",
      "\n"
     ]
    },
    {
     "data": {
      "image/png": "[encoded data removed]",
      "text/plain": [
       "<Figure size 432x288 with 1 Axes>"
      ]
     },
     "metadata": {},
     "output_type": "display_data"
    },
    {
     "data": {
      "image/png": "[encoded data removed]",
      "text/plain": [
       "<Figure size 432x288 with 1 Axes>"
      ]
     },
     "metadata": {},
     "output_type": "display_data"
    },
    {
     "name": "stdout",
     "output_type": "stream",
     "text": [
      "\n",
      "Evaluation of comp3_fail\n",
      "\n",
      "Confusion matrix\n",
      "\n",
      " [[73340    89]\n",
      " [   40   431]]\n",
      "\n",
      "True Positives(TP) =  73340\n",
      "\n",
      "True Negatives(TN) =  431\n",
      "\n",
      "False Positives(FP) =  89\n",
      "\n",
      "False Negatives(FN) =  40\n",
      "\n",
      "AUC = 0.9569311273981057\n",
      "\n",
      "              precision    recall  f1-score   support\n",
      "\n",
      "         0.0       1.00      1.00      1.00     73429\n",
      "         1.0       0.83      0.92      0.87       471\n",
      "\n",
      "    accuracy                           1.00     73900\n",
      "   macro avg       0.91      0.96      0.93     73900\n",
      "weighted avg       1.00      1.00      1.00     73900\n",
      "\n"
     ]
    },
    {
     "data": {
      "image/png": "[encoded data removed]",
      "text/plain": [
       "<Figure size 432x288 with 1 Axes>"
      ]
     },
     "metadata": {},
     "output_type": "display_data"
    },
    {
     "data": {
      "image/png": "[encoded data removed]",
      "text/plain": [
       "<Figure size 432x288 with 1 Axes>"
      ]
     },
     "metadata": {},
     "output_type": "display_data"
    },
    {
     "name": "stdout",
     "output_type": "stream",
     "text": [
      "\n",
      "Evaluation of comp4_fail\n",
      "\n",
      "Confusion matrix\n",
      "\n",
      " [[73043   188]\n",
      " [   33   636]]\n",
      "\n",
      "True Positives(TP) =  73043\n",
      "\n",
      "True Negatives(TN) =  636\n",
      "\n",
      "False Positives(FP) =  188\n",
      "\n",
      "False Negatives(FN) =  33\n",
      "\n",
      "AUC = 0.9740527134695648\n",
      "\n",
      "              precision    recall  f1-score   support\n",
      "\n",
      "         0.0       1.00      1.00      1.00     73231\n",
      "         1.0       0.77      0.95      0.85       669\n",
      "\n",
      "    accuracy                           1.00     73900\n",
      "   macro avg       0.89      0.97      0.93     73900\n",
      "weighted avg       1.00      1.00      1.00     73900\n",
      "\n"
     ]
    },
    {
     "data": {
      "image/png": "[encoded data removed]",
      "text/plain": [
       "<Figure size 432x288 with 1 Axes>"
      ]
     },
     "metadata": {},
     "output_type": "display_data"
    },
    {
     "data": {
      "image/png": "[encoded data removed]",
      "text/plain": [
       "<Figure size 432x288 with 1 Axes>"
      ]
     },
     "metadata": {},
     "output_type": "display_data"
    },
    {
     "name": "stdout",
     "output_type": "stream",
     "text": [
      "\n"
     ]
    }
   ],
   "source": [
    "# Loop for the different components\n",
    "\n",
    "for comp in y_train.columns:\n",
    "  exec('xgb_temp = xgb_{}'.format(comp))\n",
    "  xgb_temp.fit(X_train, y_train[comp])\n",
    "  y_pred = xgb_temp.predict(X_test)\n",
    "  y_pred_prob = xgb_temp.predict_proba(X_test)[:,1]\n",
    "\n",
    "  # view confusion-matrix\n",
    "  # Print the Confusion Matrix and slice it into four pieces\n",
    "\n",
    "  cm = confusion_matrix(y_test[comp], y_pred)\n",
    "  print(f'Evaluation of {comp}')\n",
    "  print()\n",
    "  print('Confusion matrix\\n\\n', cm)\n",
    "  print('\\nTrue Positives(TP) = ', cm[0,0])\n",
    "  print('\\nTrue Negatives(TN) = ', cm[1,1])\n",
    "  print('\\nFalse Positives(FP) = ', cm[0,1])\n",
    "  print('\\nFalse Negatives(FN) = ', cm[1,0])\n",
    "  print()\n",
    "  auc = roc_auc_score(y_test[comp], y_pred)\n",
    "  print(f'AUC = {auc}')\n",
    "  print()\n",
    "\n",
    "  # Report\n",
    "  print(classification_report(y_test[comp], y_pred))\n",
    "\n",
    "  # Calculate area under the curve (logit_roc_auc)\n",
    "  logit_roc_auc = roc_auc_score(y_test[comp], y_pred) \n",
    "  # Plot ROC\n",
    "  fpr, tpr, thresholds = roc_curve(y_test[comp], y_pred_prob) \n",
    "  plt.figure()\n",
    "  plt.plot(fpr, tpr, label='Model (Area = %0.2f)' % logit_roc_auc) \n",
    "  plt.plot([0, 1], [0, 1],'r--')\n",
    "  plt.xlim([0.0, 1.0])\n",
    "  plt.ylim([0.0, 1.05])\n",
    "  plt.xlabel('False Positive Rate')\n",
    "  plt.ylabel('True Positive Rate')\n",
    "  plt.title('Receiver Operating Characteristic')\n",
    "  plt.legend(loc=\"lower right\")\n",
    "  #plt.savefig(f'XGBoost_ROC_{comp}')\n",
    "  plt.show()\n",
    "\n",
    "  # Get average precision\n",
    "  average_precision = average_precision_score(y_test[comp], y_pred)\n",
    "  # Plot PR\n",
    "  precision, recall, _ = precision_recall_curve(y_test[comp], y_pred_prob)\n",
    "  plt.step(recall, precision, color='b', alpha=0.2, where='post')\n",
    "  plt.fill_between(recall, precision, step='post', alpha=0.2, color='b')\n",
    "  plt.xlabel('Recall')\n",
    "  plt.ylabel('Precision')\n",
    "  plt.ylim([0.0, 1.05])\n",
    "  plt.xlim([0.0, 1.0])\n",
    "  plt.title(f'2-class Precision-Recall curve: AP={average_precision:.2f}')\n",
    "  #plt.savefig(f'XGBoost_PR_{comp}')\n",
    "  plt.show()\n",
    "\n",
    "  print()\n"
   ]
  },
  {
   "cell_type": "markdown",
   "metadata": {
    "id": "cjZxmmU_o2xK"
   },
   "source": [
    "# Save the best models"
   ]
  },
  {
   "cell_type": "markdown",
   "metadata": {
    "id": "3LcW7MQVo-G_"
   },
   "source": [
    "Let's define the hyperparameters of the models to be saved.\n",
    "The whole dataset will be used to fit the model and enrich both from the training and testing data.\n"
   ]
  },
  {
   "cell_type": "code",
   "execution_count": 32,
   "metadata": {
    "executionInfo": {
     "elapsed": 257611,
     "status": "ok",
     "timestamp": 1643532772865,
     "user": {
      "displayName": "Alvaro Maria Diz",
      "photoUrl": "https://lh3.googleusercontent.com/a-/AOh14Giuutai_IbNVnvC4Beh-Byto_cZQYWl2mepxSIs-A8=s64",
      "userId": "17485357456412119731"
     },
     "user_tz": -60
    },
    "id": "_f_eo7ZmRRGm"
   },
   "outputs": [],
   "source": [
    "for comp in y_train.columns:\n",
    "  exec('xgb_temp = xgb_{}'.format(comp))\n",
    "  xgb_temp.fit(X, y[comp])\n",
    "  xgb_temp.save_model(f\"xgb_model_{comp}.model\")"
   ]
  }
 ],
 "metadata": {
  "colab": {
   "authorship_tag": "ABX9TyOSZjqh9+vgGNG8PnJoyc+X",
   "collapsed_sections": [
    "Xyj5qLqAgGzb",
    "GXrcaKpniQRx",
    "eJ9DrjWjlefp",
    "oHM1WYHvSEja",
    "zYPbVxncuSl_",
    "DkFwpEB6-9vB",
    "7bsOcVzrx494",
    "7aToQufn1SeM",
    "2c0dAcKUHaEh",
    "cjZxmmU_o2xK"
   ],
   "name": "06_Classification_Hyperparameter_Tuning_XGBoost.ipynb",
   "provenance": [
    {
     "file_id": "1dGkT65sUdJjL3Td-hNAfZPLJmtMIDa9y",
     "timestamp": 1640433149543
    }
   ]
  },
  "kernelspec": {
   "display_name": "Python 3 (ipykernel)",
   "language": "python",
   "name": "python3"
  },
  "language_info": {
   "codemirror_mode": {
    "name": "ipython",
    "version": 3
   },
   "file_extension": ".py",
   "mimetype": "text/x-python",
   "name": "python",
   "nbconvert_exporter": "python",
   "pygments_lexer": "ipython3",
   "version": "3.9.6"
  }
 },
 "nbformat": 4,
 "nbformat_minor": 1
}
